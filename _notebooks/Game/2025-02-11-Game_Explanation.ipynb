{
 "cells": [
  {
   "cell_type": "raw",
   "metadata": {
    "vscode": {
     "languageId": "raw"
    }
   },
   "source": [
    "---\n",
    "layout: post\n",
    "title: Adventure Game\n",
    "description: Adventure Game!\n",
    "type: issues\n",
    "comments: true\n",
    "---\n"
   ]
  },
  {
   "cell_type": "markdown",
   "metadata": {},
   "source": [
    "# Plan for the Game\n",
    "\n",
    "For this project, we want to create a simple game that follows a time-traveling player. The first level of the game takes place in Ancient Egypt, where the player will be faced with four different NPCs--a rat guide, two different guards, and an evil cat. The rat guide narrates the objectives of the game as well as background info that will be used for the Ancient Egypt Quiz. The quiz will be given by another one of our NPCs, the Pyramid Guard. This guard, on collision, will prompt the player with a quiz about different facts about Ancient Egyptian culture. The player will have to submit their answers and will receive a score based on the accuracy of their answers. The Tomb Guard is the third NPC, and it gives a randomized greeting to the player on collision. There are four total greetings. Our last NPC is the Evil Cat, which chases the player around the screen. If the cat collides with the player, the game will end. The second level of the game will take place in Victorian England; it will have roughly the same mechanics--four NPCs, quizzes, something chasing the player, etc.\n",
    "\n",
    "### What we've already done\n",
    "\n",
    "We have created a flowchart that describes the different aspects of the game as well as the different game functions and variables. We have added small functions such as checkProximityToPlayer, setTimeout, and shuffleAnswers, and many more to more customize our game. We've created custom NPCs and a custom game logo to personalize the game and make it unique to ourselves. Each NPC sprite sheet was completely hand-drawn by us.\n",
    "\n",
    "### What we have yet to do\n",
    "\n",
    "We want to create a more solidified objective for the game, such as adding functions that allow the player to lose or win. We want to add a proper storyline to the game, adding more to the RPG aspect of it. This includes adding dialogue given by the NPCs where the player chooses different dialogue options in response, allowing the game to feel more immersive. We also have yet to add the level for Victorian England."
   ]
  },
  {
   "cell_type": "markdown",
   "metadata": {},
   "source": [
    "## Tinkers and More!\n",
    "\n",
    "### Completed Tinkers\n",
    "\n",
    "- We used the setTimeout() and customAlert functions to create an automated guide that describes Ancient Egypt in detail when the user interacts with the game.\n",
    "\n",
    "<img src=\"https://github.com/user-attachments/assets/e91c6335-d85a-48a4-9d57-5269e9f0eb3e\" style = \"width:400px;\">   <img src=\"https://github.com/user-attachments/assets/6586633a-9fdf-4b14-b08a-9813f8138187\" style = \"width:400px;\">"
   ]
  },
  {
   "cell_type": "code",
   "execution_count": null,
   "metadata": {
    "vscode": {
     "languageId": "javascript"
    }
   },
   "outputs": [],
   "source": [
    " // Custom alert function to handle sequential notifications\n",
    "    function customAlert(message, callback) {\n",
    "      alert(message);\n",
    "      if (callback) callback();\n",
    "    }\n",
    "\n",
    "    // Display the initial notification automatically\n",
    "    setTimeout(() => {\n",
    "      customAlert(image_data_egypt.greeting);\n",
    "    }, 1000); // Display the first notification 1 second after the game starts\n",
    "\n",
    "    // Function to handle player interaction and display Rat Guide notifications\n",
    "    function handlePlayerInteraction(event) {\n",
    "      const keys = [87, 65, 83, 68]; // W, A, S, D key codes\n",
    "      if (keys.includes(event.keyCode)) {\n",
    "        setTimeout(() => {\n",
    "          customAlert(sprite_data_guide.greeting_intro, () => {\n",
    "            customAlert(sprite_data_guide.greeting_info);\n",
    "          });\n",
    "        }, 500); // Display the Rat Guide notifications 0.5 seconds after interaction\n",
    "        window.removeEventListener('keydown', handlePlayerInteraction); // Remove the event listener after the first interaction\n",
    "      }\n",
    "    }"
   ]
  },
  {
   "cell_type": "markdown",
   "metadata": {},
   "source": [
    "- We used the Math.random() function to create 4 random greetings when the player interacts with the Tomb Guard.\n",
    "\n",
    "<img src = \"https://github.com/user-attachments/assets/b3b451e1-10d6-4daf-ab54-3071138674b6\" style = \"width:400px;\">   <img src = \"https://github.com/user-attachments/assets/c67adc8c-8215-4323-aba5-d369fcac7cab\" style = \"width:400px;\">"
   ]
  },
  {
   "cell_type": "code",
   "execution_count": null,
   "metadata": {
    "vscode": {
     "languageId": "javascript"
    }
   },
   "outputs": [],
   "source": [
    "\n",
    "const sprite_greet_tombguard = [\n",
    "    \"Ah, yes I've heard of you. I am the guardian of this tomb. I don't usually do this, but I'll let you pass just this once. Don't expect it again. Beware of the cat....\",\n",
    "    \"You again? I thought I told you to beware of the cat!\",\n",
    "    \"Welcome back, traveler. Remember, the cat is always watching.\",\n",
    "    \"I see you've returned. The cat is still out there, lurking.\"\n",
    "  ];\n",
    "\n",
    "//...\n",
    "reaction: () => {\n",
    "    const randomGreeting = sprite_data_tombguard.greetings[Math.floor(Math.random() * sprite_data_tombguard.greetings.length)];\n",
    "    alert(randomGreeting);\n",
    "  }\n",
    "};\n"
   ]
  },
  {
   "cell_type": "markdown",
   "metadata": {},
   "source": [
    "- We created a completely new quiz format that looks like a scroll from Ancient Egypt. It has multiple choice options and a score sheet. We did this by using the functions shuffleAnswers + shuffleQuestionsAndAnswers along with the openPanel method to successfully add user input and a test like feature.\n",
    "\n",
    "<img src = \"https://github.com/user-attachments/assets/481394b2-f69b-4540-9918-9c0c8c9e4251\" style = \"width:400px;\">   <img src = \"https://github.com/user-attachments/assets/ef509e4c-3362-4bdf-80a3-0055b4722479\" style = \"width:400px;\">   <img src = \"https://github.com/user-attachments/assets/44e99b81-f84d-4b2d-880b-294346a737f5\" style = \"width:400px;\">\n"
   ]
  },
  {
   "cell_type": "code",
   "execution_count": null,
   "metadata": {
    "vscode": {
     "languageId": "javascript"
    }
   },
   "outputs": [],
   "source": [
    "function shuffleAnswers(quizData) {\n",
    "    quizData.questions.forEach(question => {\n",
    "      const correctAnswer = question.options[question.correctAnswer];\n",
    "      const shuffledOptions = question.options\n",
    "        .map(option => ({ option, sort: Math.random() }))\n",
    "        .sort((a, b) => a.sort - b.sort)\n",
    "        .map(({ option }) => option);\n",
    "      question.correctAnswer = shuffledOptions.indexOf(correctAnswer);\n",
    "      question.options = shuffledOptions;\n",
    "    });\n",
    "  }\n",
    "\n",
    "  // Shuffle the questions and answers\n",
    "  function shuffleQuestionsAndAnswers(quizData) {\n",
    "    quizData.questions = quizData.questions\n",
    "      .map(question => ({ question, sort: Math.random() }))\n",
    "      .sort((a, b) => a.sort - b.sort)\n",
    "      .map(({ question }) => question);\n",
    "    shuffleAnswers(quizData);\n",
    "  }"
   ]
  },
  {
   "cell_type": "markdown",
   "metadata": {},
   "source": [
    "- We added the game logo in the adventureGame.md file using an \"img\" tag in HTML and then setting the id to overlayImage which let us style and manipulate the game logo using CSS.\n",
    "\n",
    "<img src = \"https://github.com/user-attachments/assets/164f242b-382d-4dcf-86d8-d0fdebd22507\" style = \"width:400px;\">   <img src = \"https://github.com/user-attachments/assets/c6f923db-dbe1-49af-a74f-fd182b774330\" style = \"width:400px;\">"
   ]
  },
  {
   "cell_type": "code",
   "execution_count": null,
   "metadata": {
    "vscode": {
     "languageId": "html"
    }
   },
   "outputs": [],
   "source": [
    "<div id=\"gameContainer\">\n",
    "    <div id=\"promptDropDown\" class=\"promptDropDown\" style=\"z-index: 9999\"></div>\n",
    "    <img src=\"{{site.baseurl}}/images/gamify/chronocrash.png\" alt=\"Chrono Crash\" id=\"overlayImage\">\n",
    "    <canvas id='gameCanvas'></canvas>\n",
    "</div>\n",
    "\n",
    "<script type=\"module\">\n",
    "    import GameControl from '{{site.baseurl}}/assets/js/adventureGame/GameControl.js';\n",
    "    const path = \"{{site.baseurl}}\";\n",
    "    new GameControl(path).start();\n",
    "</script>\n",
    "\n",
    "<style>\n",
    "    #gameContainer {\n",
    "        position: relative;\n",
    "        text-align: center;\n",
    "        min-height: 60vh; /* Ensure the game container takes up most of the viewport height */\n",
    "        margin-bottom: 20vh; /* Add space at the bottom for the footer */\n",
    "    }\n",
    "\n",
    "    #overlayImage {\n",
    "        width: 300px; /* Set a specific width to make the image smaller */\n",
    "        height: auto;\n",
    "        margin-bottom: 10px; /* Reduce space between the image and the canvas */\n",
    "    }\n",
    "\n",
    "    #gameCanvas {\n",
    "        display: block;\n",
    "        margin: 0 auto; /* Center the canvas */\n",
    "    }\n",
    "</style>"
   ]
  },
  {
   "cell_type": "markdown",
   "metadata": {},
   "source": [
    "### (Work in Progress)\n",
    "\n",
    "- We created Enemies that chase the player around in each level. In the Ancient Egypt level, there is a black cat that chases you around, and a dog that chases you around in the Victorian England level. The code for that is completed however transferring it to the website is something we are currently working on.\n",
    "\n",
    "- We are working on creating another level that begins when you interact with the Tomb Guard. It sends you into a tomb where an enemy chases you.\n",
    "\n",
    "- We created our own aspect of the StatsManager.js file that creates a chat score and a transcript function. We deleted most of the statistics due to it corrupting our file, however we want to implement it back into our code with the added Transcript function."
   ]
  },
  {
   "cell_type": "markdown",
   "metadata": {},
   "source": [
    "## Flow Chart\n",
    "<img src=\"https://github.com/user-attachments/assets/dc51db16-eda3-45b0-8a34-1f036f297cb0\" style = \"width:400px;\">"
   ]
  },
  {
   "cell_type": "markdown",
   "metadata": {},
   "source": [
    "# Game Structure Overview\n",
    "\n",
    "## 1. GameEnv (Game Environment)\n",
    "Defines the boundaries and overall environment settings.\n",
    "\n",
    "### Attributes:\n",
    "- maxWidth, maxHeight: Defines the game world size.\n",
    "\n",
    "### Functions:\n",
    "- setTop(), setBottom(): Set game boundaries.\n",
    "- setGameEnv(): Initializes the game environment.\n",
    "\n",
    "---\n",
    "\n",
    "## 2. GameObj (Game Object)\n",
    "A base class for all game objects, handling positioning and collisions.\n",
    "\n",
    "### Attributes:\n",
    "- static [] Game Objects: Stores all game objects.\n",
    "- x, y: Position of the object.\n",
    "- image: Image reference for rendering.\n",
    "- canvas, ctx: References to the HTML canvas.\n",
    "\n",
    "### Functions:\n",
    "- setX(x), setY(y): Updates object position.\n",
    "- isCollision(): Checks for collisions.\n",
    "- collisionActions(): Defines collision behaviors.\n",
    "\n",
    "---\n",
    "\n",
    "## 3. Characters\n",
    "A base class for all characters.\n",
    "\n",
    "### Attributes:\n",
    "- static [] Character Objects: Stores character instances.\n",
    "- spriteWidth, spriteHeight: Sprite dimensions.\n",
    "- frameX, frameY: Sprite animation frames.\n",
    "\n",
    "### Functions:\n",
    "- update(): Handles movement and interactions.\n",
    "- draw(): Renders the character.\n",
    "- size(): Defines character dimensions.\n",
    "\n",
    "---\n",
    "\n",
    "## 4. Targets\n",
    "A base class for objects the player interacts with.\n",
    "\n",
    "### Functions:\n",
    "- update(): Updates target behavior.\n",
    "- draw(): Renders the target.\n",
    "- size(): Defines target dimensions.\n",
    "\n",
    "---\n",
    "\n",
    "## 5. Background\n",
    "Defines the game's visual setting.\n",
    "\n",
    "### Functions:\n",
    "- update(): Updates background properties.\n",
    "- size(): Sets the background dimensions.\n",
    "- draw(): Renders the background.\n"
   ]
  },
  {
   "cell_type": "markdown",
   "metadata": {},
   "source": [
    "## Game Logo (Chrono - Crash)\n",
    "<img src=\"{{site.baseurl}}/images/gamify/chronocrash.png\" style=\"width:300px;\">"
   ]
  },
  {
   "cell_type": "markdown",
   "metadata": {},
   "source": [
    "## Ancient Egypt \n",
    "<img src=\"https://github.com/user-attachments/assets/b445e812-a489-4c0d-a96a-c8a1fda6c68c\" style=\"width:400px;\">\n"
   ]
  },
  {
   "cell_type": "markdown",
   "metadata": {},
   "source": [
    "## Victorian England\n",
    "<img src =\"https://github.com/user-attachments/assets/c1447f2d-f41f-48cf-a8c9-977229d4aba9\" style = \"width:400px;\">"
   ]
  },
  {
   "cell_type": "markdown",
   "metadata": {},
   "source": [
    "## Player Sprite Sheet\n",
    "<img src =\"https://github.com/user-attachments/assets/529ed915-2c0f-4d38-b8a5-65308cc00247\" style = \"width:300px;\">"
   ]
  },
  {
   "cell_type": "markdown",
   "metadata": {},
   "source": [
    "## Rat Guide\n",
    "<img src =\"https://github.com/user-attachments/assets/589f5123-c1b5-4b6c-986d-f996fa2196a2\" style = \"width:200px;\">"
   ]
  },
  {
   "cell_type": "markdown",
   "metadata": {},
   "source": [
    "## Tomb Guard\n",
    "<img src =\"https://github.com/user-attachments/assets/22c2f9b4-e035-424f-b286-c39d2a5569f3\" style = \"width:200px;\">"
   ]
  },
  {
   "cell_type": "markdown",
   "metadata": {},
   "source": [
    "## Pyramid Guard\n",
    "<img src =\"https://github.com/user-attachments/assets/964426c7-9753-4718-8f63-c4a3f79a957b\" style = \"width:200px;\">"
   ]
  },
  {
   "cell_type": "markdown",
   "metadata": {},
   "source": [
    "## Cat Enemy\n",
    "<img src =\"https://github.com/user-attachments/assets/e0584906-4a72-4849-93f4-7538a1a063ee\" style = \"width:200px;\">"
   ]
  },
  {
   "cell_type": "markdown",
   "metadata": {},
   "source": [
    "## Soldier\n",
    "<img src =\"https://github.com/user-attachments/assets/d10ab9b4-e0b1-4205-8afa-32fa15ba44d6\" style = \"width:200px;\">"
   ]
  },
  {
   "cell_type": "markdown",
   "metadata": {},
   "source": [
    "## Chimney Sweeper\n",
    "<img src =\"https://github.com/user-attachments/assets/0cf2fa52-2b72-4550-a6d3-54df3214fcec\" style = \"width:200px;\">"
   ]
  },
  {
   "cell_type": "markdown",
   "metadata": {},
   "source": [
    "## Dog Enemy\n",
    "<img src =\"https://github.com/user-attachments/assets/4666748d-192f-42a5-b626-652f37574679\" style = \"width:200px;\">"
   ]
  },
  {
   "cell_type": "markdown",
   "metadata": {},
   "source": []
  },
  {
   "cell_type": "markdown",
   "metadata": {},
   "source": [
    "#### Tanisha\n",
    "\n",
    "- Ancient Egypt Quiz\n",
    "- Change to another level transition -> firm idea\n",
    "- Clear plans for future lots of additions\n",
    "- Adding user input"
   ]
  },
  {
   "cell_type": "markdown",
   "metadata": {},
   "source": [
    "#### Anishka\n",
    "\n",
    "- Your game is great! I really like the visuals, and great job with the user interactions. I would recommend fixing the formatting of the quiz so that it doesn't blend in with the header of the website. But other than that, its really good."
   ]
  },
  {
   "cell_type": "markdown",
   "metadata": {},
   "source": [
    "#### Smatin\n",
    "\n",
    "- A minor comment. perhaps some liveliness in the surroundings might be good to have. For example, have some camel, some people walking wearing their cloths in that time etc.\n",
    "Great job, in general!"
   ]
  },
  {
   "cell_type": "markdown",
   "metadata": {},
   "source": [
    "#### Ritika\n",
    "\n",
    "- I love the visuals a lot! would love to see more characters or maybe the game having a bit more speed. However, I really really love it overall!"
   ]
  },
  {
   "cell_type": "markdown",
   "metadata": {},
   "source": [
    "#### Leila\n",
    "\n",
    "The game looks great, I extremely enjoy the background and the custom NPCs (thats incredible work). Also, I love the ideas for the continuation of the game, running back into a time machine with a cat chasing you sounds very epic. Great work!"
   ]
  },
  {
   "cell_type": "markdown",
   "metadata": {},
   "source": [
    "#### Evan S.\n",
    "\n",
    "- Great game so far! lots of room for future development and progress (very smart tactic ngl). Background looks good but game could benefit from a foreground of sorts to help differentiate walkable areas from background (i.e. make a certain area inaccessible for the sake of a BG). Also Npcs were really well done and this game has a lot of potential witht he text-based gameplay."
   ]
  },
  {
   "cell_type": "markdown",
   "metadata": {},
   "source": [
    "#### May\n",
    "\n",
    "- You guys did a great job! I like the design of the characters! Keep up the good work and continue to do more coding!"
   ]
  },
  {
   "cell_type": "markdown",
   "metadata": {},
   "source": [
    "#### Katherine Law\n",
    "\n",
    "- I liked the visuals and idea of trying to make it back before you run out of time. I suggest to see the enemy working and the tomb level. But overall the game is well developed and designed."
   ]
  },
  {
   "cell_type": "markdown",
   "metadata": {},
   "source": [
    "#### Yuna Lee\n",
    "\n",
    "- I loved the idea of having a background/place which is the tomb. and i think would be really interesting if you guys make the tomb working."
   ]
  }
 ],
 "metadata": {
  "kernelspec": {
   "display_name": "venv",
   "language": "python",
   "name": "python3"
  },
  "language_info": {
   "codemirror_mode": {
    "name": "ipython",
    "version": 3
   },
   "file_extension": ".py",
   "mimetype": "text/x-python",
   "name": "python",
   "nbconvert_exporter": "python",
   "pygments_lexer": "ipython3",
   "version": "3.13.1"
  }
 },
 "nbformat": 4,
 "nbformat_minor": 2
}
