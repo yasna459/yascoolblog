{
 "cells": [
  {
   "cell_type": "raw",
   "metadata": {
    "vscode": {
     "languageId": "raw"
    }
   },
   "source": [
    "---\n",
    "layout: post\n",
    "title: Adventure Game\n",
    "description: Adventure Game!\n",
    "type: issues\n",
    "comments: true\n",
    "---\n"
   ]
  },
  {
   "cell_type": "markdown",
   "metadata": {},
   "source": [
    "# Plan for the Game\n",
    "\n",
    "For this project, we want to create a game with two levels where the goal is to essentially use archery to shoot the target. The main target, which is malnourished Rachit, is worth 100 points. However, there are bigger targets called flower Rachits that are only worth 50 points. There is a rat narrator that guides the player and coaches the user to succeed in the game. The first level is set in a grassy forest with many trees. In the second level, the user needs to compete to win against the trainer. This is a much harder level because the pre-programmed trainer is very fast and can shoot more arrows faster. This level is set on the beach.\n",
    "\n",
    "### What we've already done\n",
    "We have created a flow chart that explains most of the javascript aspects to the game and explains what all of the in-game objects do and look like. Additionally, we've created pixel art for the flower and targets, along with the backgrounds. We are currently in the process of editing the adventureGame files by changing variables and adding the mechanics/physics that we need for our game.\n",
    "\n",
    "### What we're going to do\n",
    "We are going to add our images in place of the images already in the js files for Mr. Mortensen's adventure game. Then, we are going to add the key functions such as the space bar, which will shoot the arrows. Finally, we need to code the final boss, which is the coach/trainer. That is pre-programmed, thus it will repeat when the player restarts the level."
   ]
  },
  {
   "cell_type": "markdown",
   "metadata": {},
   "source": [
    "## Flow Chart\n",
    "<img src=\"https://github.com/user-attachments/assets/adef20bf-1c94-48e7-a88b-6ee2121a7837\" style = \"width:400px;\">"
   ]
  },
  {
   "cell_type": "markdown",
   "metadata": {},
   "source": [
    "# Game Structure Overview\n",
    "\n",
    "## 1. GameEnv (Game Environment)\n",
    "Defines the boundaries and overall environment settings.\n",
    "\n",
    "### Attributes:\n",
    "- maxWidth, maxHeight: Defines the game world size.\n",
    "\n",
    "### Functions:\n",
    "- setTop(), setBottom(): Set game boundaries.\n",
    "- setGameEnv(): Initializes the game environment.\n",
    "\n",
    "---\n",
    "\n",
    "## 2. GameObj (Game Object)\n",
    "A base class for all game objects, handling positioning and collisions.\n",
    "\n",
    "### Attributes:\n",
    "- static [] Game Objects: Stores all game objects.\n",
    "- x, y: Position of the object.\n",
    "- image: Image reference for rendering.\n",
    "- canvas, ctx: References to the HTML canvas.\n",
    "\n",
    "### Functions:\n",
    "- setX(x), setY(y): Updates object position.\n",
    "- isCollision(): Checks for collisions.\n",
    "- collisionActions(): Defines collision behaviors.\n",
    "\n",
    "---\n",
    "\n",
    "## 3. Characters\n",
    "A base class for all characters.\n",
    "\n",
    "### Attributes:\n",
    "- static [] Character Objects: Stores character instances.\n",
    "- spriteWidth, spriteHeight: Sprite dimensions.\n",
    "- frameX, frameY: Sprite animation frames.\n",
    "\n",
    "### Functions:\n",
    "- update(): Handles movement and interactions.\n",
    "- draw(): Renders the character.\n",
    "- size(): Defines character dimensions.\n",
    "\n",
    "---\n",
    "\n",
    "## 4. Targets\n",
    "A base class for objects the player interacts with.\n",
    "\n",
    "### Functions:\n",
    "- update(): Updates target behavior.\n",
    "- draw(): Renders the target.\n",
    "- size(): Defines target dimensions.\n",
    "\n",
    "---\n",
    "\n",
    "## 5. Background\n",
    "Defines the game's visual setting.\n",
    "\n",
    "### Functions:\n",
    "- update(): Updates background properties.\n",
    "- size(): Sets the background dimensions.\n",
    "- draw(): Renders the background.\n"
   ]
  },
  {
   "cell_type": "markdown",
   "metadata": {},
   "source": [
    "## Rachit Flower\n",
    "<img src=\"https://github.com/user-attachments/assets/b9b9f5cb-0fa9-4885-ab81-b2e0e1aefc9c\" style=\"width:200px;\">\n"
   ]
  },
  {
   "cell_type": "markdown",
   "metadata": {},
   "source": [
    "## Rachit Target\n",
    "<img src =\"https://github.com/user-attachments/assets/4742a372-75dd-4362-b257-f7fcd459d102\" style = \"width:200px;\">"
   ]
  },
  {
   "cell_type": "markdown",
   "metadata": {},
   "source": [
    "## Main Background\n",
    "<img src =\"https://github.com/user-attachments/assets/4ae3d238-7d96-47da-905e-afbc97c7271b\" style = \"width:300px;\">"
   ]
  },
  {
   "cell_type": "markdown",
   "metadata": {},
   "source": [
    "## Obese Rachit\n",
    "<img src =\"https://github.com/user-attachments/assets/0e0892d9-7516-4fb5-aee6-99eecd946c68\" style = \"width:200px;\">"
   ]
  },
  {
   "cell_type": "markdown",
   "metadata": {},
   "source": [
    "## Rat Boss\n",
    "<img src =\"https://github.com/user-attachments/assets/086cb2dd-19e9-47e9-89e9-fe36bfb28d47\" style = \"width:200px;\">"
   ]
  }
 ],
 "metadata": {
  "kernelspec": {
   "display_name": "venv",
   "language": "python",
   "name": "python3"
  },
  "language_info": {
   "codemirror_mode": {
    "name": "ipython",
    "version": 3
   },
   "file_extension": ".py",
   "mimetype": "text/x-python",
   "name": "python",
   "nbconvert_exporter": "python",
   "pygments_lexer": "ipython3",
   "version": "3.13.1"
  }
 },
 "nbformat": 4,
 "nbformat_minor": 2
}
