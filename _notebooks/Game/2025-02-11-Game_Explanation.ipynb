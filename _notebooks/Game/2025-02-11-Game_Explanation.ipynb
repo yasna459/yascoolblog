{
 "cells": [
  {
   "cell_type": "raw",
   "metadata": {
    "vscode": {
     "languageId": "raw"
    }
   },
   "source": [
    "---\n",
    "layout: post\n",
    "title: Adventure Game\n",
    "description: Adventure Game!\n",
    "type: collab\n",
    "menu: nav/gameexplanation.html\n",
    "permalink: /adventuregame.nav\n",
    "author: Yasna Ahmadi, Namira Sharif\n",
    "toc: true\n",
    "---\n"
   ]
  },
  {
   "cell_type": "markdown",
   "metadata": {},
   "source": [
    "# Plan for the Game\n",
    "\n",
    "For this project, we want to create a game with two levels where the goal is to essentially use archery to shoot the target. The main target, which is malnourished Rachit, is worth 100 points. However, there are bigger targets called flower Rachits that are only worth 50 points. There is a rat narrator that guides the player and coaches the user to succeed in the game. The first level is set in a grassy forest with many trees. In the second level, the user needs to compete to win against the trainer. This is a much harder level because the pre-programmed trainer is very fast and can shoot more arrows faster. This level is set on the beach.\n",
    "\n",
    "### What we've already done\n",
    "We have created a flow chart that explains most of the javascript aspects to the game and explains what all of the in-game objects do and look like. Additionally, we've created pixel art for the flower and targets, along with the backgrounds. We are currently in the process of editing the adventureGame files by changing variables and adding the mechanics/physics that we need for our game.\n",
    "\n",
    "### What we're going to do\n",
    "We are going to add our images in place of the images already in the js files for Mr. Mortensen's adventure game. Then, we are going to add the key functions such as the space bar, which will shoot the arrows. Finally, we need to code the final boss, which is the coach/trainer. That is pre-programmed, thus it will repeat when the player restarts the level."
   ]
  },
  {
   "cell_type": "markdown",
   "metadata": {},
   "source": [
    "## Flow Chart\n"
   ]
  },
  {
   "cell_type": "markdown",
   "metadata": {},
   "source": [
    "## Rachit Flower\n",
    "![Image](https://github.com/user-attachments/assets/b9b9f5cb-0fa9-4885-ab81-b2e0e1aefc9c)"
   ]
  },
  {
   "cell_type": "markdown",
   "metadata": {},
   "source": [
    "## Rachit Target\n",
    "![Image](https://github.com/user-attachments/assets/4742a372-75dd-4362-b257-f7fcd459d102)"
   ]
  }
 ],
 "metadata": {
  "language_info": {
   "name": "python"
  }
 },
 "nbformat": 4,
 "nbformat_minor": 2
}
