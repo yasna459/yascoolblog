{
 "cells": [
  {
   "cell_type": "raw",
   "metadata": {
    "vscode": {
     "languageId": "raw"
    }
   },
   "source": [
    "---\n",
    "layout: post\n",
    "title: Adventure Game\n",
    "description: Adventure Game!\n",
    "type: issues\n",
    "comments: true\n",
    "---\n"
   ]
  },
  {
   "cell_type": "markdown",
   "metadata": {},
   "source": [
    "# Plan for the Game\n",
    "\n",
    "For this project, we want to create a game with two levels that follow a player time traveling. The first level, or the first time period, is Ancient Egypt, where the player needs to interact with a Tomb Guard and a Pyramid Guard. There is a Rat Guide that narrates the player and gives the player information about Ancient Egypt. Then, the player answers 5 questions from the Tomb Guard and Pyramid. There is also a cat enemy chasing the player until they get to the Time Travel Machine, which leads the player into the next level. In Victorian England, the player gets asked questions by a Soldier and A chimney Sweeper based on previous facts from the Rat Guide. In this level, there is a dog chasing the player back to the time travel machine. That concludes the game and thus resuls in a win.\n",
    "\n",
    "### What we've already done\n",
    "We have created a flow chart that explains the javascript aspects to the game and explains what all of the in-game objects do and look like. Additionally, we've created handmade pixel art for the characters you meet such as the Tomb Guard or Chimney Sweeper. We've also made pixel art for the backgrounds of the two time periods. Additionally, we have transferred most of the art and sprite sheets into their corresponding variables for the code in the game. For example we've replaced the NPC's from Mr. Morts game with our personal art. Additionally, we have changed some mechanics in the game. For example, we added an Enemy feature that chases the player around the game. We have also created an exit pathway.\n",
    "\n",
    "### What we're going to do\n",
    "We need to fix certain errors that correspond with the mechanics. We currently have a live demo with the main visual changes. However, we have hundreds of changes in terms of physics and mechanics that are a Work in Progress. We are planning to combine both the visual and funcitonal changes in the near future. This will allow a seamless combination for the main aspects."
   ]
  },
  {
   "cell_type": "markdown",
   "metadata": {},
   "source": [
    "## Flow Chart\n",
    "<img src=\"https://github.com/user-attachments/assets/adef20bf-1c94-48e7-a88b-6ee2121a7837\" style = \"width:400px;\">"
   ]
  },
  {
   "cell_type": "markdown",
   "metadata": {},
   "source": [
    "# Game Structure Overview\n",
    "\n",
    "## 1. GameEnv (Game Environment)\n",
    "Defines the boundaries and overall environment settings.\n",
    "\n",
    "### Attributes:\n",
    "- maxWidth, maxHeight: Defines the game world size.\n",
    "\n",
    "### Functions:\n",
    "- setTop(), setBottom(): Set game boundaries.\n",
    "- setGameEnv(): Initializes the game environment.\n",
    "\n",
    "---\n",
    "\n",
    "## 2. GameObj (Game Object)\n",
    "A base class for all game objects, handling positioning and collisions.\n",
    "\n",
    "### Attributes:\n",
    "- static [] Game Objects: Stores all game objects.\n",
    "- x, y: Position of the object.\n",
    "- image: Image reference for rendering.\n",
    "- canvas, ctx: References to the HTML canvas.\n",
    "\n",
    "### Functions:\n",
    "- setX(x), setY(y): Updates object position.\n",
    "- isCollision(): Checks for collisions.\n",
    "- collisionActions(): Defines collision behaviors.\n",
    "\n",
    "---\n",
    "\n",
    "## 3. Characters\n",
    "A base class for all characters.\n",
    "\n",
    "### Attributes:\n",
    "- static [] Character Objects: Stores character instances.\n",
    "- spriteWidth, spriteHeight: Sprite dimensions.\n",
    "- frameX, frameY: Sprite animation frames.\n",
    "\n",
    "### Functions:\n",
    "- update(): Handles movement and interactions.\n",
    "- draw(): Renders the character.\n",
    "- size(): Defines character dimensions.\n",
    "\n",
    "---\n",
    "\n",
    "## 4. Targets\n",
    "A base class for objects the player interacts with.\n",
    "\n",
    "### Functions:\n",
    "- update(): Updates target behavior.\n",
    "- draw(): Renders the target.\n",
    "- size(): Defines target dimensions.\n",
    "\n",
    "---\n",
    "\n",
    "## 5. Background\n",
    "Defines the game's visual setting.\n",
    "\n",
    "### Functions:\n",
    "- update(): Updates background properties.\n",
    "- size(): Sets the background dimensions.\n",
    "- draw(): Renders the background.\n"
   ]
  },
  {
   "cell_type": "markdown",
   "metadata": {},
   "source": [
    "## Ancient Egypt \n",
    "<img src=\"https://github.com/user-attachments/assets/b445e812-a489-4c0d-a96a-c8a1fda6c68c\" style=\"width:400px;\">\n"
   ]
  },
  {
   "cell_type": "markdown",
   "metadata": {},
   "source": [
    "## Victorian England\n",
    "<img src =\"https://github.com/user-attachments/assets/c1447f2d-f41f-48cf-a8c9-977229d4aba9\" style = \"width:400px;\">"
   ]
  },
  {
   "cell_type": "markdown",
   "metadata": {},
   "source": [
    "## Player Sprite Sheet\n",
    "<img src =\"https://github.com/user-attachments/assets/529ed915-2c0f-4d38-b8a5-65308cc00247\" style = \"width:300px;\">"
   ]
  },
  {
   "cell_type": "markdown",
   "metadata": {},
   "source": [
    "## Rat Guide\n",
    "<img src =\"https://github.com/user-attachments/assets/589f5123-c1b5-4b6c-986d-f996fa2196a2\" style = \"width:200px;\">"
   ]
  },
  {
   "cell_type": "markdown",
   "metadata": {},
   "source": [
    "## Tomb Guard\n",
    "<img src =\"https://github.com/user-attachments/assets/22c2f9b4-e035-424f-b286-c39d2a5569f3\" style = \"width:200px;\">"
   ]
  },
  {
   "cell_type": "markdown",
   "metadata": {},
   "source": [
    "## Pyramid Guard\n",
    "<img src =\"https://github.com/user-attachments/assets/964426c7-9753-4718-8f63-c4a3f79a957b\" style = \"width:200px;\">"
   ]
  },
  {
   "cell_type": "markdown",
   "metadata": {},
   "source": [
    "## Cat Enemy\n",
    "<img src =\"https://github.com/user-attachments/assets/e0584906-4a72-4849-93f4-7538a1a063ee\" style = \"width:200px;\">"
   ]
  },
  {
   "cell_type": "markdown",
   "metadata": {},
   "source": [
    "## Soldier\n",
    "<img src =\"https://github.com/user-attachments/assets/d10ab9b4-e0b1-4205-8afa-32fa15ba44d6\" style = \"width:200px;\">"
   ]
  },
  {
   "cell_type": "markdown",
   "metadata": {},
   "source": [
    "## Chimney Sweeper\n",
    "<img src =\"https://github.com/user-attachments/assets/0cf2fa52-2b72-4550-a6d3-54df3214fcec\" style = \"width:200px;\">"
   ]
  },
  {
   "cell_type": "markdown",
   "metadata": {},
   "source": [
    "## Dog Enemy\n",
    "<img src =\"https://github.com/user-attachments/assets/4666748d-192f-42a5-b626-652f37574679\" style = \"width:200px;\">"
   ]
  }
 ],
 "metadata": {
  "kernelspec": {
   "display_name": "venv",
   "language": "python",
   "name": "python3"
  },
  "language_info": {
   "codemirror_mode": {
    "name": "ipython",
    "version": 3
   },
   "file_extension": ".py",
   "mimetype": "text/x-python",
   "name": "python",
   "nbconvert_exporter": "python",
   "pygments_lexer": "ipython3",
   "version": "3.13.1"
  }
 },
 "nbformat": 4,
 "nbformat_minor": 2
}
