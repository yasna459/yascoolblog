{
 "cells": [
  {
   "cell_type": "raw",
   "metadata": {
    "vscode": {
     "languageId": "raw"
    }
   },
   "source": [
    "---\n",
    "layout: post\n",
    "title: Yasna's CSSE1 Experience\n",
    "description: My Progress\n",
    "type: issues\n",
    "comments: true\n",
    "---\n"
   ]
  },
  {
   "cell_type": "markdown",
   "metadata": {},
   "source": [
    "# Yasna's Computer Science and Software Engineering Retrospective"
   ]
  },
  {
   "cell_type": "markdown",
   "metadata": {},
   "source": [
    "## What I came into this class hoping to do\n",
    "\n",
    "Hi, my name is Yasna Ahmadi, and when i signed up for this class, I inteded to learn the basics and fundamentals of code hoping that it would come into play in the future, in case my job required certain technologial ideas.\n",
    " \n",
    "# What I've Achieved and 5 Main Skills I Learned\n",
    "\n",
    "## Concise Summary\n",
    "\n",
    "1. I learned terminal commands such as cd (change directory), ls (list files), and git clone, which allows you to connect a GitHub repository to your computer.\n",
    "\n",
    "2. Then I learned GitHub commands such as make (starts a local host running), git pull (ensures updated connection from your computer to the online GH repository)\n",
    "\n",
    "3. I learned many different aspects of design for my blog. I love drawing and graphic design so I used a lot of HTML and CSS to customize my blog and make it hot pink.\n",
    "\n",
    "4. For the Lessons project, I improved upon my teamwork/collaboration skills while teaching about Conditions. I also learned new code aspects like Nested Conditionals, Arrays, and Classes & Methods, and more through completing homework from other groups.\n",
    "\n",
    "5. I learned the most in the RPG game. Besides understanding sprite animations and visual aspects, I spent a lot of time learning about certain JS game functions to incorporate them into my code. The main ones I focused on where the checkProximityToPlayer function and the setTimeout function.\n",
    "\n"
   ]
  },
  {
   "cell_type": "markdown",
   "metadata": {},
   "source": [
    "## Night at the Museum Experience\n",
    "\n",
    "I thought Night at the Museum was an amazing experience because I got to look at more experienced games and codes. Additionally, we recieved very beneficial feedback from parents and other students. I believe this feedback will help ensure a successful and likeable game for my partner and I\n",
    "\n",
    "### Games I liked\n",
    "\n",
    "Basement Dweller\n",
    "\n",
    "Space Adventure\n",
    "\n",
    "\n"
   ]
  }
 ],
 "metadata": {
  "language_info": {
   "name": "python"
  }
 },
 "nbformat": 4,
 "nbformat_minor": 2
}
