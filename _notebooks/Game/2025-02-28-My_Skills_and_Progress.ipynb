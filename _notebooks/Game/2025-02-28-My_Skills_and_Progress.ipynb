{
 "cells": [
  {
   "cell_type": "raw",
   "metadata": {
    "vscode": {
     "languageId": "raw"
    }
   },
   "source": [
    "---\n",
    "layout: post\n",
    "title: Yasna's CSSE1 Experience\n",
    "description: My Progress\n",
    "type: issues\n",
    "comments: true\n",
    "---"
   ]
  },
  {
   "cell_type": "markdown",
   "metadata": {},
   "source": [
    "# Yasna's Computer Science and Software Engineering Retrospective"
   ]
  },
  {
   "cell_type": "markdown",
   "metadata": {},
   "source": [
    "## What I came into this class hoping to do\n",
    "\n",
    "Hi, my name is Yasna Ahmadi, and when i signed up for this class, I inteded to learn the basics and fundamentals of code hoping that it would come into play in the future, in case my job required certain technologial ideas.\n",
    " \n",
    "# What I've Achieved and 5 Main Skills I Learned\n",
    "\n",
    "## Concise Summary\n",
    "\n",
    "1. I learned terminal commands such as cd (change directory), ls (list files), and git clone, which allows you to connect a GitHub repository to your computer.\n",
    "\n",
    "2. Then I learned GitHub commands such as make (starts a local host running), git pull (ensures updated connection from your computer to the online GH repository)\n",
    "\n",
    "3. I learned many different aspects of design for my blog. I love drawing and graphic design so I used a lot of HTML and CSS to customize my blog and make it hot pink.\n",
    "\n",
    "4. For the Lessons project, I improved upon my teamwork/collaboration skills while teaching about Conditions. I also learned new code aspects like Nested Conditionals, Arrays, and Classes & Methods, and more through completing homework from other groups.\n",
    "\n",
    "5. I learned the most in the RPG game. Besides understanding sprite animations and visual aspects, I spent a lot of time learning about certain JS game functions to incorporate them into my code. The main ones I focused on where the Math.random function, the setTimeout function. and the handleSubmit method.\n",
    "\n"
   ]
  },
  {
   "cell_type": "markdown",
   "metadata": {},
   "source": [
    "## Play Chrono - Crash here!\n",
    "\n",
    "[Play Chrono - Crash here!](https://yasna459.github.io/yascoolblog/gamify/ChronoCrash)\n",
    "\n",
    "## RPG Game Write-Up\n",
    "\n",
    "[RPG Game Write-Up](https://yasna459.github.io/yascoolblog/2025/02/11/Game_Explanation_IPYNB_2_.html)"
   ]
  },
  {
   "cell_type": "markdown",
   "metadata": {},
   "source": [
    "## Night at the Museum Experience\n",
    "\n",
    "I thought Night at the Museum was an amazing experience because I got to look at more experienced games and codes. Additionally, we recieved very beneficial feedback from parents and other students. I believe this feedback will help ensure a successful and likeable game for my partner and I.\n",
    "\n",
    "### Feedback Summary\n",
    "\n",
    "As described by parents, classmates, and more advanced computer science students, they all loved our visuals and how cohesive the themes were. They also appreciated that they were handmade. We also have ambitious plans for the future of the game that we described to people at N@TM. They wanted to see our plans in action, such as the Tomb Level and the cat enemy. Some people reccomended a more cohesive quiz layout, which we were able to incorporate. Additionally, they wanted to see our Rat Guide working, which we also were able to add.\n",
    "\n",
    "### Games I liked\n",
    "\n",
    "- Basement Dweller - Hope & Nico\n",
    "\n",
    "- Space Adventure - Anishka & Elise\n",
    "\n",
    "- Discord Basement Simulator - West & Evan\n"
   ]
  },
  {
   "cell_type": "markdown",
   "metadata": {},
   "source": [
    "## Self - Reflection\n",
    "\n",
    "### Strengths, Weaknesses, and Future Plans\n",
    "\n",
    "#### Strengths\n",
    "- Efficient collaboration and communication skills to help achieve goals and learn more about programming\n",
    "- The \"don't give up\" mindset that allows me to work as hard as I can to achieve progress that meets my standards.\n",
    "- Decent understanding of basic commands in terminal, GitHub, Javascript, and CSS such as make, git clone, var, and const.\n",
    "- Ability to ask questions in order to properly understand what I'm doing.\n",
    "\n",
    "#### Weaknesses\n",
    "\n",
    "- Lack of coding experience which I believe partially set me back compared to other classmates.\n",
    "- While I have a basic understanding of certain commands, I think I could still improve on understanding more complicated aspect of code.\n",
    "- I think I could also improve certain research skills. I had to do a lot of research to understand different variables and functions, however I feel like it wasn't always efficient and usually took the most time. In the future, I want to be able to take templates or functions that I learn about online and customize them to my project by myself. \n",
    "\n",
    "#### Future Plans\n",
    "\n",
    "- I want to create more personal mini-projects such as mini-games and other RPGs.\n",
    "- I hope that I can expand my knowledge of computer science so that the time I spend researching is much more efficient.\n",
    "- I would love to keep blogging and adding my progress when it comes to computer science into my personal blog. I would also love to make my website more interactive.\n",
    "\n",
    "## Self - Grades\n",
    "\n",
    "Throughout each of these topics, both me and my partner have tried our absolute best to produce a beginner-level game for this class. We’ve stayed on topic and taken many different aspects of coding to heart. We both did our own work to deepen our understanding of computer science, including customizations made to our blogs, researching things for our lessons on JavaScript, etc. While there are definitely areas for improvement, me and my partner have put in honest work to deepen our understanding of the subjects learned throughout this course, and for that, I would give us a 0.92.\n"
   ]
  }
 ],
 "metadata": {
  "language_info": {
   "name": "python"
  }
 },
 "nbformat": 4,
 "nbformat_minor": 2
}
