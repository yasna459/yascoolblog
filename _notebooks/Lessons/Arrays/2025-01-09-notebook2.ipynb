{
 "cells": [
  {
   "cell_type": "markdown",
   "metadata": {},
   "source": [
    "```yaml\n",
    "\n",
    "---\n",
    "layout: page\n",
    "title: Jupyter Notebook Two\n",
    "permalink: /nbjupyter2/\n",
    "---"
   ]
  },
  {
   "cell_type": "markdown",
   "metadata": {},
   "source": [
    "Length of a List\n",
    "In JavaScript, the length of a list (also known as an array) refers to the number of elements it contains. It can be accessed using the (.length) property, which shows the total number of elements in the array."
   ]
  },
  {
   "cell_type": "markdown",
   "metadata": {},
   "source": [
    "Display List <br>\n",
    "Number Example:"
   ]
  },
  {
   "cell_type": "code",
   "execution_count": 2,
   "metadata": {
    "vscode": {
     "languageId": "javascript"
    }
   },
   "outputs": [
    {
     "data": {
      "application/javascript": "\nlet list = [2, 4, 6, 8, 10];//These are things what will be shown on the list\nconst length = list.length; //length will be 5 since 5 elements in list\nconsole.log(list);//This will show the list \n",
      "text/plain": [
       "<IPython.core.display.Javascript object>"
      ]
     },
     "metadata": {},
     "output_type": "display_data"
    }
   ],
   "source": [
    "%%js\n",
    "\n",
    "let list = [2, 4, 6, 8, 10];//These are things what will be shown on the list\n",
    "const length = list.length; //length will be 5 since 5 elements in list\n",
    "console.log(list);//This will show the list "
   ]
  },
  {
   "cell_type": "markdown",
   "metadata": {},
   "source": [
    "Array indexOf() <br>\n",
    "This does the job of searching for an element and finds its position within the array <br>\n",
    "ex: "
   ]
  },
  {
   "cell_type": "code",
   "execution_count": 27,
   "metadata": {
    "vscode": {
     "languageId": "javascript"
    }
   },
   "outputs": [
    {
     "data": {
      "application/javascript": "\nconst exarray = [\"a\", \"b\", \"c\", \"b\", \"d\"];\n\nconsole.log(exarray.indexOf(\"a\"));    // Output: 0 (first \"a\" is at index 0)\nconsole.log(exarray.indexOf(\"b\"));    // Output: 1 (first \"b\" is at index 1)\nconsole.log(exarray.indexOf(\"c\"));    // Output: 2\nconsole.log(exarray.indexOf(\"d\"));    // Output: 4\nconsole.log(exarray.indexOf(\"z\"));    // Output: -1 (not found)\n",
      "text/plain": [
       "<IPython.core.display.Javascript object>"
      ]
     },
     "metadata": {},
     "output_type": "display_data"
    }
   ],
   "source": [
    "%%js\n",
    "\n",
    "const exarray = [\"a\", \"b\", \"c\", \"b\", \"d\"];\n",
    "\n",
    "console.log(exarray.indexOf(\"a\"));    // Output: 0 (0, first a is the first letter (base 10 starts at 0 or something idk lol))\n",
    "console.log(exarray.indexOf(\"b\"));    // Output: 1 (1, first b is the second letter)\n",
    "console.log(exarray.indexOf(\"c\"));    // Output: 2 (so on and so forth, you can do the rest)\n",
    "console.log(exarray.indexOf(\"d\"));    // Output: 4\n",
    "console.log(exarray.indexOf(\"z\"));    // Output: -1 (not found)\n"
   ]
  },
  {
   "cell_type": "markdown",
   "metadata": {},
   "source": [
    "Array lastIndexOf() <br>\n",
    "similar to Array indexOf() but returns last time the object has appeared <br>\n",
    "ex:"
   ]
  },
  {
   "cell_type": "code",
   "execution_count": 28,
   "metadata": {
    "vscode": {
     "languageId": "javascript"
    }
   },
   "outputs": [
    {
     "data": {
      "application/javascript": "\nconst exarray = [\"a\", \"b\", \"c\", \"b\", \"d\"];\n\nconsole.log(exarray.indexOf(\"a\"));    // Output: 0 (0, first a is the first letter (base 10 starts at 0 or something idk lol))\nconsole.log(exarray.indexOf(\"b\"));    // Output: 1 (1, first b is the second letter)\nconsole.log(exarray.indexOf(\"c\"));    // Output: 2 (so on and so forth, you can do the rest)\n//heres the last index of\nconsole.log(exarray.lastIndexOf(\"b\"));    // Output: 4\nconsole.log(exarray.indexOf(\"z\"));    // Output: -1 (not found)\n",
      "text/plain": [
       "<IPython.core.display.Javascript object>"
      ]
     },
     "metadata": {},
     "output_type": "display_data"
    }
   ],
   "source": [
    "%%js\n",
    "\n",
    "const exarray = [\"a\", \"b\", \"c\", \"b\", \"d\"];\n",
    "\n",
    "console.log(exarray.indexOf(\"a\"));    // Output: 0 (0, first a is the first letter (base 10 starts at 0 or something idk lol))\n",
    "console.log(exarray.indexOf(\"b\"));    // Output: 1 (1, first b is the second letter)\n",
    "console.log(exarray.indexOf(\"c\"));    // Output: 2 (so on and so forth, you can do the rest)\n",
    "//heres the last index of\n",
    "console.log(exarray.lastIndexOf(\"b\"));    // Output: 3 (3, last b is the fourth letter)\n",
    "console.log(exarray.indexOf(\"z\"));    // Output: -1 (not found)\n"
   ]
  },
  {
   "cell_type": "markdown",
   "metadata": {},
   "source": [
    "Array.includes() <br>\n",
    "Finds an element in the array <br>\n",
    "ex:"
   ]
  },
  {
   "cell_type": "code",
   "execution_count": 15,
   "metadata": {
    "vscode": {
     "languageId": "javascript"
    }
   },
   "outputs": [
    {
     "data": {
      "application/javascript": "let list = ['a', 'b', 'c'];\nlet hasa = list.includes('a');  // Check if 'a' is in the array\nconsole.log(hasa);  // Output: true\n",
      "text/plain": [
       "<IPython.core.display.Javascript object>"
      ]
     },
     "metadata": {},
     "output_type": "display_data"
    }
   ],
   "source": [
    "%%js \n",
    "let list = ['a', 'b', 'c'];\n",
    "let hasa = list.includes('a');  // Check if 'a' is in the array\n",
    "console.log(hasa);  // Output: true"
   ]
  },
  {
   "cell_type": "markdown",
   "metadata": {},
   "source": [
    "refrences: <br>\n",
    "https://www.w3schools.com/js/js_array_search.asp"
   ]
  }
 ],
 "metadata": {
  "kernelspec": {
   "display_name": ".venv",
   "language": "python",
   "name": "python3"
  },
  "language_info": {
   "codemirror_mode": {
    "name": "ipython",
    "version": 3
   },
   "file_extension": ".py",
   "mimetype": "text/x-python",
   "name": "python",
   "nbconvert_exporter": "python",
   "pygments_lexer": "ipython3",
   "version": "3.9.6"
  }
 },
 "nbformat": 4,
 "nbformat_minor": 2
}
