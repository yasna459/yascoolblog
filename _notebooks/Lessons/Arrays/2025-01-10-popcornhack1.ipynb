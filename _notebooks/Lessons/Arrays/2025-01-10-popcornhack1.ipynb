{
 "cells": [
  {
   "cell_type": "markdown",
   "metadata": {},
   "source": [
    "```yaml\n",
    "\n",
    "---\n",
    "layout: page\n",
    "title: Popcorn Hacks One\n",
    "permalink: /phjupyter/\n",
    "---"
   ]
  },
  {
   "cell_type": "markdown",
   "metadata": {},
   "source": [
    "---\n",
    "Popcorn Hacks One\n",
    "---"
   ]
  },
  {
   "cell_type": "markdown",
   "metadata": {},
   "source": [
    " - Delete the last two items of the list below (delete1 and delete2)\n",
    " - Change the non dessert item (fries) to a dessert\n",
    " - Add two more desserts to list"
   ]
  },
  {
   "cell_type": "code",
   "execution_count": 1,
   "metadata": {
    "vscode": {
     "languageId": "javascript"
    }
   },
   "outputs": [
    {
     "data": {
      "application/javascript": "\nlet desserts = ['cake', 'ice cream', 'cookies', 'brownies', 'cheesecake', 'macarons']\n\nconsole.log(desserts.join(\", \"))\n",
      "text/plain": [
       "<IPython.core.display.Javascript object>"
      ]
     },
     "metadata": {},
     "output_type": "display_data"
    }
   ],
   "source": [
    "%%js\n",
    "\n",
    "let desserts = ['cake', 'ice cream', 'cookies', 'brownies', 'cheesecake', 'macarons']\n",
    "\n",
    "console.log(desserts.join(\", \"))"
   ]
  }
 ],
 "metadata": {
  "kernelspec": {
   "display_name": "venv",
   "language": "python",
   "name": "python3"
  },
  "language_info": {
   "codemirror_mode": {
    "name": "ipython",
    "version": 3
   },
   "file_extension": ".py",
   "mimetype": "text/x-python",
   "name": "python",
   "nbconvert_exporter": "python",
   "pygments_lexer": "ipython3",
   "version": "3.13.1"
  }
 },
 "nbformat": 4,
 "nbformat_minor": 2
}
