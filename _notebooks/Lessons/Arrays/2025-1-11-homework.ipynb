{
 "cells": [
  {
   "cell_type": "markdown",
   "metadata": {},
   "source": [
    "# Homework!! #\n",
    "\n",
    "Your task is to fill in the following code to alter the arrays!"
   ]
  },
  {
   "cell_type": "markdown",
   "metadata": {},
   "source": [
    "# Lesson 1 Homework"
   ]
  },
  {
   "cell_type": "code",
   "execution_count": 2,
   "metadata": {
    "vscode": {
     "languageId": "javascript"
    }
   },
   "outputs": [
    {
     "data": {
      "application/javascript": "//We have an array made for you, but something's off...\nlet desserts = [\"lemon\",\"delete1\",\"ice cream\",\"chocolate cake\",\"key lime pie\",\"delete2\"];\n//We need to get rid of the elements labeled delete1 and delete2!\ndesserts.___();//which command gets rid of the last element in the array?\ndesserts._____(_,_);//which command will delete the delete 1 element and how do you use it??\n\n//now that that's done... a lemon isn't a dessert unless you're weird... maybe change it to a lemon-themed dessert?\ndesserts[_]=\"put your lemon-themed dessert here :D\";\n\n//hint for the previous 2 fill-in-the-blanks: the indexing starts at 0\n\n//okay okay, you've proven your skills... now all that's left is to print the list!\n",
      "text/plain": [
       "<IPython.core.display.Javascript object>"
      ]
     },
     "metadata": {},
     "output_type": "display_data"
    }
   ],
   "source": [
    "%%js\n",
    "//We have an array made for you, but something's off...\n",
    "let desserts = [\"lemon\",\"delete1\",\"ice cream\",\"chocolate cake\",\"key lime pie\",\"delete2\"];\n",
    "//We need to get rid of the elements labeled delete1 and delete2!\n",
    "desserts.___();//which command gets rid of the last element in the array?\n",
    "desserts._____(_,_);//which command will delete the delete 1 element and how do you use it??\n",
    "\n",
    "//now that that's done... a lemon isn't a dessert unless you're weird... maybe change it to a lemon-themed dessert?\n",
    "desserts[_]=\"put your lemon-themed dessert here :D\";\n",
    "\n",
    "//hint for the previous 2 fill-in-the-blanks: the indexing starts at 0\n",
    "\n",
    "//okay okay, you've proven your skills... now all that's left is to print the list!"
   ]
  },
  {
   "cell_type": "markdown",
   "metadata": {},
   "source": [
    "# Lesson 2 Homework - Part 1"
   ]
  },
  {
   "cell_type": "code",
   "execution_count": null,
   "metadata": {
    "vscode": {
     "languageId": "javascript"
    }
   },
   "outputs": [],
   "source": [
    "%%js\n",
    "//Okay, this will be a little tougher. We can put your knowledge of the second lesson to the test. (ignore that this concept is easy compared to the other lessons lol)\n",
    "\n",
    "//I want you to create a list of whatever you'd like (integers or strings, it really doesn't matter) and have a repeating element in it. ex: let list = [1,2,3,1,4]; \n",
    "\n",
    "\n",
    "//Ok, now I know this is about arrays, but could you make a for loop to iterate through each element and print the index of them?\n",
    "\n",
    "\n",
    "\n",
    "\n",
    "\n",
    "\n",
    "//Wait! You remember that repeating element I made you put in your list? Create a separate command outside of the loop to print the index of the last occurring repeated value.\n",
    "\n",
    "\n",
    "\n"
   ]
  },
  {
   "cell_type": "markdown",
   "metadata": {},
   "source": [
    "# Lesson 2 Homework - Part 2"
   ]
  },
  {
   "cell_type": "code",
   "execution_count": null,
   "metadata": {
    "vscode": {
     "languageId": "javascript"
    }
   },
   "outputs": [
    {
     "data": {
      "application/javascript": "//This is the fairly simple final problem of arrays!\n\n//Create a list here that includes whatever you'd like once again.\n\nlet list = [1,2,3];\n\n//Now, print the length of your list! Tip: you don't need to create a variable for the list's length! Just console.log the list.length; it saves you a line :D\n\nconsole.log(list.length);\n\n//Finally, create a variable to check if a value in your list is included in the list and print that variable you created (it should output true or false)\n\nlet includes = list.includes(4);\nconsole.log(includes);\n",
      "text/plain": [
       "<IPython.core.display.Javascript object>"
      ]
     },
     "metadata": {},
     "output_type": "display_data"
    }
   ],
   "source": [
    "%%js\n",
    "//This is the fairly simple final problem of arrays!\n",
    "\n",
    "//Create a list here that includes whatever you'd like once again.\n",
    "\n",
    "\n",
    "\n",
    "//Now, print the length of your list! Tip: you don't need to create a variable for the list's length! Just console.log the list.length; it saves you a line :D\n",
    "\n",
    "\n",
    "\n",
    "//Finally, create a variable to check if a value in your list is included in the list and print that variable you created (it should output true or false)\n",
    "\n"
   ]
  },
  {
   "cell_type": "markdown",
   "metadata": {
    "vscode": {
     "languageId": "javascript"
    }
   },
   "source": [
    "You're done with your homework!!"
   ]
  }
 ],
 "metadata": {
  "kernelspec": {
   "display_name": ".venv",
   "language": "python",
   "name": "python3"
  },
  "language_info": {
   "codemirror_mode": {
    "name": "ipython",
    "version": 3
   },
   "file_extension": ".py",
   "mimetype": "text/x-python",
   "name": "python",
   "nbconvert_exporter": "python",
   "pygments_lexer": "ipython3",
   "version": "3.9.6"
  }
 },
 "nbformat": 4,
 "nbformat_minor": 2
}
