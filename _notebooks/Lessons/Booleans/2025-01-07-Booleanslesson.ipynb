{
 "cells": [
  {
   "cell_type": "raw",
   "metadata": {
    "vscode": {
     "languageId": "raw"
    }
   },
   "source": [
    "---\n",
    "comments: True\n",
    "layout: post\n",
    "title: Boolean Lesson 1\n",
    "description: Booleans are a type of data that can represent only two possible values - true or false\n",
    "courses: { csse: {week: 1}, csp: {week: 1}, csa: {week: 1} }\n",
    "categories: [Foundation]\n",
    "sticky_rank: 1\n",
    "---"
   ]
  },
  {
   "cell_type": "markdown",
   "metadata": {
    "vscode": {
     "languageId": "plaintext"
    }
   },
   "source": [
    "# What are booleans? \n",
    "\n",
    "Booleans are a fundamental data type in programming that represent two possible values: true or false. \n",
    "\n",
    "They are commonly used to make decisions in code, control the flow of programs through conditional statements, and evaluate logical expressions. \n",
    "\n",
    "Booleans are essential for comparisons, determining equality, and managing program logic effectively. \n"
   ]
  },
  {
   "cell_type": "markdown",
   "metadata": {},
   "source": [
    "# Boolean commands "
   ]
  },
  {
   "cell_type": "markdown",
   "metadata": {
    "vscode": {
     "languageId": "bat"
    }
   },
   "source": [
    "== (Equal to): Checks if two values are equal in value but not necessarily in type (e.g., comparing numbers and strings with similar content like 5 == '5' evaluates to true).\n",
    "\n",
    "!= (Not equal to): Checks if two values are different in value but not necessarily in type (e.g., 5 != '5' evaluates to false).\n",
    "\n",
    "=== (Strict equal to): Checks if two values are equal in both value and type (e.g., 5 === '5' evaluates to false because one is a number and the other is a string).\n",
    "\n",
    "!== (Strict not equal to): Checks if two values are different in either value or type (e.g., 5 !== '5' evaluates to true).\n",
    "\n",
    "> (Greater than): Checks if the left value is larger than the right value (e.g., 10 > 5 evaluates to true).\n",
    "\n",
    "\n",
    ">= (Greater than or equal to): Checks if the left value is larger than or equal to the right value (e.g., 18 >= 18 evaluates to true).\n",
    "\n",
    "<= (Less than or equal to): Checks if the left value is smaller than or equal to the right value (e.g., 5 <= 10 evaluates to true)."
   ]
  },
  {
   "cell_type": "markdown",
   "metadata": {},
   "source": [
    "# 1 - Basic Boolean Values"
   ]
  },
  {
   "cell_type": "markdown",
   "metadata": {},
   "source": [
    "The basic boolean values are true and false, here is a quick example"
   ]
  },
  {
   "cell_type": "code",
   "execution_count": 9,
   "metadata": {
    "vscode": {
     "languageId": "javascript"
    }
   },
   "outputs": [
    {
     "data": {
      "application/javascript": "\nlet isRaining = true;  // The condition \"Is it raining?\" is true.\nlet isSunny = false;   // The condition \"Is it sunny?\" is false.\n\nconsole.log(isRaining);  // true\nconsole.log(isSunny);    // false\n",
      "text/plain": [
       "<IPython.core.display.Javascript object>"
      ]
     },
     "metadata": {},
     "output_type": "display_data"
    }
   ],
   "source": [
    "%%js\n",
    "\n",
    "let isRaining = true;  // The condition \"Is it raining?\" is true.\n",
    "let isSunny = false;   // The condition \"Is it sunny?\" is false.\n",
    "\n",
    "console.log(isRaining);  // true\n",
    "console.log(isSunny);    // false"
   ]
  },
  {
   "cell_type": "markdown",
   "metadata": {},
   "source": [
    " \n",
    " isRaining is true, meaning the condition (it's raining) is correct.\n",
    "\n",
    "\n",
    " isSunny is false, meaning the condition (it's sunny) is false."
   ]
  },
  {
   "cell_type": "markdown",
   "metadata": {},
   "source": [
    "# 2 - Boolean Operators - And/Or/Not"
   ]
  },
  {
   "cell_type": "markdown",
   "metadata": {
    "vscode": {
     "languageId": "javascript"
    }
   },
   "source": [
    "# AND (&&) - Operator returns true if both conditions are true"
   ]
  },
  {
   "cell_type": "code",
   "execution_count": 10,
   "metadata": {
    "vscode": {
     "languageId": "javascript"
    }
   },
   "outputs": [
    {
     "data": {
      "application/javascript": "let isHot = true;\nlet isSummer = true;\nlet shouldGoToBeach = isHot && isSummer;  // Both conditions must be true\n\nconsole.log(shouldGoToBeach);  // true\n",
      "text/plain": [
       "<IPython.core.display.Javascript object>"
      ]
     },
     "metadata": {},
     "output_type": "display_data"
    }
   ],
   "source": [
    "%%js\n",
    "let isHot = true;\n",
    "let isSummer = true;\n",
    "let shouldGoToBeach = isHot && isSummer;  // Both conditions must be true\n",
    "\n",
    "console.log(shouldGoToBeach);  // true\n"
   ]
  },
  {
   "cell_type": "markdown",
   "metadata": {},
   "source": [
    "# OR (||) - Operator returns true if at least one condition is true"
   ]
  },
  {
   "cell_type": "code",
   "execution_count": 11,
   "metadata": {
    "vscode": {
     "languageId": "javascript"
    }
   },
   "outputs": [
    {
     "data": {
      "application/javascript": "let hasUmbrella = true;\nlet isRaining = false;\nlet canGoOutside = hasUmbrella || isRaining;  // Only one condition needs to be true\n\nconsole.log(canGoOutside);  // true\n",
      "text/plain": [
       "<IPython.core.display.Javascript object>"
      ]
     },
     "metadata": {},
     "output_type": "display_data"
    }
   ],
   "source": [
    "%%js \n",
    "let hasUmbrella = true;\n",
    "let isRaining = false;\n",
    "let canGoOutside = hasUmbrella || isRaining;  // Only one condition needs to be true\n",
    "\n",
    "console.log(canGoOutside);  // true\n"
   ]
  },
  {
   "cell_type": "markdown",
   "metadata": {},
   "source": [
    "# NOT (!) - Changes the value of variable"
   ]
  },
  {
   "cell_type": "code",
   "execution_count": null,
   "metadata": {
    "vscode": {
     "languageId": "javascript"
    }
   },
   "outputs": [],
   "source": [
    "%%js\n",
    "let isLoggedIn = false;\n",
    "let isAdmin = !isLoggedIn;  // Inverts the value of isLoggedIn\n",
    "\n",
    "console.log(isAdmin);  // true\n"
   ]
  },
  {
   "cell_type": "markdown",
   "metadata": {},
   "source": [
    "# 3 - Boolean expressions"
   ]
  },
  {
   "cell_type": "markdown",
   "metadata": {},
   "source": [
    "A Boolean expression evaluates to either true or false"
   ]
  },
  {
   "cell_type": "code",
   "execution_count": 12,
   "metadata": {
    "vscode": {
     "languageId": "javascript"
    }
   },
   "outputs": [
    {
     "data": {
      "application/javascript": "let userIsLoggedIn = true;\nlet isAdmin = true;\n\nlet Acessgranted = userIsLoggedIn && isAdmin;  // Both conditions must be true, we are using the And/&& operator here\n\nconsole.log(Acessgranted);  // true\n",
      "text/plain": [
       "<IPython.core.display.Javascript object>"
      ]
     },
     "metadata": {},
     "output_type": "display_data"
    }
   ],
   "source": [
    "%%js\n",
    "let userIsLoggedIn = true;\n",
    "let isAdmin = true;\n",
    "\n",
    "let Acessgranted = userIsLoggedIn && isAdmin;  // Both conditions must be true, we are using the And/&& operator here\n",
    "\n",
    "console.log(Acessgranted);  // true\n"
   ]
  },
  {
   "cell_type": "markdown",
   "metadata": {},
   "source": [
    "The expression 'userIsLoggedIn && isAdmin' checks if the user is logged in and an admin. Since both conditions are true, acessgranted is true."
   ]
  }
 ],
 "metadata": {
  "kernelspec": {
   "display_name": ".venv",
   "language": "python",
   "name": "python3"
  },
  "language_info": {
   "codemirror_mode": {
    "name": "ipython",
    "version": 3
   },
   "file_extension": ".py",
   "mimetype": "text/x-python",
   "name": "python",
   "nbconvert_exporter": "python",
   "pygments_lexer": "ipython3",
   "version": "3.13.1"
  }
 },
 "nbformat": 4,
 "nbformat_minor": 2
}
