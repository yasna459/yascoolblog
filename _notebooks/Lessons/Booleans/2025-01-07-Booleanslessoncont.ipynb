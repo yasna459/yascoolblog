{
 "cells": [
  {
   "cell_type": "raw",
   "metadata": {
    "vscode": {
     "languageId": "raw"
    }
   },
   "source": [
    "---\n",
    "layout: post\n",
    "title: Boolean Lesson 2\n",
    "description: Booleans continued\n",
    "categories: [Foundation]\n",
    "courses: { csse: {week: 2}, csp: {week: 1}, csa: {week: 1} }\n",
    "permalink: /CSSE/Javascript/Booleans2/p3\n",
    "comments: true\n",
    "sticky_rank: 1\n",
    "---"
   ]
  },
  {
   "cell_type": "markdown",
   "metadata": {},
   "source": [
    "<style>\n",
    "p {\n",
    "    color: darkblue;\n",
    "    font-family: 'Courier New';\n",
    "    font-size: 18px;\n",
    "}\n",
    "\n",
    "h3 {\n",
    "    color: darkblue;\n",
    "    font-family: 'Courier New';\n",
    "}\n",
    "</style>\n",
    "\n",
    "<body>\n",
    "\n",
    "<p> Booleans are just true and false statements. If you put \" 3 > 1\", the output would be true, because 3 is more than 1 (wow so amazing). </p>\n",
    " \n",
    " <br>\n",
    "\n",
    "<h3>Booleans Example</h3>\n",
    "<p> Below is an example of what a boolean is. This is how they work. Running the cell will check if the variables are true or false. Based on the variables, the boolean will output either true or false, which you can use to do certain commands/actions. </p>\n",
    "\n",
    " </body>"
   ]
  },
  {
   "cell_type": "code",
   "execution_count": 1,
   "metadata": {
    "vscode": {
     "languageId": "javascript"
    }
   },
   "outputs": [
    {
     "data": {
      "application/javascript": "\n//You can use these to check your booleans\nlet keyInserted = true;\nlet correctKey = false;\nlet lockPick = false;\n\nif (lockPick) {\n    console.log(\"Door opened.\")\n}\nelse {\n    //Check if the key you have was inserted and is the correct key\n    if (keyInserted){\n        console.log(\"Inserted key into door.\")\n    }\n    else {\n        console.log(\"Insert key into door.\")\n    }\n    if (keyInserted && correctKey){\n        console.log(\"Door opened.\")\n    }\n    else {\n        console.log(\"Incorrect key, door did not open.\")\n    }\n}\n\n",
      "text/plain": [
       "<IPython.core.display.Javascript object>"
      ]
     },
     "metadata": {},
     "output_type": "display_data"
    }
   ],
   "source": [
    "%%js\n",
    "\n",
    "//Play around with the variables to see what happens\n",
    "let keyInserted = true;\n",
    "let correctKey = false;\n",
    "let lockPick = false;\n",
    "\n",
    "if (lockPick) {\n",
    "    console.log(\"Door opened.\")\n",
    "}\n",
    "else {\n",
    "    //Check if the key you have was inserted and is the correct key\n",
    "    if (keyInserted){\n",
    "        console.log(\"Inserted key into door.\")\n",
    "    }\n",
    "    else {\n",
    "        console.log(\"Insert key into door.\")\n",
    "    }\n",
    "    if (keyInserted && correctKey){\n",
    "        console.log(\"Door opened.\")\n",
    "    }\n",
    "    else {\n",
    "        console.log(\"Incorrect key, door did not open.\")\n",
    "    }\n",
    "}\n",
    "\n"
   ]
  },
  {
   "cell_type": "markdown",
   "metadata": {},
   "source": [
    "<style>\n",
    "p {\n",
    "    color: darkblue;\n",
    "    font-family: 'Courier New';\n",
    "    font-size: 18px;\n",
    "}\n",
    "\n",
    "h3 {\n",
    "    color: darkblue;\n",
    "    font-family: 'Courier New';\n",
    "}\n",
    "</style>\n",
    "\n",
    "<body>\n",
    "<h3>More information on Booleans</h3>\n",
    "<p> The Boolean() command lets variables that are not booleans to become booleans.<br>\n",
    "<br>\n",
    "<p> The Boolean() command follows these following rules: </p>\n",
    "    <br>\n",
    "    <ol>\n",
    "    <li> True - if there is an interger inside Boolean(), that is not 0. </li>\n",
    "    <li> False - if there is an interger inside Boolean(), that is 0.</li>\n",
    "    <li>True - if the variable inside Boolean() is a string, and has something in it.</li>\n",
    "    <li>False - if the variable inside Boolean() is a string, and does not have something inside it. </li>\n",
    "    </ol>\n",
    "    \n",
    "</body>"
   ]
  },
  {
   "cell_type": "code",
   "execution_count": null,
   "metadata": {
    "vscode": {
     "languageId": "javascript"
    }
   },
   "outputs": [],
   "source": [
    "%%js \n",
    "\n",
    "let l = \"qrstuv\";\n",
    "let m = 48;\n",
    "let n = \"wxy and z\"\n",
    "let o = 0;\n",
    "let p = 1245;\n",
    "\n",
    "if (Boolean(l) == true ) {\n",
    "    console.log(\"A: Correct!\");\n",
    "} else {\n",
    "    console.log(\"A: Incorrect!\");\n",
    "}\n",
    "if (Boolean(m) == true ) {\n",
    "    console.log(\"B: Correct!\");\n",
    "} else {\n",
    "    console.log(\"B: Incorrect!\");\n",
    "}\n",
    "if (Boolean(n) == true) {\n",
    "    console.log(\"C: Correct!\");\n",
    "} else {\n",
    "    console.log(\"C: Incorrect!\");\n",
    "}\n",
    "if (Boolean(o) == true) {\n",
    "    console.log(\"D: Correct!\")\n",
    "} else {\n",
    "    console.log(\"D: Incorrect!\");\n",
    "}\n",
    "if (Boolean(p) == true) {\n",
    "    console.log(\"E: Correct!\");\n",
    "} else {\n",
    "    console.log(\"E: Incorrect!\");\n",
    "}\n",
    "if (Boolean(l) == true && Boolean(m) == true) {\n",
    "    console.log(\"Yay! It's the ABC's!\");\n",
    "} else {\n",
    "    console.log(\"Where's the rest?\");\n",
    "}"
   ]
  }
 ],
 "metadata": {
  "kernelspec": {
   "display_name": ".venv",
   "language": "python",
   "name": "python3"
  },
  "language_info": {
   "codemirror_mode": {
    "name": "ipython",
    "version": 3
   },
   "file_extension": ".py",
   "mimetype": "text/x-python",
   "name": "python",
   "nbconvert_exporter": "python",
   "pygments_lexer": "ipython3",
   "version": "3.13.1"
  }
 },
 "nbformat": 4,
 "nbformat_minor": 2
}
