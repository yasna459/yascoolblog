{
 "cells": [
  {
   "cell_type": "raw",
   "metadata": {
    "vscode": {
     "languageId": "raw"
    }
   },
   "source": [
    "---\n",
    "layout: post\n",
    "title: Homework\n",
    "description:  Homework for classes and methods lessons.\n",
    "type: issues \n",
    "comments: true\n",
    "---"
   ]
  },
  {
   "cell_type": "markdown",
   "metadata": {},
   "source": [
    "## Homework "
   ]
  },
  {
   "cell_type": "markdown",
   "metadata": {},
   "source": [
    "# JavaScript Classes and Methods - Interactive Homework\n",
    "In this notebook, you will learn about classes and methods in JavaScript. After the lesson, complete the tasks by editing the code cells.\n",
    "\n",
    "### What are Classes and Methods?\n",
    "- **Class**: A blueprint for creating objects with properties and methods.\n",
    "- **Method**: A function inside a class that defines an object's behavior.\n",
    "\n"
   ]
  },
  {
   "cell_type": "markdown",
   "metadata": {},
   "source": [
    "## Example: Class for food\n",
    "\n",
    "Below is an example of a JavaScript class for creating different foods. The class has:\n",
    "1. A **constructor** to initialize properties (brand and model).\n",
    "2. Two **methods** (`displayInfo` and `start`) to define behaviors.\n"
   ]
  },
  {
   "cell_type": "code",
   "execution_count": 3,
   "metadata": {
    "vscode": {
     "languageId": "javascript"
    }
   },
   "outputs": [
    {
     "data": {
      "application/javascript": "// Fridge Mini-Game: Enhanced with scores and quality feedback\n//place class + constructor here\nclass FridgeGame {\n  constructor() {\n    // Array of items in the fridge with their scores\n    this.fridgeItems = [ //Write in ten items found in a fridge and assign them a value of 1-10 (values can repeat)\n      { name: \"Piece of pizza\", score: 10 },\n      { name: \"Moldy Bread\", score: 3 },\n      { name: \"Green Turkey\", score: 1 },\n      { name: \"Kiwi Guava Celcius\", score: 9 },\n      { name: \"Sparkling Pineapple Juice\", score: 7 },\n      { name: \"Rotting Orange\", score: 2 },\n      { name: \"Peach Vibe Celcius\", score: 10 },\n      { name: \"Cookie Dough\", score: 8 },\n      { name: \"Sliced Apples\", score: 5 },\n      { name: \"Organic Strawberries\", score: 6 },// Its more fun if it FUNNY\n    ];\n  }\n  // Method to pick a random item from the fridge\n  grabItem() {\n    const randomIndex = Math.floor(Math.random() * this.fridgeItems.length);\n    return this.fridgeItems[randomIndex];\n  }\n  // Method to classify the find based on its score\n  classifyFind(score) {\n    if (score >= 7) {\n      return \"Nice! That's good food!\";\n    } else if (score >= 4) {\n      return \"Okay...That's fine.\";\n    } else {\n      return \"I don't think I'd eat that...\";\n    }\n  } // Create an if -> return -> else -> return loop using youe scoring system to create an output of good, meh, bad\n  // Reference method to start the game (Some fill in the blank)\n  play() {\n    console.log(\"You go downstairs and open the fridge at midnight looking for a snack.\"); // Write a response\n    const item = this.grabItem();\n    console.log(`You picked a ${item.name}!`); //fill in the () with a phrase on the item and a reference to the item\n    // Get feedback based on the item's score (unchanged you only need to fix the {} )\n    // find and fix the misisng pieces\n    const feedback = this.classifyFind(item.score);\n    console.log(`It is ${feedback} Score: ${item.score}`);\n  }\n}\n// Create an instance of the game  hint: const.\nconst fridgeGame = new FridgeGame\n// Start the game by calling the play method hint .play\nfridgeGame.play()\n",
      "text/plain": [
       "<IPython.core.display.Javascript object>"
      ]
     },
     "metadata": {},
     "output_type": "display_data"
    }
   ],
   "source": [
    "%%js\n",
    "// Fridge Mini-Game: Enhanced with scores and quality feedback\n",
    "//place class + constructor here\n",
    "class FridgeGame {\n",
    "  constructor() {\n",
    "    // Array of items in the fridge with their scores\n",
    "    this.fridgeItems = [ //Write in ten items found in a fridge and assign them a value of 1-10 (values can repeat)\n",
    "      { name: \"Piece of pizza\", score: 10 },\n",
    "      { name: \"Moldy Bread\", score: 3 },\n",
    "      { name: \"Green Turkey\", score: 1 },\n",
    "      { name: \"Kiwi Guava Celcius\", score: 9 },\n",
    "      { name: \"Sparkling Pineapple Juice\", score: 7 },\n",
    "      { name: \"Rotting Orange\", score: 2 },\n",
    "      { name: \"Peach Vibe Celcius\", score: 10 },\n",
    "      { name: \"Cookie Dough\", score: 8 },\n",
    "      { name: \"Sliced Apples\", score: 5 },\n",
    "      { name: \"Organic Strawberries\", score: 6 },// Its more fun if it FUNNY\n",
    "    ];\n",
    "  }\n",
    "  // Method to pick a random item from the fridge\n",
    "  grabItem() {\n",
    "    const randomIndex = Math.floor(Math.random() * this.fridgeItems.length);\n",
    "    return this.fridgeItems[randomIndex];\n",
    "  }\n",
    "  // Method to classify the find based on its score\n",
    "  classifyFind(score) {\n",
    "    if (score >= 7) {\n",
    "      return \"Nice! That's good food!\";\n",
    "    } else if (score >= 4) {\n",
    "      return \"Okay...That's fine.\";\n",
    "    } else {\n",
    "      return \"I don't think I'd eat that...\";\n",
    "    }\n",
    "  } // Create an if -> return -> else -> return loop using youe scoring system to create an output of good, meh, bad\n",
    "  // Reference method to start the game (Some fill in the blank)\n",
    "  play() {\n",
    "    console.log(\"You go downstairs and open the fridge at midnight looking for a snack.\"); // Write a response\n",
    "    const item = this.grabItem();\n",
    "    console.log(`You picked a ${item.name}!`); //fill in the () with a phrase on the item and a reference to the item\n",
    "    // Get feedback based on the item's score (unchanged you only need to fix the {} )\n",
    "    // find and fix the misisng pieces\n",
    "    const feedback = this.classifyFind(item.score);\n",
    "    console.log(`It is ${feedback} Score: ${item.score}`);\n",
    "  }\n",
    "}\n",
    "// Create an instance of the game  hint: const.\n",
    "const fridgeGame = new FridgeGame\n",
    "// Start the game by calling the play method hint .play\n",
    "fridgeGame.play()"
   ]
  }
 ],
 "metadata": {
  "kernelspec": {
   "display_name": "venv",
   "language": "python",
   "name": "python3"
  },
  "language_info": {
   "codemirror_mode": {
    "name": "ipython",
    "version": 3
   },
   "file_extension": ".py",
   "mimetype": "text/x-python",
   "name": "python",
   "nbconvert_exporter": "python",
   "pygments_lexer": "ipython3",
   "version": "3.13.1"
  }
 },
 "nbformat": 4,
 "nbformat_minor": 2
}
