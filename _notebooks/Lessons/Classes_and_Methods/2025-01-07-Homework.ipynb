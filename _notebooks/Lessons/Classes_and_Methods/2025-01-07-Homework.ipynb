{
 "cells": [
  {
   "cell_type": "raw",
   "metadata": {
    "vscode": {
     "languageId": "raw"
    }
   },
   "source": [
    "---\n",
    "layout: post\n",
    "title: Homework\n",
    "description:  Homework for classes and methods lessons.\n",
    "type: issues \n",
    "comments: true\n",
    "---"
   ]
  },
  {
   "cell_type": "markdown",
   "metadata": {},
   "source": [
    "## Homework "
   ]
  },
  {
   "cell_type": "markdown",
   "metadata": {},
   "source": [
    "# JavaScript Classes and Methods - Interactive Homework\n",
    "In this notebook, you will learn about classes and methods in JavaScript. After the lesson, complete the tasks by editing the code cells.\n",
    "\n",
    "### What are Classes and Methods?\n",
    "- **Class**: A blueprint for creating objects with properties and methods.\n",
    "- **Method**: A function inside a class that defines an object's behavior.\n",
    "\n"
   ]
  },
  {
   "cell_type": "markdown",
   "metadata": {},
   "source": [
    "## Example: Class for food\n",
    "\n",
    "Below is an example of a JavaScript class for creating different foods. The class has:\n",
    "1. A **constructor** to initialize properties (brand and model).\n",
    "2. Two **methods** (`displayInfo` and `start`) to define behaviors.\n"
   ]
  },
  {
   "cell_type": "code",
   "execution_count": 8,
   "metadata": {
    "vscode": {
     "languageId": "javascript"
    }
   },
   "outputs": [
    {
     "data": {
      "application/javascript": "// Example: A Class for Cars\nclass Car {\n  constructor(brand, model) {\n    this.brand = brand; // Property\n    this.model = model; // Property\n  }\n\n  displayInfo() {\n    console.log(`This car is a ${this.brand} ${this.model}.`);\n  }\n\n  start() {\n    console.log(`${this.brand} ${this.model} is starting...`);\n  }\n}\n\n// Create an instance of the class\nconst myCar = new Car(\"Tesla\", \"Model S\");\nmyCar.displayInfo();\nmyCar.start();\n",
      "text/plain": [
       "<IPython.core.display.Javascript object>"
      ]
     },
     "metadata": {},
     "output_type": "display_data"
    }
   ],
   "source": [
    "%%js\n",
    "// Example: A Class for Cars\n",
    "class Car {\n",
    "  constructor(brand, model) {\n",
    "    this.brand = brand; // Property\n",
    "    this.model = model; // Property\n",
    "  }\n",
    "\n",
    "  displayInfo() {\n",
    "    console.log(`This car is a ${this.brand} ${this.model}.`);\n",
    "  }\n",
    "\n",
    "  start() {\n",
    "    console.log(`${this.brand} ${this.model} is starting...`);\n",
    "  }\n",
    "}\n",
    "\n",
    "// Create an instance of the class\n",
    "const myCar = new Car(\"Tesla\", \"Model S\");\n",
    "myCar.displayInfo();\n",
    "myCar.start();\n"
   ]
  }
 ],
 "metadata": {
  "kernelspec": {
   "display_name": "Python 3",
   "language": "python",
   "name": "python3"
  },
  "language_info": {
   "codemirror_mode": {
    "name": "ipython",
    "version": 3
   },
   "file_extension": ".py",
   "mimetype": "text/x-python",
   "name": "python",
   "nbconvert_exporter": "python",
   "pygments_lexer": "ipython3",
   "version": "3.9.6"
  }
 },
 "nbformat": 4,
 "nbformat_minor": 2
}
