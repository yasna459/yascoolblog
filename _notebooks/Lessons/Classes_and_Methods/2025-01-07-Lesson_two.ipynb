{
 "cells": [
  {
   "cell_type": "raw",
   "metadata": {
    "vscode": {
     "languageId": "raw"
    }
   },
   "source": [
    "---\n",
    "layout: post\n",
    "title: Lesson Two - Classes\n",
    "description: Second lesson for classes and methods \n",
    "type: issues \n",
    "author: Hope Fune \n",
    "comments: true\n",
    "---"
   ]
  },
  {
   "cell_type": "markdown",
   "metadata": {},
   "source": [
    "## Lesson Two - Classes"
   ]
  },
  {
   "cell_type": "markdown",
   "metadata": {},
   "source": [
    "### What Are Classes ? \n",
    "Classes are helpful when organizing your code and work as a blueprint for creating different objects in code. Classes are created using the keyword: class. This would be followed by a name for that class.\n",
    "\n",
    "There are three different aspects that a class element that could be characterized as: \n",
    "- Kind: Getter, setter, method, or field\n",
    "- Location: Static or instance\n",
    "- Visibility: Public or private\n",
    "\n",
    "( These will be explained more near the end of the lesson :,) )\n",
    "\n",
    "For example:"
   ]
  },
  {
   "cell_type": "code",
   "execution_count": 2,
   "metadata": {
    "vscode": {
     "languageId": "javascript"
    }
   },
   "outputs": [
    {
     "data": {
      "application/javascript": "class Fridge {\n    constructor(food, drink) { \n        this.food = food;\n        this.drink = drink;\n    }\n}\n\n//this code is just an example of this specific lesson, it is not made to run \n",
      "text/plain": [
       "<IPython.core.display.Javascript object>"
      ]
     },
     "metadata": {},
     "output_type": "display_data"
    }
   ],
   "source": [
    "%%js\n",
    "class Fridge {\n",
    "    constructor(food, drink) { \n",
    "        this.food = food;\n",
    "        this.drink = drink;\n",
    "    }\n",
    "}\n",
    "\n",
    "//this code is just an example of this specific lesson, it is not made to run "
   ]
  },
  {
   "cell_type": "markdown",
   "metadata": {},
   "source": [
    "### Explanation For Code Above: \n",
    "The code has created a class called 'Fridge', which contains food and drinks as seen in the parenthesis `()`. The objects inside of the class are the initial properties. But before the parenthesis, there is the word **constructor** before it. \n",
    "\n",
    "**Constructor** is a type of method used when creating an instance of an object for that class. \n",
    "\n",
    "Afterwards, there is a list of each object. The `this` in items like `this.food` and `this.drink` works similar to a placeholder. Later, 'this' will become objects that are later created like 'jacksFridge' and 'nicosFridge'. The body of the class, which contains the class members ( *constructor* ) and the object you're making a class of, is all going to be held inside curly brackets `{}`."
   ]
  },
  {
   "cell_type": "markdown",
   "metadata": {},
   "source": [
    "### How Do You Use Classes?\n",
    "After you have created a class that you are happy with, you are free to use the class to create objects! \n",
    "\n",
    "Example:"
   ]
  },
  {
   "cell_type": "code",
   "execution_count": 1,
   "metadata": {
    "vscode": {
     "languageId": "javascript"
    }
   },
   "outputs": [
    {
     "data": {
      "application/javascript": "class Fridge {\n    constructor(food, drink) { \n        this.food = food;\n        this.drink = drink;\n    }\n}\n\n// this is the code that was created when introducing classes.\n// we will be using it for an example for the rest of this lesson, so get used to it :)\n\n\n// new objects \nconst jacksFridge = new Fridge(\"eggs\", \"milk\");\nconst nicosFridge = new Fridge(\"chicken\", \"redbull\");\n",
      "text/plain": [
       "<IPython.core.display.Javascript object>"
      ]
     },
     "metadata": {},
     "output_type": "display_data"
    }
   ],
   "source": [
    "%%js\n",
    "class Fridge {\n",
    "    constructor(food, drink) { \n",
    "        this.food = food;\n",
    "        this.drink = drink;\n",
    "    }\n",
    "}\n",
    "\n",
    "// this is the code that was created when introducing classes.\n",
    "// we will be using it for an example for the rest of this lesson, so get used to it :)\n",
    "\n",
    "\n",
    "// new objects \n",
    "const jacksFridge = new Fridge(\"eggs\", \"milk\");\n",
    "const nicosFridge = new Fridge(\"chicken\", \"redbull\");"
   ]
  },
  {
   "cell_type": "markdown",
   "metadata": {},
   "source": [
    "### Explanation:\n",
    "Here, there a new object is created that now replaces the 'this' as mentioned before. Two new Fridge objects are created called `nicosFridge` and `jacksFridge` that contains their personal food and drink items. The `const` ( constructor ) has to be called immediately when creating a new object. "
   ]
  },
  {
   "cell_type": "markdown",
   "metadata": {},
   "source": [
    "### Using Classes To Create Something\n",
    "Using the pervious code, there is going to be a last step to this code that will use the class and objects that has been created to \"print\" something. Below is some code that is going to print a sentence that has something to do with the new Fridges we made. The console should state what food and drink is inside of the respectful object. \n"
   ]
  },
  {
   "cell_type": "code",
   "execution_count": 6,
   "metadata": {
    "vscode": {
     "languageId": "javascript"
    }
   },
   "outputs": [
    {
     "data": {
      "application/javascript": "class Fridge {\n    constructor(food, drink) { \n        this.food = food;\n        this.drink = drink;\n    }\n}\n\nconst jacksFridge = new Fridge(\"eggs\", \"milk\");\nconst nicosFridge = new Fridge(\"chicken\", \"redbull\");\n\nconsole.log(\"My fridge has \" + jacksFridge.food + \" and \" + jacksFridge.drink);\n",
      "text/plain": [
       "<IPython.core.display.Javascript object>"
      ]
     },
     "metadata": {},
     "output_type": "display_data"
    }
   ],
   "source": [
    "%%js\n",
    "class Fridge {\n",
    "    constructor(food, drink) { \n",
    "        this.food = food;\n",
    "        this.drink = drink;\n",
    "    }\n",
    "}\n",
    "\n",
    "const jacksFridge = new Fridge(\"eggs\", \"milk\");\n",
    "const nicosFridge = new Fridge(\"chicken\", \"redbull\");\n",
    "\n",
    "console.log(\"My fridge has \" + jacksFridge.food + \" and \" + jacksFridge.drink);"
   ]
  },
  {
   "cell_type": "markdown",
   "metadata": {},
   "source": [
    "### Explanation \n",
    "\n",
    "console.log is a function that prints what you code and tell it to print! The code inside of that function should print out \"My fridge has eggs and milk\". \n",
    "\n",
    "As seen in the code, there the first few words are in quotation marks that start of the sentence. Then, it adds `jacksFridge.food`. As seen in the created object above, it should print what `jacksFridge` has for food, which is eggs. `jacksFridge` takes place of the `this` in `this.food` because of the object created earlier. Between the food and drink, there is an \"and\" then a call to print `jacksFridge.drink` as well, which should print out what `jacksFridge` has for a drink.\n",
    "\n",
    "This was an easy code that uses classes to print something out onto console, but there are much more complicated projects that could be created with classes and methods. :) "
   ]
  },
  {
   "cell_type": "markdown",
   "metadata": {},
   "source": [
    "## Aspect: Kind \n",
    "Now, let's create an example that explains a little bit of one of the different aspects that could be used with classes."
   ]
  },
  {
   "cell_type": "code",
   "execution_count": 8,
   "metadata": {
    "vscode": {
     "languageId": "javascript"
    }
   },
   "outputs": [
    {
     "data": {
      "application/javascript": "\nclass Fridge {\n    constructor(food, drink) {\n        this.food = food;\n        this.drink = drink;\n    }\n\n    // Getter\n    get contents() {\n        return this.printcontents();\n    }\n\n    // Method\n    printcontents() {\n        return (\"My fridge has \" + jacksFridge.food + \" and \" + jacksFridge.drink);\n    }\n\n    // Generator\n    *getSides() {\n        yield this.height;\n        yield this.width;\n        yield this.height;\n        yield this.width;\n    }\n}\n",
      "text/plain": [
       "<IPython.core.display.Javascript object>"
      ]
     },
     "metadata": {},
     "output_type": "display_data"
    }
   ],
   "source": [
    "%%js\n",
    "\n",
    "class Fridge {\n",
    "    constructor(food, drink) {\n",
    "        this.food = food;\n",
    "        this.drink = drink;\n",
    "    }\n",
    "\n",
    "    // Getter\n",
    "    get contents() {\n",
    "        return this.printContents();\n",
    "    }\n",
    "\n",
    "    // Method\n",
    "    printContents() {\n",
    "        return (\"My fridge has \" + jacksFridge.food + \" and \" + jacksFridge.drink);\n",
    "    }\n",
    "\n",
    "    // Generator\n",
    "    *getItems() {\n",
    "        yield this.food;\n",
    "        yield this.drink;\n",
    "        yield this.food;\n",
    "        yield this.drink;\n",
    "    }\n",
    "}\n"
   ]
  },
  {
   "cell_type": "markdown",
   "metadata": {},
   "source": [
    "### Sources / Help \n",
    "1. Classes and Methods lesson example provided. https://github.com/nighthawkcoders/portfolio_2025/blob/main/_notebooks/CSSE/Lessons/Classes_and_Methods/2024-10-27-classes-intro.ipynb\n",
    "\n",
    "2. W3Schools.com, JavaScript Classes. https://www.w3schools.com/js/js_classes.asp\n",
    "\n",
    "3. W3Schools.com, JavaScript Object Constructors https://www.w3schools.com/js/js_object_constructors.asp"
   ]
  }
 ],
 "metadata": {
  "kernelspec": {
   "display_name": "Python 3",
   "language": "python",
   "name": "python3"
  },
  "language_info": {
   "codemirror_mode": {
    "name": "ipython",
    "version": 3
   },
   "file_extension": ".py",
   "mimetype": "text/x-python",
   "name": "python",
   "nbconvert_exporter": "python",
   "pygments_lexer": "ipython3",
   "version": "3.13.1"
  }
 },
 "nbformat": 4,
 "nbformat_minor": 2
}
