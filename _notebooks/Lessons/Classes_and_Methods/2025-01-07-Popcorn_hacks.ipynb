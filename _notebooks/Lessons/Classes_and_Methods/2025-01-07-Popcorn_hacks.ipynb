{
 "cells": [
  {
   "cell_type": "raw",
   "metadata": {
    "vscode": {
     "languageId": "raw"
    }
   },
   "source": [
    "---\n",
    "layout: post\n",
    "title: Popcorn Hacks\n",
    "description:  Popcorn Hacks for lessons.\n",
    "type: issues \n",
    "comments: true\n",
    "---"
   ]
  },
  {
   "cell_type": "markdown",
   "metadata": {},
   "source": [
    "# JavaScript Classes and Methods - Interactive Popcorns \n",
    "In this notebook, you will learn about classes and methods in JavaScript. During the lesson, use these to enhance your understanding of clases and methods\n",
    "### \n",
    "- **Objectivs**: Do something - Change Later\n",
    "- **How**:\n",
    "\n"
   ]
  },
  {
   "cell_type": "code",
   "execution_count": 2,
   "metadata": {
    "vscode": {
     "languageId": "javascript"
    }
   },
   "outputs": [
    {
     "data": {
      "application/javascript": "// Exercise 1: Create a Rectangle (aka a fridge)\nclass Rectangle {\n  constructor(width, height) {\n      this.width = width;\n      this.height = height;\n  }\n\n  getArea() {\n      return this.width * this.height;\n  }\n}\n\n// Creating a rectangle (fridge)\nconst fridge = new Rectangle(20, 40);\nconsole.log(`Fridge area: ${fridge.getArea()} units²`);\n",
      "text/plain": [
       "<IPython.core.display.Javascript object>"
      ]
     },
     "metadata": {},
     "output_type": "display_data"
    }
   ],
   "source": [
    "\n",
    "%%js\n",
    "// Exercise 1: Create a Rectangle (aka a fridge)\n",
    "class Rectangle {\n",
    "  constructor(width, height) {\n",
    "      this.width = width;\n",
    "      this.height = height;\n",
    "  }\n",
    "\n",
    "  getArea() {\n",
    "      return this.width * this.height;\n",
    "  }\n",
    "}\n",
    "\n",
    "// Creating a rectangle (fridge)\n",
    "const fridge = new Rectangle(10, 20);\n",
    "console.log(`Fridge area: ${fridge.getArea()} units²`);"
   ]
  },
  {
   "cell_type": "code",
   "execution_count": 3,
   "metadata": {
    "vscode": {
     "languageId": "javascript"
    }
   },
   "outputs": [
    {
     "data": {
      "application/javascript": "//excercise 2 \nconst rect1 = new Rectangle(20,40);\nconsole.log(`Initial area: ${rect1.getArea()} units²`);\nrect1.width = 10;\nrect1.height = 20;\nconsole.log(`New area: ${rect1.getArea()} units2`);\n",
      "text/plain": [
       "<IPython.core.display.Javascript object>"
      ]
     },
     "metadata": {},
     "output_type": "display_data"
    }
   ],
   "source": [
    "%%js \n",
    "//excercise 2 \n",
    "const rect1 = new Rectangle(20,40);\n",
    "console.log(`Initial area: ${rect1.getArea()} units²`);\n",
    "rect1.width = 10;\n",
    "rect1.height = 20;\n",
    "console.log(`New area: ${rect1.getArea()} units2`);\n"
   ]
  },
  {
   "cell_type": "code",
   "execution_count": 4,
   "metadata": {
    "vscode": {
     "languageId": "javascript"
    }
   },
   "outputs": [
    {
     "data": {
      "application/javascript": "//excercise 3\nconst pairs = [];\nfor (let w = 1; w <= 48; w++) {\n    if (48% w === 0) {\n        let h = 48 / w;\n        pairs.push ([w, h]);\n    }\n}\nconsole.log(\"Pairs with area 48:\", pairs);\n",
      "text/plain": [
       "<IPython.core.display.Javascript object>"
      ]
     },
     "metadata": {},
     "output_type": "display_data"
    }
   ],
   "source": [
    "%%js \n",
    "//excercise 3\n",
    "const pairs = [];\n",
    "for (let w = 1; w <= 48; w++) {\n",
    "    if (48% w === 0) {\n",
    "        let h = 48 / w;\n",
    "        pairs.push ([w, h]);\n",
    "    }\n",
    "}\n",
    "console.log(\"Pairs with area 48:\", pairs);\n"
   ]
  },
  {
   "cell_type": "code",
   "execution_count": null,
   "metadata": {
    "vscode": {
     "languageId": "javascript"
    }
   },
   "outputs": [],
   "source": [
    "%%js \n",
    "//excercise 4\n",
    "class Rectangle {\n",
    "    constructor(width,height) {\n",
    "        this.width = width;\n",
    "        this.height = height;\n",
    "    }\n",
    "    get Perimeter() {\n",
    "        return 2 * (this.width + this.height);\n",
    "    }\n",
    "}\n",
    "\n",
    "const rect = new Rectangle(10,5);\n",
    "console.log(rect.getPerimeter());"
   ]
  },
  {
   "cell_type": "code",
   "execution_count": null,
   "metadata": {
    "vscode": {
     "languageId": "javascript"
    }
   },
   "outputs": [],
   "source": [
    "%%js \n",
    "//excercise 5\n",
    "class Square {\n",
    "    constructor(sideLength) {\n",
    "        this.sideLength = sideLength;\n",
    "    }\n",
    "    getDiagonal() {\n",
    "        return this.sideLength * Math.sqrt(2);\n",
    "    }\n",
    "}\n",
    "\n",
    "const square = new Square(5);\n",
    "console.log(`Diagonal: ${square.getDiagonal().toFixed(2)}`)"
   ]
  }
 ],
 "metadata": {
  "kernelspec": {
   "display_name": "venv",
   "language": "python",
   "name": "python3"
  },
  "language_info": {
   "codemirror_mode": {
    "name": "ipython",
    "version": 3
   },
   "file_extension": ".py",
   "mimetype": "text/x-python",
   "name": "python",
   "nbconvert_exporter": "python",
   "pygments_lexer": "ipython3",
   "version": "3.13.1"
  }
 },
 "nbformat": 4,
 "nbformat_minor": 2
}
