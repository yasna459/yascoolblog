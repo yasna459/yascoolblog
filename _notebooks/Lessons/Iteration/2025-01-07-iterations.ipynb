{
 "cells": [
  {
   "cell_type": "markdown",
   "metadata": {},
   "source": [
    "---\n",
    "comments: True\n",
    "layout: post\n",
    "title: Iteration Lesson No.1\n",
    "description: An intro to Iterations\n",
    "permalink: /csse/javascript/fundamentals/iteration/1\n",
    "categories: [CSSE JavaScript Fundamentals]\n",
    "author: Andrew Ge, Ishan Shrivastava, Pratheep Natarajan, and Ruhaan Bansal\n",
    "---  "
   ]
  },
  {
   "cell_type": "markdown",
   "metadata": {},
   "source": [
    "# Intro to iterations\n",
    "- The basic gist of iterations are to repeat multiple actions for a desirable result\n",
    "- Used to repeat code more efficiently compared to just writing out all the functions line by line"
   ]
  },
  {
   "cell_type": "markdown",
   "metadata": {},
   "source": [
    "# For loops"
   ]
  },
  {
   "cell_type": "code",
   "execution_count": null,
   "metadata": {
    "vscode": {
     "languageId": "javascript"
    }
   },
   "outputs": [],
   "source": [
    "for (initialization; condition; increment) {\n",
    "    // Code to execute\n",
    "}"
   ]
  },
  {
   "cell_type": "markdown",
   "metadata": {},
   "source": [
    "## Variable explanations\n",
    "- Initialization - The starting point of the loop control variable, only excecuted once\n",
    "- Condition - This is the function that is checked BEFORE each iteration of the loop. If the condition is true, then the code is executed. If the condition is false, then the execution is terminated\n",
    "- Increment - The main updater of the loop variable when the iteration ends; excecuted at the end of each loop cycle"
   ]
  },
  {
   "cell_type": "markdown",
   "metadata": {},
   "source": [
    "## Example"
   ]
  },
  {
   "cell_type": "code",
   "execution_count": null,
   "metadata": {
    "vscode": {
     "languageId": "javascript"
    }
   },
   "outputs": [],
   "source": [
    "for (let count = 0; count < 5; count++) {\n",
    "    console.log(count);\n",
    "}"
   ]
  },
  {
   "cell_type": "markdown",
   "metadata": {},
   "source": [
    "## Parts explanation\n",
    "- Initialization - (let count = 0) Here, the initalization of the code is shown as this is the starting value and only ran once\n",
    "- Condition - (count < 5) Here, javascript determines whether the loop is true or false and determines when to terminate the code.\n",
    "- Increment - (count++;) This is the main updater of the code, this increments the number by one each time. This part is also responsible for terminating the code when the counter reaches 5\n",
    "- console.log(count) prints the output of the code"
   ]
  },
  {
   "cell_type": "markdown",
   "metadata": {},
   "source": [
    "### Output\n",
    "\n",
    "    0 \n",
    "\n",
    "    1 \n",
    "\n",
    "    2 \n",
    "\n",
    "    3 \n",
    "\n",
    "    4 "
   ]
  },
  {
   "cell_type": "markdown",
   "metadata": {},
   "source": [
    "## Looping through an array"
   ]
  },
  {
   "cell_type": "code",
   "execution_count": null,
   "metadata": {
    "vscode": {
     "languageId": "javascript"
    }
   },
   "outputs": [],
   "source": [
    "%%js\n",
    "const colors = ['red','blue','yellow','green','black'];\n",
    "\n",
    "for (let i = 0; i < colors.length; i++){\n",
    "    console.log(colors[i]); \n",
    "}"
   ]
  },
  {
   "cell_type": "markdown",
   "metadata": {},
   "source": [
    "### Explanation\n",
    "- const colors = ['red','blue','yellow','green','black']; acts as the array for the loop\n",
    "- i++ scrolls through the array by one each time; ex: red to blue, blue to yellow, etc."
   ]
  }
 ],
 "metadata": {
  "language_info": {
   "name": "python"
  }
 },
 "nbformat": 4,
 "nbformat_minor": 2
}
