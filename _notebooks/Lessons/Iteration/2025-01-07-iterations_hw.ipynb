{
 "cells": [
  {
   "cell_type": "code",
   "execution_count": null,
   "metadata": {},
   "outputs": [],
   "source": [
    "---\n",
    "comments: True\n",
    "layout: post\n",
    "title: Iteration Homework\n",
    "description: Iterations HW\n",
    "permalink: /csse/javascript/fundamentals/iteration/hw\n",
    "categories: [CSSE JavaScript Fundamentals]\n",
    "author: Andrew Ge, Ishan Shrivastava, Pratheep Natarajan, and Ruhaan Bansal\n",
    "---  "
   ]
  },
  {
   "cell_type": "markdown",
   "metadata": {},
   "source": [
    "### Exercise 1: Multiplication Table\n",
    "##### Write a JavaScript program to print the multiplication table for a given number."
   ]
  },
  {
   "cell_type": "markdown",
   "metadata": {},
   "source": [
    "##### Example:\n",
    "##### Input: 3\n",
    "##### Output:\n",
    "##### 3 x 1 = 3\n",
    "##### 3 x 2 = 6\n",
    "##### ...\n",
    "##### 3 x 10 = 30"
   ]
  },
  {
   "cell_type": "code",
   "execution_count": 7,
   "metadata": {
    "vscode": {
     "languageId": "javascript"
    }
   },
   "outputs": [
    {
     "data": {
      "application/javascript": "function multiplicationTable(number) {\n    for (let i = 1; i<=15; i++) { //this means that the number (4) will be multiplied by every value from 1 to 15\n        console.log(`${number} x ${i} = ${number * i}`); //makes sure that the resulting table is logged into the console\n    }\n}\nmultiplicationTable(4); //this is the number being multiplied\n",
      "text/plain": [
       "<IPython.core.display.Javascript object>"
      ]
     },
     "metadata": {},
     "output_type": "display_data"
    }
   ],
   "source": [
    "%%js\n",
    "function multiplicationTable(number) {\n",
    "    for (let i = 1; i<=15; i++) { //this means that the number (4) will be multiplied by every value from 1 to 15\n",
    "        console.log(`${number} x ${i} = ${number * i}`); //makes sure that the resulting table is logged into the console\n",
    "    }\n",
    "}\n",
    "multiplicationTable(4); //this is the number being multiplied"
   ]
  },
  {
   "cell_type": "markdown",
   "metadata": {},
   "source": [
    "### Exercise 2: Nested Loops\n",
    "##### Write a JavaScript program using nested loops to generate the following pattern:"
   ]
  },
  {
   "cell_type": "markdown",
   "metadata": {},
   "source": [
    "##### Output:\n",
    "##### 0\n",
    "##### 00\n",
    "##### 000\n",
    "##### 0000\n",
    "##### 00000"
   ]
  },
  {
   "cell_type": "code",
   "execution_count": null,
   "metadata": {
    "vscode": {
     "languageId": "javascript"
    }
   },
   "outputs": [],
   "source": [
    "%%js \n",
    "for (let i = 1; i <= 5; i++) { //this states how many values will be seen in the console\n",
    "    let zeroes = \"\";\n",
    "    for (let j = 1; j <= i; j++) {\n",
    "        zeroes += \"0\"; //this correlates the word \"zeroes\" to the number \"0\"\n",
    "    }\n",
    "    console.log(zeroes);\n",
    "}"
   ]
  },
  {
   "cell_type": "markdown",
   "metadata": {},
   "source": [
    "### Challenge Exercise: Prime Numbers\n",
    "##### Write a JavaScript program to print all prime numbers between 1 and 50."
   ]
  },
  {
   "cell_type": "code",
   "execution_count": 11,
   "metadata": {
    "vscode": {
     "languageId": "javascript"
    }
   },
   "outputs": [
    {
     "data": {
      "application/javascript": "function isPrime(num) { //a function is defined where \"num\" is the input \n    if (num <= 1) return false; //if the number is less than 1, it's false\n    for (let i = 2; i <= Math.sqrt(num); i++) { //if a number is divisible by 2, then it's not prime, thus i=2\n        if (num % i === 0) return false; //ensures that only prime numbers are stated\n    }\n    return true;\n}\n\nfor (let i = 1; i <= 50; i++) {\n    if (isPrime(i)) {\n        console.log(i); //this allows all numbers 1-50 that are prime are logged into the console\n    }\n}\n",
      "text/plain": [
       "<IPython.core.display.Javascript object>"
      ]
     },
     "metadata": {},
     "output_type": "display_data"
    }
   ],
   "source": [
    "%%js \n",
    "function isPrime(num) { //a function is defined where \"num\" is the input \n",
    "    if (num <= 1) return false; //if the number is less than 1, it's false\n",
    "    for (let i = 2; i <= Math.sqrt(num); i++) { //if a number is divisible by 2, then it's not prime, thus i=2\n",
    "        if (num % i === 0) return false; //ensures that only prime numbers are stated\n",
    "    }\n",
    "    return true;\n",
    "}\n",
    "\n",
    "for (let i = 1; i <= 50; i++) {\n",
    "    if (isPrime(i)) {\n",
    "        console.log(i); //this allows all numbers 1-50 that are prime are logged into the console\n",
    "    }\n",
    "}"
   ]
  },
  {
   "cell_type": "markdown",
   "metadata": {},
   "source": [
    "# End of Homework"
   ]
  }
 ],
 "metadata": {
  "kernelspec": {
   "display_name": "venv",
   "language": "python",
   "name": "python3"
  },
  "language_info": {
   "codemirror_mode": {
    "name": "ipython",
    "version": 3
   },
   "file_extension": ".py",
   "mimetype": "text/x-python",
   "name": "python",
   "nbconvert_exporter": "python",
   "pygments_lexer": "ipython3",
   "version": "3.13.1"
  }
 },
 "nbformat": 4,
 "nbformat_minor": 2
}
