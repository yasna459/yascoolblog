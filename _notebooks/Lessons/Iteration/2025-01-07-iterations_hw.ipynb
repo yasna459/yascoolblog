{
 "cells": [
  {
   "cell_type": "code",
   "execution_count": null,
   "metadata": {
    "vscode": {
     "languageId": "yaml"
    }
   },
   "outputs": [],
   "source": [
    "---\n",
    "comments: True\n",
    "layout: post\n",
    "title: Iteration Homework\n",
    "description: Iterations HW\n",
    "permalink: /csse/javascript/fundamentals/iteration/hw\n",
    "categories: [CSSE JavaScript Fundamentals]\n",
    "author: Andrew Ge, Ishan Shrivastava, Pratheep Natarajan, and Ruhaan Bansal\n",
    "---  "
   ]
  },
  {
   "cell_type": "markdown",
   "metadata": {},
   "source": [
    "### Exercise 1: Multiplication Table\n",
    "##### Write a JavaScript program to print the multiplication table for a given number."
   ]
  },
  {
   "cell_type": "markdown",
   "metadata": {},
   "source": [
    "##### Example:\n",
    "##### Input: 3\n",
    "##### Output:\n",
    "##### 3 x 1 = 3\n",
    "##### 3 x 2 = 6\n",
    "##### ...\n",
    "##### 3 x 10 = 30"
   ]
  },
  {
   "cell_type": "markdown",
   "metadata": {},
   "source": [
    "### Exercise 2: Nested Loops\n",
    "##### Write a JavaScript program using nested loops to generate the following pattern:"
   ]
  },
  {
   "cell_type": "markdown",
   "metadata": {},
   "source": [
    "##### Output:\n",
    "##### 0\n",
    "##### 00\n",
    "##### 000\n",
    "##### 0000\n",
    "##### 00000"
   ]
  },
  {
   "cell_type": "markdown",
   "metadata": {},
   "source": [
    "### Challenge Exercise: Prime Numbers\n",
    "##### Write a JavaScript program to print all prime numbers between 1 and 50."
   ]
  },
  {
   "cell_type": "markdown",
   "metadata": {},
   "source": [
    "# End of Homework"
   ]
  }
 ],
 "metadata": {
  "kernelspec": {
   "display_name": "Python 3",
   "language": "python",
   "name": "python3"
  },
  "language_info": {
   "codemirror_mode": {
    "name": "ipython",
    "version": 3
   },
   "file_extension": ".py",
   "mimetype": "text/x-python",
   "name": "python",
   "nbconvert_exporter": "python",
   "pygments_lexer": "ipython3",
   "version": "3.11.9"
  }
 },
 "nbformat": 4,
 "nbformat_minor": 2
}
