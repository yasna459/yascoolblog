{
 "cells": [
  {
   "cell_type": "code",
   "execution_count": null,
   "metadata": {
    "vscode": {
     "languageId": "yaml"
    }
   },
   "outputs": [],
   "source": [
    "---\n",
    "comments: True\n",
    "layout: post\n",
    "title: Iteration Homework Answer Key\n",
    "description: Iterations Homework Answer Key\n",
    "permalink: /csse/javascript/fundamentals/iteration/Homework_Answerkey\n",
    "categories: [CSSE JavaScript Fundamentals]\n",
    "author: Andrew Ge, Ishan Shrivastava, Pratheep Natarajan, and Ruhaan Bansal\n",
    "---  "
   ]
  },
  {
   "cell_type": "code",
   "execution_count": 5,
   "metadata": {
    "vscode": {
     "languageId": "javascript"
    }
   },
   "outputs": [
    {
     "data": {
      "application/javascript": "function multiplicationTable(number) {\n    for (let i = 1; i <= 10; i++) {\n        console.log(`${number} x ${i} = ${number * i}`);\n    }\n}\nmultiplicationTable(3);\n",
      "text/plain": [
       "<IPython.core.display.Javascript object>"
      ]
     },
     "metadata": {},
     "output_type": "display_data"
    }
   ],
   "source": [
    "%%js\n",
    "function multiplicationTable(number) {\n",
    "    for (let i = 1; i <= 10; i++) {\n",
    "        console.log(`${number} x ${i} = ${number * i}`);\n",
    "    }\n",
    "}\n",
    "multiplicationTable(3);"
   ]
  },
  {
   "cell_type": "code",
   "execution_count": 6,
   "metadata": {
    "vscode": {
     "languageId": "javascript"
    }
   },
   "outputs": [
    {
     "data": {
      "application/javascript": "for (let i = 1; i <= 5; i++) {\n    let stars = \"\";\n    for (let j = 1; j <= i; j++) {\n        stars += \"*\";\n    }\n    console.log(stars);\n}\n",
      "text/plain": [
       "<IPython.core.display.Javascript object>"
      ]
     },
     "metadata": {},
     "output_type": "display_data"
    }
   ],
   "source": [
    "%%js \n",
    "for (let i = 1; i <= 5; i++) {\n",
    "    let zeroes = \"\";\n",
    "    for (let j = 1; j <= i; j++) {\n",
    "        zeroes += \"0\";\n",
    "    }\n",
    "    console.log(zeroes);\n",
    "}"
   ]
  },
  {
   "cell_type": "code",
   "execution_count": 7,
   "metadata": {
    "vscode": {
     "languageId": "javascript"
    }
   },
   "outputs": [
    {
     "data": {
      "application/javascript": "function isPrime(num) {\n    if (num <= 1) return false;\n    for (let i = 2; i <= Math.sqrt(num); i++) {\n        if (num % i === 0) return false;\n    }\n    return true;\n}\n\nfor (let i = 1; i <= 50; i++) {\n    if (isPrime(i)) {\n        console.log(i);\n    }\n}\n",
      "text/plain": [
       "<IPython.core.display.Javascript object>"
      ]
     },
     "metadata": {},
     "output_type": "display_data"
    }
   ],
   "source": [
    "%%js \n",
    "function isPrime(num) {\n",
    "    if (num <= 1) return false;\n",
    "    for (let i = 2; i <= Math.sqrt(num); i++) {\n",
    "        if (num % i === 0) return false;\n",
    "    }\n",
    "    return true;\n",
    "}\n",
    "\n",
    "for (let i = 1; i <= 50; i++) {\n",
    "    if (isPrime(i)) {\n",
    "        console.log(i);\n",
    "    }\n",
    "}"
   ]
  }
 ],
 "metadata": {
  "kernelspec": {
   "display_name": "Python 3",
   "language": "python",
   "name": "python3"
  },
  "language_info": {
   "codemirror_mode": {
    "name": "ipython",
    "version": 3
   },
   "file_extension": ".py",
   "mimetype": "text/x-python",
   "name": "python",
   "nbconvert_exporter": "python",
   "pygments_lexer": "ipython3",
   "version": "3.11.9"
  }
 },
 "nbformat": 4,
 "nbformat_minor": 2
}
