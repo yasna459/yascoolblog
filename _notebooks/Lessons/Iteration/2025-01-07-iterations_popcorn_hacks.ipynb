{
 "cells": [
  {
   "cell_type": "code",
   "execution_count": null,
   "metadata": {
    "vscode": {
     "languageId": "yaml"
    }
   },
   "outputs": [],
   "source": [
    "---\n",
    "comments: True\n",
    "layout: post\n",
    "title: Iteration Popcorn Hacks\n",
    "description: Iterations Popcorn Hacks\n",
    "permalink: /csse/javascript/fundamentals/iteration/Popcorn_Hacks\n",
    "categories: [CSSE JavaScript Fundamentals]\n",
    "author: Andrew Ge, Ishan Shrivastava, Pratheep Natarajan, and Ruhaan Bansal\n",
    "---  "
   ]
  },
  {
   "cell_type": "markdown",
   "metadata": {
    "vscode": {
     "languageId": "plaintext"
    }
   },
   "source": [
    "# Popcorn Hacks on Iterations in JavaScript"
   ]
  },
  {
   "cell_type": "markdown",
   "metadata": {},
   "source": [
    "##### Instructions:\n",
    "##### Complete the exercises below in JavaScript.\n",
    "##### You can run and test your code in a JavaScript environment."
   ]
  },
  {
   "cell_type": "markdown",
   "metadata": {},
   "source": [
    "### Exercise 1: Counting with a For Loop\n",
    "##### Write a JavaScript for loop that prints all numbers from 1 to 10."
   ]
  },
  {
   "cell_type": "markdown",
   "metadata": {},
   "source": [
    "##### Example:\n",
    "##### Output:\n",
    "##### 1\n",
    "##### 2\n",
    "##### 3\n",
    "##### ...\n",
    "##### 9 \n",
    "##### 10 "
   ]
  },
  {
   "cell_type": "markdown",
   "metadata": {},
   "source": [
    "### Exercise 2: Sum of Numbers\n",
    "##### Write a function in JavaScript to calculate the sum of all numbers from 1 to n using a loop."
   ]
  },
  {
   "cell_type": "markdown",
   "metadata": {},
   "source": [
    "##### Example:\n",
    "##### Input: 5\n",
    "##### Output: 15 (because 1 + 2 + 3 + 4 + 5 = 15)\n"
   ]
  },
  {
   "cell_type": "markdown",
   "metadata": {},
   "source": [
    "### Exercise 3: Looping through Arrays\n",
    "##### Write a JavaScript program to iterate through an array of names and print each name."
   ]
  }
 ],
 "metadata": {
  "language_info": {
   "name": "python"
  }
 },
 "nbformat": 4,
 "nbformat_minor": 2
}
