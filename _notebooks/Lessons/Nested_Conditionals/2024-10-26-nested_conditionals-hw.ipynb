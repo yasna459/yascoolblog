{
 "cells": [
  {
   "cell_type": "raw",
   "metadata": {
    "vscode": {
     "languageId": "raw"
    }
   },
   "source": [
    "---\n",
    "comments: true\n",
    "layout: post\n",
    "title: JavaScript Nested Conditionals Homework \n",
    "description: Nested conditionals with booleans in Javascript are condition statements placed inside condition statements, allowing multiple layers of decision making.\n",
    "author: Avantika Chittari\n",
    "permalink: /csse/javascript/fundamentals/nested-conditionals/hw\n",
    "categories: [CSSE JavaScript Fundamentals]\n",
    "---"
   ]
  },
  {
   "cell_type": "markdown",
   "metadata": {
    "vscode": {
     "languageId": "html"
    }
   },
   "source": [
    "<h2><span style=\"font-family: Ariel; color:#94c4ff\">Homework - Nested Conditionals</span></h2>\n",
    "\n",
    "## Objective:\n",
    "Write a JavaScript program that randomly assigns a student grade level (from 0 to 12) and outputs the school level the student would be in (kindergarten, elementary, middle, or high school). The program also identifies if the student is in their last year at their current school level.\n",
    "\n",
    "## Instructions:\n",
    "\n",
    "1. Open a JavaScript file (e.g., schoolLevel.js).\n",
    "\n",
    "2. Generate a Random Grade:\n",
    "    - Use Math.random() to generate a random number between 0 to 1 and multiply it by 12, which will represent the student’s grade.\n",
    "    - Round the number to the nearest whole number using Math.round().\n",
    "    - Store this number in a variable called grade.\n",
    "    - Print the grade to the console with a message such as, \"You are in grade ___.\"\n",
    "\n",
    "3. Determine the School Level:\n",
    "    Use if statements to check the value of grade and print which school level the student is in:\n",
    "    - Kindergarten for grade 0.\n",
    "    - Elementary School for grades 1–5.\n",
    "    - Middle School for grades 6–8.\n",
    "    - High School for grades 9–12.\n",
    "\n",
    "4. For each school level, add a nested additional check to see if the student is in their final year. If all is done correctly, it will print a message like this, “You will graduate this year from _____.”\n",
    "\n",
    "5. Sample Outputs:\n",
    "    - Sample 1:\n",
    "        - \"You are in grade 5.\"\n",
    "        - \"You will graduate this year from elementary school\"\n",
    "    - Sample 2:\n",
    "        - \"You are in grade 3.\""
   ]
  },
  {
   "cell_type": "markdown",
   "metadata": {
    "vscode": {
     "languageId": "javascript"
    }
   },
   "source": [
    "Extra information:\n",
    "- Booleans are a data type that can only have two different values - True or Flase. You can use boolean flag to identify if student is in final year.\n",
    "- Random generates random values with unpredictable results, usually within a specified range such as 0-1"
   ]
  }
 ],
 "metadata": {
  "kernelspec": {
   "display_name": "venv",
   "language": "python",
   "name": "python3"
  },
  "language_info": {
   "codemirror_mode": {
    "name": "ipython",
    "version": 3
   },
   "file_extension": ".py",
   "mimetype": "text/x-python",
   "name": "python",
   "nbconvert_exporter": "python",
   "pygments_lexer": "ipython3",
   "version": "3.9.6"
  }
 },
 "nbformat": 4,
 "nbformat_minor": 2
}
