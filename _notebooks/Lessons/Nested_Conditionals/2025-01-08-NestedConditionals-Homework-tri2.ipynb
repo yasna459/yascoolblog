{
 "cells": [
  {
   "cell_type": "raw",
   "metadata": {
    "vscode": {
     "languageId": "raw"
    }
   },
   "source": [
    "---\n",
    "layout: post\n",
    "title: Nested Conditionals, Homework\n",
    "description:  Homework for nested conditionals\n",
    "type: issues \n",
    "comments: true\n",
    "---"
   ]
  },
  {
   "cell_type": "markdown",
   "metadata": {},
   "source": [
    "### Homework Objectives\n",
    "\n",
    "You and your friend want to do different things at the amusement park. To decide, you do a coin flip. Heads means that you get to choose where to go and tails means that your friend gets to choose. If you go on a ride, be sure to check if you are the right height and have enough tickets, and if you go to a food stand, make sure that you have enough money and that the food is in stock. Be creative, and make sure to use nested conditionals!"
   ]
  },
  {
   "cell_type": "markdown",
   "metadata": {},
   "source": [
    "### Instructions\n",
    "\n",
    "1) Create a JavaScript file (Ex. insertName.js)\n",
    "\n",
    "2) Plan out what you will be doing and make variables for the necessary things. There will be a coin flip, so make a variable for that. If there are rides, make a value for the amount of tickets the person has and what height they are. If they go to a food stand, you can make a variable for the amount of money that you have and if the food is in stock.\n",
    "\n",
    "3) Use Math.random() for the coin flip. This generates a number between 0 and 1, so then you multiply this value by 2 and put it inside Math.floor() to round down and get either 0 or 1. Make this the coin flip variable.\n",
    "\n",
    "4) Use an if statement to check what the result of the coin flip was and use console.log to print out a statement to see who won or lost the coin flip. Along with that, print out where they are going next.\n",
    "\n",
    "5) Use more if statements inside of if statements to check if the person can do what they want to do. (Are they tall enough, do they have enough money, etc.)\n",
    "\n",
    "6) After all the checks, print out a result of what happened. If you get stuck, you can look at the examples in the popcorn hacks. Please don't copy and paste, though! \n"
   ]
  },
  {
   "cell_type": "code",
   "execution_count": 16,
   "metadata": {
    "vscode": {
     "languageId": "html"
    }
   },
   "outputs": [
    {
     "data": {
      "text/html": [
       "<!-- HTML output div -->\n",
       "<div id=\"message\"></div>\n",
       "<script>\n",
       "    function runWhenDOMLoaded() {\n",
       "        let coinFlip = Math.floor(Math.random() * 2);\n",
       "        let tickets = 3;\n",
       "        let height = 50; //food choice 1\n",
       "        let money = 10; //cotton candy is out of stock\n",
       "        let foodInStock = true; //popcorn is in stock\n",
       "\n",
       "\n",
       "        const messageElement = document.getElementById(\"message\");\n",
       "\n",
       "        function displayMessage(message) {\n",
       "            console.log(message); // Log to console\n",
       "            messageElement.textContent = message; // Display on the webpage\n",
       "        }\n",
       "        \n",
       "        if (coinFlip === 0) {\n",
       "            displayMessage(\"The coin flip was heads! The person is going to the rides.\");\n",
       "\n",
       "            let rideCost = 2;\n",
       "            let heightRequirement = 48;\n",
       "\n",
       "            if (tickets >= rideCost) {\n",
       "                displayMessage(\"They have enough tickets (\" + tickets + \") for the ride.\");\n",
       "                if (height >= heightRequirement) {\n",
       "                    displayMessage(\"They are tall enough to ride.\");\n",
       "                    tickets -= rideCost;\n",
       "                    displayMessage(\"Tickets left after the ride (\" + tickets + \")\");\n",
       "                } else {\n",
       "                    displayMessage(\"They are not tall enough for the ride. \");\n",
       "                }\n",
       "            } else {\n",
       "                displayMessage(\"They don't have enough tickets for the ride.\")\n",
       "            }\n",
       "        } else {\n",
       "            displayMessage(\"The coin flip was tails! The person is going to the food stand.\");\n",
       "            \n",
       "            let foodCost = 7;\n",
       "\n",
       "            if (money >= foodCost) {\n",
       "                displayMessage(\"They have enough money ($\" + money + \") to buy food.\");\n",
       "                if (foodInStock) {\n",
       "                    displayMessage(\"The food is in stock.\");\n",
       "                    money -= foodCost;\n",
       "                    displayMessage(\"Money left after buying food ($\" + money + \").\");\n",
       "            \n",
       "                } else {\n",
       "                    displayMessage(\"The food is out of stock.\");\n",
       "                }\n",
       "            } else {\n",
       "                displayMessage(\"They don't have enough money ($\" + money + \") to buy food.\");\n",
       "            }\n",
       "\n",
       "        }\n",
       "\n",
       "        \n",
       "            \n",
       "            //Use the previous code as examples to help make another food! \n",
       "            // Also, make sure to add more nested conditionals inside the if statements above to check if the food is in stock\n",
       "    }\n",
       "        // Ensure the function runs only after the page loads\n",
       "    if (document.readyState === \"loading\") {\n",
       "        document.addEventListener(\"DOMContentLoaded\", runWhenDOMLoaded);\n",
       "    } else {\n",
       "       runWhenDOMLoaded();\n",
       "    }\n",
       "    \n",
       "\n",
       "</script>\n"
      ],
      "text/plain": [
       "<IPython.core.display.HTML object>"
      ]
     },
     "metadata": {},
     "output_type": "display_data"
    }
   ],
   "source": [
    "%%html\n",
    "<!-- HTML output div -->\n",
    "<div id=\"message\"></div>\n",
    "<script>\n",
    "    function runWhenDOMLoaded() {\n",
    "        let coinFlip = Math.floor(Math.random() * 2);\n",
    "        let tickets = 3;\n",
    "        let height = 50; //food choice 1\n",
    "        let money = 10; //cotton candy is out of stock\n",
    "        let foodInStock = true; //popcorn is in stock\n",
    "\n",
    "\n",
    "        const messageElement = document.getElementById(\"message\");\n",
    "\n",
    "        function displayMessage(message) {\n",
    "            console.log(message); // Log to console\n",
    "            messageElement.textContent = message; // Display on the webpage\n",
    "        }\n",
    "        \n",
    "        if (coinFlip === 0) {\n",
    "            displayMessage(\"The coin flip was heads! The person is going to the rides.\") //prints message for when coin flip is heads\n",
    "\n",
    "            let rideCost = 2; //ride cost is 2 tickets\n",
    "            let heightRequirement = 48; //height requirement is 4 ft.\n",
    "\n",
    "            if (tickets >= rideCost) {\n",
    "                displayMessage(\"They have enough tickets (\" + tickets + \") for the ride.\"); //prints message for when tickets are more than the ride cost\n",
    "                if (height >= heightRequirement) {\n",
    "                    displayMessage(\"They are tall enough to ride.\");\n",
    "                    tickets -= rideCost;\n",
    "                    displayMessage(\"Tickets left after the ride (\" + tickets + \")\");\n",
    "                } else {\n",
    "                    displayMessage(\"They are not tall enough for the ride. \");\n",
    "                }\n",
    "            } else {\n",
    "                displayMessage(\"They don't have enough tickets for the ride.\")\n",
    "            }\n",
    "        } else {\n",
    "            displayMessage(\"The coin flip was tails! The person is going to the food stand.\");\n",
    "            \n",
    "            let foodCost = 7;\n",
    "\n",
    "            if (money >= foodCost) {\n",
    "                displayMessage(\"They have enough money ($\" + money + \") to buy food.\");\n",
    "                if (foodInStock) {\n",
    "                    displayMessage(\"The food is in stock.\");\n",
    "                    money -= foodCost;\n",
    "                    displayMessage(\"Money left after buying food ($\" + money + \").\");\n",
    "            \n",
    "                } else {\n",
    "                    displayMessage(\"The food is out of stock.\");\n",
    "                }\n",
    "            } else {\n",
    "                displayMessage(\"They don't have enough money ($\" + money + \") to buy food.\");\n",
    "            }\n",
    "\n",
    "        }\n",
    "\n",
    "        \n",
    "            \n",
    "            //Use the previous code as examples to help make another food! \n",
    "            // Also, make sure to add more nested conditionals inside the if statements above to check if the food is in stock\n",
    "    }\n",
    "        // Ensure the function runs only after the page loads\n",
    "    if (document.readyState === \"loading\") {\n",
    "        document.addEventListener(\"DOMContentLoaded\", runWhenDOMLoaded);\n",
    "    } else {\n",
    "       runWhenDOMLoaded();\n",
    "    }\n",
    "    \n",
    "\n",
    "</script>"
   ]
  }
 ],
 "metadata": {
  "kernelspec": {
   "display_name": "venv",
   "language": "python",
   "name": "python3"
  },
  "language_info": {
   "codemirror_mode": {
    "name": "ipython",
    "version": 3
   },
   "file_extension": ".py",
   "mimetype": "text/x-python",
   "name": "python",
   "nbconvert_exporter": "python",
   "pygments_lexer": "ipython3",
   "version": "3.13.1"
  }
 },
 "nbformat": 4,
 "nbformat_minor": 2
}
