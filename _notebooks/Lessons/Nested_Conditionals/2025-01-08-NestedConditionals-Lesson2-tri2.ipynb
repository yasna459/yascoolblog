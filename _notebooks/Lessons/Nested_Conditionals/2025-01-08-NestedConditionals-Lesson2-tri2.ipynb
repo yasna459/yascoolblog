{
 "cells": [
  {
   "cell_type": "raw",
   "metadata": {
    "vscode": {
     "languageId": "raw"
    }
   },
   "source": [
    "---\n",
    "layout: post\n",
    "title: Nested Conditionals, Part Two\n",
    "description:  Nested Conditionals with Booleans\n",
    "type: issues \n",
    "comments: true\n",
    "---"
   ]
  },
  {
   "cell_type": "markdown",
   "metadata": {},
   "source": [
    "# Nested Conditionals with Booleans"
   ]
  },
  {
   "cell_type": "markdown",
   "metadata": {},
   "source": [
    "A boolean is a data type that has only two possible values: true and false.\n",
    "\n",
    "Here is an example of a nested conditional with booleans. At an amusement park, you need to be a certain height and age to go on some rides. This code checks if a person meets those requirements and can go on the ride."
   ]
  },
  {
   "cell_type": "code",
   "execution_count": 14,
   "metadata": {
    "vscode": {
     "languageId": "html"
    }
   },
   "outputs": [
    {
     "data": {
      "text/html": [
       "<!-- HTML output div -->\n",
       "<div id=\"message\"></div>\n",
       "<script>\n",
       "    function runWhenDOMLoaded() {\n",
       "        let isTallEnough = true;  // Boolean: Is the visitor tall enough?\n",
       "        let isOldEnough = false;  // Boolean: Is the visitor old enough?\n",
       "\n",
       "        const messageElement = document.getElementById(\"message\");\n",
       "\n",
       "        function displayMessage(message) {\n",
       "            console.log(message); // Log to console\n",
       "            messageElement.textContent = message; // Display on the webpage\n",
       "        }\n",
       "\n",
       "        if (isTallEnough) { // Outer condition: visitor meets the height requirement\n",
       "            if (isOldEnough) { // Nested condition: visitor meets the age requirement\n",
       "                displayMessage(\"You can go on all rides!\");\n",
       "            } else {\n",
       "                displayMessage(\"You can go on most rides, but not the adult ones.\");\n",
       "            }\n",
       "        } else {\n",
       "            displayMessage(\"Sorry, you don't meet the height requirement for any rides.\");\n",
       "        }    \n",
       "    }\n",
       "\n",
       "    // Ensure the function runs only after the page loads\n",
       "    if (document.readyState === \"loading\") {\n",
       "        document.addEventListener(\"DOMContentLoaded\", runWhenDOMLoaded);\n",
       "    } else {\n",
       "        runWhenDOMLoaded();\n",
       "    }\n",
       "</script>\n"
      ],
      "text/plain": [
       "<IPython.core.display.HTML object>"
      ]
     },
     "metadata": {},
     "output_type": "display_data"
    }
   ],
   "source": [
    "%%html\n",
    "<!-- HTML output div -->\n",
    "<div id=\"message\"></div>\n",
    "<script>\n",
    "    function runWhenDOMLoaded() {\n",
    "        let isTallEnough = true;  // Boolean: Is the visitor tall enough?\n",
    "        let isOldEnough = false;  // Boolean: Is the visitor old enough?\n",
    "\n",
    "        const messageElement = document.getElementById(\"message\");\n",
    "\n",
    "        function displayMessage(message) {\n",
    "            console.log(message); // Log to console\n",
    "            messageElement.textContent = message; // Display on the webpage\n",
    "        }\n",
    "\n",
    "        if (isTallEnough) { // Outer condition: visitor meets the height requirement\n",
    "            if (isOldEnough) { // Nested condition: visitor meets the age requirement\n",
    "                displayMessage(\"You can go on all rides!\");\n",
    "            } else {\n",
    "                displayMessage(\"You can go on most rides, but not the adult ones.\");\n",
    "            }\n",
    "        } else {\n",
    "            displayMessage(\"Sorry, you don't meet the height requirement for any rides.\");\n",
    "        }    \n",
    "    }\n",
    "\n",
    "    // Ensure the function runs only after the page loads\n",
    "    if (document.readyState === \"loading\") {\n",
    "        document.addEventListener(\"DOMContentLoaded\", runWhenDOMLoaded);\n",
    "    } else {\n",
    "        runWhenDOMLoaded();\n",
    "    }\n",
    "</script>\n"
   ]
  },
  {
   "cell_type": "markdown",
   "metadata": {},
   "source": [
    "Two variables are defined at the beginning of the code: isTallEnough and isOldEnough. Each is set to a boolean value. The first conditional checks the value of isTallEnough to see if it is true or false, and if it is true, it goes on to the next conditional to check the value of isOldEnough. If isTallEnough is false, it doesn't check the age and prints that you aren't tall enough."
   ]
  },
  {
   "cell_type": "markdown",
   "metadata": {},
   "source": [
    "Here is another example of nested conditionals. This time, it includes both boolean and integers. This code checks if the weather is suitable to go on the rides, if the person has a priority pass, and how long the line is to let you know which rides you can go on and how long you have to wait."
   ]
  },
  {
   "cell_type": "code",
   "execution_count": 13,
   "metadata": {
    "vscode": {
     "languageId": "html"
    }
   },
   "outputs": [
    {
     "data": {
      "text/html": [
       "<!-- HTML output div -->\n",
       "<div id=\"message\"></div>\n",
       "<script>\n",
       "    function runWhenDOMLoaded() {\n",
       "        let isWeatherGood = true;       // Boolean: Is the weather suitable for outdoor rides?\n",
       "        let hasPriorityPass = false;    // Boolean: Does the visitor have a priority pass?\n",
       "        let line = 60;           // Integer: Number of available seats on the ride.\n",
       "        \n",
       "        const messageElement = document.getElementById(\"message\");\n",
       "\n",
       "        function displayMessage(message) {\n",
       "            console.log(message); // Log to console\n",
       "            messageElement.textContent = message; // Display on the webpage\n",
       "        }\n",
       "\n",
       "        if (isWeatherGood) {\n",
       "            // Check if the weather is good for outdoor rides\n",
       "            displayMessage(\"Outdoor rides are open!\");\n",
       "\n",
       "            if (line > 30) {\n",
       "                // Check how long the line is\n",
       "                if (hasPriorityPass) {\n",
       "                    // Check if the visitor has a priority pass\n",
       "                    displayMessage(\"You can skip the line with your priority pass!\");\n",
       "                } else {\n",
       "                    // Visitor doesn't have a priority pass but seats are available\n",
       "                    displayMessage(\"You can enjoy the ride, but you'll need to wait in line.\");\n",
       "                }\n",
       "            } else {\n",
       "                // Line doesn't have a very long line\n",
       "                displayMessage(\"The ride doesn't have a very long line, have fun :)\");\n",
       "            }\n",
       "        } else {\n",
       "            // If the weather is not good, outdoor rides are closed\n",
       "            displayMessage(\"Outdoor rides are closed due to weather conditions.\");\n",
       "        }\n",
       "    \n",
       "    }\n",
       "\n",
       "    // Ensure the function runs only after the page loads\n",
       "    if (document.readyState === \"loading\") {\n",
       "        document.addEventListener(\"DOMContentLoaded\", runWhenDOMLoaded);\n",
       "    } else {\n",
       "        runWhenDOMLoaded();\n",
       "    }\n",
       "</script>\n"
      ],
      "text/plain": [
       "<IPython.core.display.HTML object>"
      ]
     },
     "metadata": {},
     "output_type": "display_data"
    }
   ],
   "source": [
    "%%html\n",
    "<!-- HTML output div -->\n",
    "<div id=\"message\"></div>\n",
    "<script>\n",
    "    function runWhenDOMLoaded() {\n",
    "        let isWeatherGood = true;       // Boolean: Is the weather suitable for outdoor rides?\n",
    "        let hasPriorityPass = false;    // Boolean: Does the visitor have a priority pass?\n",
    "        let line = 60;           // Integer: Number of available seats on the ride.\n",
    "        \n",
    "        const messageElement = document.getElementById(\"message\");\n",
    "\n",
    "        function displayMessage(message) {\n",
    "            console.log(message); // Log to console\n",
    "            messageElement.textContent = message; // Display on the webpage\n",
    "        }\n",
    "\n",
    "        if (isWeatherGood) {\n",
    "            // Check if the weather is good for outdoor rides\n",
    "            displayMessage(\"Outdoor rides are open!\");\n",
    "\n",
    "            if (line > 30) {\n",
    "                // Check how long the line is\n",
    "                if (hasPriorityPass) {\n",
    "                    // Check if the visitor has a priority pass\n",
    "                    displayMessage(\"You can skip the line with your priority pass!\");\n",
    "                } else {\n",
    "                    // Visitor doesn't have a priority pass but seats are available\n",
    "                    displayMessage(\"You can enjoy the ride, but you'll need to wait in line.\");\n",
    "                }\n",
    "            } else {\n",
    "                // Line doesn't have a very long line\n",
    "                displayMessage(\"The ride doesn't have a very long line, have fun :)\");\n",
    "            }\n",
    "        } else {\n",
    "            // If the weather is not good, outdoor rides are closed\n",
    "            displayMessage(\"Outdoor rides are closed due to weather conditions.\");\n",
    "        }\n",
    "    \n",
    "    }\n",
    "\n",
    "    // Ensure the function runs only after the page loads\n",
    "    if (document.readyState === \"loading\") {\n",
    "        document.addEventListener(\"DOMContentLoaded\", runWhenDOMLoaded);\n",
    "    } else {\n",
    "        runWhenDOMLoaded();\n",
    "    }\n",
    "</script>\n"
   ]
  }
 ],
 "metadata": {
  "kernelspec": {
   "display_name": "venv",
   "language": "python",
   "name": "python3"
  },
  "language_info": {
   "codemirror_mode": {
    "name": "ipython",
    "version": 3
   },
   "file_extension": ".py",
   "mimetype": "text/x-python",
   "name": "python",
   "nbconvert_exporter": "python",
   "pygments_lexer": "ipython3",
   "version": "3.12.3"
  }
 },
 "nbformat": 4,
 "nbformat_minor": 2
}
