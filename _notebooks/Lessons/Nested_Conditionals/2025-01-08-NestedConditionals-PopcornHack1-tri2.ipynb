{
 "cells": [
  {
   "cell_type": "raw",
   "metadata": {
    "vscode": {
     "languageId": "raw"
    }
   },
   "source": [
    "---\n",
    "layout: post\n",
    "title: Nested Conditionals, Popcorn Hack One\n",
    "description:  First popcorn hack for nested conditonals\n",
    "type: issues \n",
    "comments: true\n",
    "---"
   ]
  },
  {
   "cell_type": "markdown",
   "metadata": {},
   "source": [
    "### Popcorn Hack 1\n",
    "\n",
    "This code has the option to let the player go on a ride of their choosing, and either lets them go on the ride or does not let them go on the ride based on their amount of tickets that they have. Try adding some code that makes it so that the code also takes into account the height of the person trying to ride the ride and have it be another constraint that determines whether or not the person goes on a ride."
   ]
  },
  {
   "cell_type": "code",
   "execution_count": 4,
   "metadata": {
    "vscode": {
     "languageId": "html"
    }
   },
   "outputs": [
    {
     "data": {
      "text/html": [
       "<!-- HTML output div -->\n",
       "<div id=\"message\"></div>\n",
       "<script>\n",
       "    function runWhenDOMLoaded() {\n",
       "        let ticketAmount = 60; // Makes the ticket amount be 60, make another variable for height\n",
       "        let ride = \"Ferris Wheel\"; // sets the ride that the person wants to ride on\n",
       "        let height = 4.75\n",
       "\n",
       "        const messageElement = document.getElementById(\"message\");\n",
       "\n",
       "        function displayMessage(message) {\n",
       "            console.log(message); // Log to console\n",
       "            messageElement.textContent = message; // Display on the webpage\n",
       "        }\n",
       "\n",
       "        function enoughTickets(a) {//Add another parameter for height (use a comma and then a letter or word), maybe change the name of the parameter\n",
       "            if (ticketAmount >= a) {\n",
       "                displayMessage(\"You have enough tickets! Yay! :D\");//make another if else statement inside of this to check for height\n",
       "            } else {\n",
       "                displayMessage(\"You don't have enough tickets... :(\");\n",
       "            }\n",
       "        }\n",
       "\n",
       "        function enoughHeight(a) {//Add another parameter for height (use a comma and then a letter or word), maybe change the name of the parameter\n",
       "            if (height >= a) {\n",
       "                displayMessage(\"You're tall enough!'\");//make another if else statement inside of this to check for height\n",
       "            } else {\n",
       "                displayMessage(\"You're not tall enough...\");\n",
       "            }\n",
       "        }\n",
       "\n",
       "        if (ride === \"Roller Coaster\") {\n",
       "            enoughTickets(60); //Nests the function and the conditionals\n",
       "            enoughHeight(5.0)\n",
       "        } else if (ride === \"Ferris Wheel\") {\n",
       "            enoughTickets(40);\n",
       "            enoughHeight(5.0)\n",
       "        }    \n",
       "    }\n",
       "\n",
       "    // Ensure the function runs only after the page loads\n",
       "    if (document.readyState === \"loading\") {\n",
       "        document.addEventListener(\"DOMContentLoaded\", runWhenDOMLoaded);\n",
       "    } else {\n",
       "        runWhenDOMLoaded();\n",
       "    }\n",
       "</script>\n"
      ],
      "text/plain": [
       "<IPython.core.display.HTML object>"
      ]
     },
     "metadata": {},
     "output_type": "display_data"
    }
   ],
   "source": [
    "%%html\n",
    "<!-- HTML output div -->\n",
    "<div id=\"message\"></div>\n",
    "<script>\n",
    "    function runWhenDOMLoaded() {\n",
    "        let ticketAmount = 60; // Makes the ticket amount be 60, make another variable for height\n",
    "        let ride = \"Ferris Wheel\"; // sets the ride that the person wants to ride on\n",
    "        let height = 4.75 //defines height variable\n",
    "\n",
    "        const messageElement = document.getElementById(\"message\");\n",
    "\n",
    "        function displayMessage(message) {\n",
    "            console.log(message); // Log to console\n",
    "            messageElement.textContent = message; // Display on the webpage\n",
    "        }\n",
    "\n",
    "        function enoughTickets(a) {//Add another parameter for height (use a comma and then a letter or word), maybe change the name of the parameter\n",
    "            if (ticketAmount >= a) {\n",
    "                displayMessage(\"You have enough tickets! Yay! :D\");//make another if else statement inside of this to check for height\n",
    "            } else {\n",
    "                displayMessage(\"You don't have enough tickets... :(\");\n",
    "            }\n",
    "        }\n",
    "\n",
    "        function enoughHeight(a) {//Add another parameter for height (use a comma and then a letter or word), maybe change the name of the parameter\n",
    "            if (height >= a) {\n",
    "                displayMessage(\"You're tall enough!'\");//make another if else statement inside of this to check for height\n",
    "            } else {\n",
    "                displayMessage(\"You're not tall enough...\");\n",
    "            }\n",
    "        }\n",
    "\n",
    "        if (ride === \"Roller Coaster\") {\n",
    "            enoughTickets(60); //Nests the function and the conditionals\n",
    "            enoughHeight(5.0)\n",
    "        } else if (ride === \"Ferris Wheel\") {\n",
    "            enoughTickets(40);\n",
    "            enoughHeight(5.0)\n",
    "        }    \n",
    "    }\n",
    "\n",
    "    // Ensure the function runs only after the page loads\n",
    "    if (document.readyState === \"loading\") {\n",
    "        document.addEventListener(\"DOMContentLoaded\", runWhenDOMLoaded);\n",
    "    } else {\n",
    "        runWhenDOMLoaded();\n",
    "    }\n",
    "</script>\n"
   ]
  }
 ],
 "metadata": {
  "kernelspec": {
   "display_name": "venv",
   "language": "python",
   "name": "python3"
  },
  "language_info": {
   "codemirror_mode": {
    "name": "ipython",
    "version": 3
   },
   "file_extension": ".py",
   "mimetype": "text/x-python",
   "name": "python",
   "nbconvert_exporter": "python",
   "pygments_lexer": "ipython3",
   "version": "3.13.1"
  }
 },
 "nbformat": 4,
 "nbformat_minor": 2
}
