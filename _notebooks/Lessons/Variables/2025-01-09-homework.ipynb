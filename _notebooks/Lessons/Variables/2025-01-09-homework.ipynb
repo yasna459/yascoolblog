{
 "cells": [
  {
   "cell_type": "raw",
   "metadata": {
    "vscode": {
     "languageId": "raw"
    }
   },
   "source": [
    "---\n",
    "layout: post\n",
    "title: Variables Homework\n",
    "description: JavaScript variable homework exercises to apply your skills.\n",
    "type: collab\n",
    "comments: true\n",
    "categories: [CSSE JavaScript Fundamentals]\n",
    "permalink: /csse/lessons/variables/homework\n",
    "---"
   ]
  },
  {
   "cell_type": "markdown",
   "metadata": {},
   "source": [
    "# Lesson 1 homework - Level 1"
   ]
  },
  {
   "cell_type": "markdown",
   "metadata": {},
   "source": [
    "You are in charge of maintaining an illegal arcade. You bought shoddy arcade machines off of Temu and they sadly came with missing information. You need to help put back the missing information to allow your shady customers to lose all their money at your store."
   ]
  },
  {
   "cell_type": "markdown",
   "metadata": {},
   "source": [
    "Create a float variable to make the default score 0.00 so the grimy kids don't win when gambling."
   ]
  },
  {
   "cell_type": "code",
   "execution_count": 1,
   "metadata": {
    "vscode": {
     "languageId": "javascript"
    }
   },
   "outputs": [
    {
     "data": {
      "application/javascript": "// Would you use Let or Const\n",
      "text/plain": [
       "<IPython.core.display.Javascript object>"
      ]
     },
     "metadata": {},
     "output_type": "display_data"
    }
   ],
   "source": [
    "%%js\n",
    "// Would you use Let or Const?"
   ]
  },
  {
   "cell_type": "markdown",
   "metadata": {},
   "source": [
    "Define a variable \"playerLimit\" that cannot be re-assigned and give it a value of 4. This will prevent the raggamuffins from ruining your game."
   ]
  },
  {
   "cell_type": "code",
   "execution_count": null,
   "metadata": {
    "vscode": {
     "languageId": "javascript"
    }
   },
   "outputs": [],
   "source": [
    "%%js"
   ]
  },
  {
   "cell_type": "markdown",
   "metadata": {},
   "source": [
    "Create a string variable to store the players name. Those dirty children have to verify their victory somehow."
   ]
  },
  {
   "cell_type": "code",
   "execution_count": null,
   "metadata": {
    "vscode": {
     "languageId": "javascript"
    }
   },
   "outputs": [],
   "source": [
    "%%js"
   ]
  },
  {
   "cell_type": "markdown",
   "metadata": {},
   "source": [
    "Make a boolean to set gameFunction to false."
   ]
  },
  {
   "cell_type": "code",
   "execution_count": null,
   "metadata": {
    "vscode": {
     "languageId": "javascript"
    }
   },
   "outputs": [],
   "source": [
    "%%js\n"
   ]
  },
  {
   "cell_type": "markdown",
   "metadata": {},
   "source": [
    "Now put it all together in this code cell to allow the children to gamble away all their parents money! The quick example may help you, it is for a superhero game the basement dwellers fixed."
   ]
  },
  {
   "cell_type": "code",
   "execution_count": 2,
   "metadata": {
    "vscode": {
     "languageId": "javascript"
    }
   },
   "outputs": [
    {
     "data": {
      "application/javascript": "// 1. Hero Name (String)\nlet heroName = prompt(\"Your name here\");\n\n// 2. Points Scored (Number)\nlet points = 0.0;\n\n// 3. Energy Levels (Number\nlet energyLevel = 100.0;\n\n// 4. Mission Status (Boolean)\nlet missionComplete = false;\n\n// Training Simulation\nconsole.log(`Welcome, ${heroName}! Your training begins now.`);\nconsole.log(`Starting energy level: ${energyLevel}`);\nconsole.log(`Points: ${points}`);\n\n// Task 1\nenergyLevel -= 5.5;\npoints += 10;\nconsole.log(\"You completed a task!\");\nconsole.log(`Energy level: ${energyLevel}`);\nconsole.log(`Points: ${points}`);\n\n// Task 2\nenergyLevel -= 5.5;\npoints += 10;\nconsole.log(\"You completed another task!\");\nconsole.log(`Energy level: ${energyLevel}`);\nconsole.log(`Points: ${points}`);\n\n// Completing the mission\nmissionComplete = true;\nif (missionComplete) {\n    console.log(`Mission Accomplished, ${heroName}!`);\n    console.log(`Final score: ${points}`);\n}\n",
      "text/plain": [
       "<IPython.core.display.Javascript object>"
      ]
     },
     "metadata": {},
     "output_type": "display_data"
    }
   ],
   "source": [
    "%%js\n",
    "// 1. Hero Name (String)\n",
    "let heroName = prompt(\"Your name here\");\n",
    "\n",
    "// 2. Points Scored (Number)\n",
    "let points = 0.0;\n",
    "\n",
    "// 3. Energy Levels (Number\n",
    "let energyLevel = 100.0;\n",
    "\n",
    "// 4. Mission Status (Boolean)\n",
    "let missionComplete = false;\n",
    "\n",
    "// Training Simulation\n",
    "console.log(`Welcome, ${heroName}! Your training begins now.`);\n",
    "console.log(`Starting energy level: ${energyLevel}`);\n",
    "console.log(`Points: ${points}`);\n",
    "\n",
    "// Task 1\n",
    "energyLevel -= 5.5;\n",
    "points += 10;\n",
    "console.log(\"You completed a task!\");\n",
    "console.log(`Energy level: ${energyLevel}`);\n",
    "console.log(`Points: ${points}`);\n",
    "\n",
    "// Task 2\n",
    "energyLevel -= 5.5;\n",
    "points += 10;\n",
    "console.log(\"You completed another task!\");\n",
    "console.log(`Energy level: ${energyLevel}`);\n",
    "console.log(`Points: ${points}`);\n",
    "\n",
    "// Completing the mission\n",
    "missionComplete = true;\n",
    "if (missionComplete) {\n",
    "    console.log(`Mission Accomplished, ${heroName}!`);\n",
    "    console.log(`Final score: ${points}`);\n",
    "}"
   ]
  },
  {
   "cell_type": "markdown",
   "metadata": {},
   "source": [
    "Now, create something that on run, defines a playername, sets a game score, and decreases some amount from it. Make sure to use console.log to print the playername and the variable before and after the operation. Go forth, future basement dwellers."
   ]
  },
  {
   "cell_type": "code",
   "execution_count": null,
   "metadata": {
    "vscode": {
     "languageId": "javascript"
    }
   },
   "outputs": [],
   "source": [
    "%%js"
   ]
  },
  {
   "cell_type": "markdown",
   "metadata": {},
   "source": [
    "## Lesson 1 homework - Level 2"
   ]
  },
  {
   "cell_type": "markdown",
   "metadata": {},
   "source": [
    "This homework is harder than the last, to make sure you are efficient workers in the basement. You will now create code for a space invaders knockoff since we obviously can't afford to get the actual one. \n",
    "- Complete the code and READ THE COMMENTS. Don't leave any underscores and make some working code!"
   ]
  },
  {
   "cell_type": "code",
   "execution_count": null,
   "metadata": {
    "vscode": {
     "languageId": "javascript"
    }
   },
   "outputs": [],
   "source": [
    "%%js\n",
    "//Replace Blanks and fill in information with code\n",
    "\n",
    "// Put variables for spaceship and mission below\n",
    "___ ___________ = \"_______\"; // Name your spaceship! The red will show up in console once complete.\n",
    "let _________ = 100; // Initial fuel value\n",
    "______________ = 0; // Set distance travelled\n",
    "_____ ____________ = _; // Fuel decrease rate per distance = 2\n",
    "\n",
    "\n",
    "// 2. Mission variables assigning\n",
    "___ selectedFuel = 50; // Assign how much fuel is allocated for the mission\n",
    "let ____________ = \"\"; // Status of the mission\n",
    "___ ____________ = Math.floor(Math.random() * _) + _; \n",
    "// Random fuel drops (1 to 3) - the _ outside the parenthesis is the minimum fuel drop, so is that 1 or 3\n",
    "\n",
    "// 3. Add random fuel during the mission\n",
    "function collectFuel(currentFuel, distance) {\n",
    "  let fuelCollected = Math.floor(Math.random() * __) + __; // Random fuel between 10 and 30 - remember from before\n",
    "  console.log(`At distance ${distance}, a fuel drop was found! Collected ${fuelCollected} fuel.`);\n",
    "  return currentFuel + ___________; //Replace with the variable you defined above - fuelC_______\n",
    "}\n",
    "\n",
    "// 4. Mission logic - makes mission occur - dont worry about if else statement\n",
    "if (selectedFuel > initialFuel) {\n",
    "  missionStatus = \"Mission ____ed. Not enough fuel!\"; //If selected fuel is greater than initial fuel will it fail or be succsesfull\n",
    "} else if (selectedFuel <= 0) {\n",
    "  missionStatus = \"Mission _____ed. Fuel must be greater than zero.\"; //If selected fuel is greater than initial fuel will it fail or abort\n",
    "} else {\n",
    "  // Begining mission\n",
    "  for (let i = 0; i < fuelDrops; i++) {\n",
    "    // Calculates distance and updates remaining fuel\n",
    "    distanceTraveled += selectedFuel / fuelConsumptionRate;\n",
    "    initialFuel -= selectedFuel;\n",
    "\n",
    "    // Check if there’s still enough fuel for the mission\n",
    "    if (initialFuel <= 0) {\n",
    "      missionStatus = `Mission ______! The spaceship ran out of fuel after traveling ${distanceTraveled} units.`; //If selected fuel is greater than initial fuel will it fail or be succsesfull\n",
    "      break;\n",
    "    }\n",
    "\n",
    "    // Collect random fuel\n",
    "    initialFuel = collectFuel(initialFuel, distanceTraveled); //\n",
    "  }\n",
    "\n",
    "  // Set end results of mission status\n",
    "  if (initialFuel > 0) {\n",
    "    missionStatus = `Mission _______! The spaceship ${spaceship} traveled ${distanceTraveled} units of distance. Remaining fuel: ${initialFuel}`; //If selected fuel is greater than initial fuel will it fail or be succsesfull\n",
    "  }\n",
    "}\n",
    "\n",
    "// 5. Output the mission results - what can print stuff \n",
    "_______.___(`___________: ${spaceship}`);\n",
    "_______.___(`Fuel given: ${selectedFuel}`);\n",
    "_______.___(`___________: ${distanceTraveled}`);\n",
    "_______.___(`Remaining fuel: ${initialFuel}`);\n",
    "_______.___(`___________: ${missionStatus}`);\n",
    "// Hint red underscores may just be whats in the {}'s - you can also change this to alter what it says"
   ]
  },
  {
   "cell_type": "markdown",
   "metadata": {},
   "source": [
    "- For you cheating basement dwellers, look away and go complete your code for minimal to no pay. \n",
    "- But for those of you who completed it, here is something to check your code with. Also make sure to run your own code and see it in console to ensure the gambling children can play the games."
   ]
  },
  {
   "cell_type": "code",
   "execution_count": 14,
   "metadata": {
    "vscode": {
     "languageId": "javascript"
    }
   },
   "outputs": [
    {
     "data": {
      "application/javascript": "\nlet spaceship = \"Mort's Flying Monkey\";\nlet initialFuel = 100; \nlet distanceTraveled = 0; \nlet fuelConsumptionRate = 2; \n\nlet selectedFuel = 50; \nlet missionStatus = \"\"; \nlet fuelDrops = Math.floor(Math.random() * 3) + 1; \n\n\nfunction collectFuel(currentFuel, distance) {\n  let fuelCollected = Math.floor(Math.random() * 20) + 10; \n  console.log(`At distance ${distance}, a fuel drop was found! Collected ${fuelCollected} fuel.`);\n  return currentFuel + fuelCollected;\n}\n\nif (selectedFuel > initialFuel) {\n  missionStatus = \"Mission failed. Not enough fuel!\";\n} else if (selectedFuel <= 0) {\n  missionStatus = \"Mission aborted. Fuel must be greater than zero.\";\n} else {\n\n  for (let i = 0; i < fuelDrops; i++) {\n   \n    distanceTraveled += selectedFuel / fuelConsumptionRate;\n    initialFuel -= selectedFuel;\n\n    \n    if (initialFuel <= 0) {\n      missionStatus = `Mission failed! The spaceship ran out of fuel after traveling ${distanceTraveled} units.`;\n      break;\n    }\n\n    \n    initialFuel = collectFuel(initialFuel, distanceTraveled);\n  }\n\n  \n  if (initialFuel > 0) {\n    missionStatus = `Mission successful! The spaceship ${spaceship} traveled ${distanceTraveled} units of distance. Remaining fuel: ${initialFuel}`;\n  }\n}\n\nconsole.log(`Spaceship: ${spaceship}`);\nconsole.log(`Fuel given: ${selectedFuel}`);\nconsole.log(`Distance traveled: ${distanceTraveled}`);\nconsole.log(`Remaining fuel: ${initialFuel}`);\nconsole.log(`Mission Status: ${missionStatus}`);\n",
      "text/plain": [
       "<IPython.core.display.Javascript object>"
      ]
     },
     "metadata": {},
     "output_type": "display_data"
    }
   ],
   "source": [
    "%%js\n",
    "\n",
    "let spaceship = \"Mort's Flying Monkey\";\n",
    "let initialFuel = 100; \n",
    "let distanceTraveled = 0; \n",
    "let fuelConsumptionRate = 2; \n",
    "\n",
    "let selectedFuel = 50; \n",
    "let missionStatus = \"\"; \n",
    "let fuelDrops = Math.floor(Math.random() * 3) + 1; \n",
    "\n",
    "\n",
    "function collectFuel(currentFuel, distance) {\n",
    "  let fuelCollected = Math.floor(Math.random() * 20) + 10; \n",
    "  console.log(`At distance ${distance}, a fuel drop was found! Collected ${fuelCollected} fuel.`);\n",
    "  return currentFuel + fuelCollected;\n",
    "}\n",
    "\n",
    "if (selectedFuel > initialFuel) {\n",
    "  missionStatus = \"Mission failed. Not enough fuel!\";\n",
    "} else if (selectedFuel <= 0) {\n",
    "  missionStatus = \"Mission aborted. Fuel must be greater than zero.\";\n",
    "} else {\n",
    "\n",
    "  for (let i = 0; i < fuelDrops; i++) {\n",
    "   \n",
    "    distanceTraveled += selectedFuel / fuelConsumptionRate;\n",
    "    initialFuel -= selectedFuel;\n",
    "\n",
    "    \n",
    "    if (initialFuel <= 0) {\n",
    "      missionStatus = `Mission failed! The spaceship ran out of fuel after traveling ${distanceTraveled} units.`;\n",
    "      break;\n",
    "    }\n",
    "\n",
    "    \n",
    "    initialFuel = collectFuel(initialFuel, distanceTraveled);\n",
    "  }\n",
    "\n",
    "  \n",
    "  if (initialFuel > 0) {\n",
    "    missionStatus = `Mission successful! The spaceship ${spaceship} traveled ${distanceTraveled} units of distance. Remaining fuel: ${initialFuel}`;\n",
    "  }\n",
    "}\n",
    "\n",
    "console.log(`Spaceship: ${spaceship}`);\n",
    "console.log(`Fuel given: ${selectedFuel}`);\n",
    "console.log(`Distance traveled: ${distanceTraveled}`);\n",
    "console.log(`Remaining fuel: ${initialFuel}`);\n",
    "console.log(`Mission Status: ${missionStatus}`);"
   ]
  },
  {
   "cell_type": "markdown",
   "metadata": {},
   "source": [
    "### Lesson 2: Level 1"
   ]
  },
  {
   "cell_type": "markdown",
   "metadata": {},
   "source": [
    "You need to get the color of the cars from the frogger game. Use an instance variable called myCar to accomplish this. "
   ]
  },
  {
   "cell_type": "code",
   "execution_count": null,
   "metadata": {
    "vscode": {
     "languageId": "javascript"
    }
   },
   "outputs": [],
   "source": [
    "%%js\n",
    "______ Car {\n",
    "    constructor(color) {\n",
    "      ___.________ = color;  // Put your instance varibale in the blank\n",
    "    }\n",
    "  \n",
    "    getColor() {\n",
    "      return ____.________;\n",
    "    }\n",
    "  }\n",
    "  \n",
    "  const myCar = new Car(\"_____\"); // Choose any color\n",
    "  console.log(myCar.getColor()); // Once run, you should see your color in the console\n",
    "  "
   ]
  },
  {
   "cell_type": "markdown",
   "metadata": {},
   "source": [
    "You need a static variable for player lives. Use the variable playerLives to set the number of lives to 3."
   ]
  },
  {
   "cell_type": "code",
   "execution_count": null,
   "metadata": {
    "vscode": {
     "languageId": "javascript"
    }
   },
   "outputs": [],
   "source": [
    "%%js\n",
    "______ Health {\n",
    "    ____________ = _;  // Make static variable and number for it\n",
    "\n",
    "}\n",
    "  console.log(____________); "
   ]
  },
  {
   "cell_type": "markdown",
   "metadata": {},
   "source": [
    "### Lesson 2 - Level 2"
   ]
  },
  {
   "cell_type": "markdown",
   "metadata": {},
   "source": [
    "Create a Book class with an instance variable title and a static variable bookCount that tracks how many books have been created. Add a method getBookInfo() to return the book's title and total number of books."
   ]
  },
  {
   "cell_type": "code",
   "execution_count": 7,
   "metadata": {
    "vscode": {
     "languageId": "javascript"
    }
   },
   "outputs": [
    {
     "data": {
      "application/javascript": "class Book {\n    static bookCount = 0;  // Static variable\n  \n    constructor(title) {\n      this.title = title;  // Instance variable\n      Book.bookCount++;  // Increment static variable each time an instance is created\n    }\n  \n    getBookInfo() {\n      return `Book Title: ${this.title}, Total Books: ${Book.bookCount}`;\n    }\n  }\n  \n  const book1 = new Book(\"JavaScript Basics\");\n  const book2 = new Book(\"Advanced JavaScript\");\n  console.log(book1.getBookInfo()); // Output: Book Title: JavaScript Basics, Total Books: 2\n  console.log(book2.getBookInfo()); // Output: Book Title: Advanced JavaScript, Total Books: 2\n  \n",
      "text/plain": [
       "<IPython.core.display.Javascript object>"
      ]
     },
     "metadata": {},
     "output_type": "display_data"
    }
   ],
   "source": [
    "%%js\n",
    "_____ Book {\n",
    "    static ________ = 0;  // Static variable (maybe read above?)\n",
    "  \n",
    "    constructor(title) {\n",
    "      this.title = title;  // Instance variable for title\n",
    "      ____.________++;  // Use the static variable and increment it\n",
    "    }\n",
    "  \n",
    "    getBookInfo() {\n",
    "      return `Book Title: ${____._____}, Total Books: ${____._______}`; // use the instance and static variables here\n",
    "    }\n",
    "  }\n",
    "  \n",
    "  const book1 = new Book(\"Mort's Guide to Making Students Fear You\");\n",
    "  const book2 = new Book(\"____________\"); // Name a book for yourself\n",
    "  console.log(book1.getBookInfo()); // Output: Book Title: JavaScript Basics, Total Books: 2\n",
    "  console.log(book2.getBookInfo()); // Output: Book Title: Advanced JavaScript, Total Books: 2\n",
    "  "
   ]
  },
  {
   "cell_type": "markdown",
   "metadata": {},
   "source": [
    "Create an ArcadeGame class that:\n",
    "- Has instance variables gameName and highScore.\n",
    "- Has a static variable totalGames to track how many - arcade games have been created.\n",
    "- Includes a method getGameInfo() to return the game name and high score.\n",
    "- Includes a static method getTotalGames() to return the total number of arcade games created."
   ]
  },
  {
   "cell_type": "code",
   "execution_count": null,
   "metadata": {
    "vscode": {
     "languageId": "javascript"
    }
   },
   "outputs": [],
   "source": [
    "_______ ArcadeGame {\n",
    "    _______ _____________ = 0;  // Static variable to track total number of games\n",
    "  \n",
    "    constructor(gameName, highScore) {\n",
    "      this.___________ = __________;  // Instance variable - same thing in each blank\n",
    "      this.___________ = __________;  // Instance variable - same thing in each blank\n",
    "      ArcadeGame.totalGames++;  // Increment static variable each time a new game is created\n",
    "    }\n",
    "  \n",
    "    // Instance method to return the game name and high score\n",
    "    getGameInfo() {\n",
    "      return `${this.______}: High Score = ${this._________}`; //The instance variables from above maybe?\n",
    "    }\n",
    "  \n",
    "    // Static method to get the total number of games\n",
    "    static getTotalGames() {\n",
    "      return ArcadeGame.totalGames;\n",
    "    }\n",
    "  }\n",
    "  \n",
    "  // Create instances of the ArcadeGame class\n",
    "  const game1 = new ArcadeGame(\"__________\", 5000); //Put any name for a game in the blank\n",
    "  const game2 = new ArcadeGame(\"_________\", 7000);\n",
    "  \n",
    "  // Display game info\n",
    "  console.log(game1.getGameInfo()); // Output: Your games High Score = 5000\n",
    "  console.log(game2.getGameInfo()); // Output: Your games #2: High Score = 7000\n",
    "  \n",
    "  // Display total arcade games count\n",
    "  console.log(ArcadeGame.getTotalGames()); // Output: 2\n",
    "  "
   ]
  }
 ],
 "metadata": {
  "kernelspec": {
   "display_name": "test2",
   "language": "python",
   "name": "python3"
  },
  "language_info": {
   "codemirror_mode": {
    "name": "ipython",
    "version": 3
   },
   "file_extension": ".py",
   "mimetype": "text/x-python",
   "name": "python",
   "nbconvert_exporter": "python",
   "pygments_lexer": "ipython3",
   "version": "3.9.6"
  }
 },
 "nbformat": 4,
 "nbformat_minor": 2
}
