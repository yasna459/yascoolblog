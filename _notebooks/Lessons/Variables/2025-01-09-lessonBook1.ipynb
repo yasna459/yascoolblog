{
 "cells": [
  {
   "cell_type": "markdown",
   "metadata": {},
   "source": [
    "\n",
    "<style>\n",
    "    p {\n",
    "        text-color: white;\n",
    "    }\n",
    "</style>"
   ]
  },
  {
   "cell_type": "raw",
   "metadata": {
    "vscode": {
     "languageId": "raw"
    }
   },
   "source": [
    "---\n",
    "layout: post\n",
    "title: Variables Lesson 1\n",
    "description: Introduction to JavaScript Variables\n",
    "type: collab\n",
    "comments: false\n",
    "categories: [CSSE JavaScript Fundamentals]\n",
    "permalink: /csse/lessons/variables/lessonBook1\n",
    "---"
   ]
  },
  {
   "cell_type": "markdown",
   "metadata": {},
   "source": [
    "# Introduction to Variables"
   ]
  },
  {
   "cell_type": "markdown",
   "metadata": {},
   "source": [
    "Variables are labeled containers that store values, such as numbers or strings. They are defined by the programmer and can be accessed and, in most cases, changed throughout the code of the program. Some examples of variable usage are:\n",
    "<ul>\n",
    "    <li>\n",
    "    Keeping scores in video games (Ex: score = 10)\n",
    "    </li>\n",
    "    <li>\n",
    "    Storing user-inputted text (Ex: message = \"Hello!\")\n",
    "    </li>\n",
    "    <li>\n",
    "    Keeping track of positions (Ex: playerX = 0)\n",
    "    </li>\n",
    "</ul>\n",
    "Since many values need to change during a program runs, variables are extremely useful in all programming applications.\n",
    "\n",
    "> Simplifying the yap: Variables are labeled containers that store values in code. They can be accessed and manipulated throughout the program and are extremely important in programming.\n"
   ]
  },
  {
   "cell_type": "markdown",
   "metadata": {},
   "source": [
    "# Primitive Data Types"
   ]
  },
  {
   "cell_type": "markdown",
   "metadata": {},
   "source": [
    "<h2>Numbers:</h2>\n",
    "In many programming languages, numbers are broken down into two types: integers and floating-points. Integers are low-memory and refer to any whole number (Ex. 1, 14, or -57). Floating-point numbers take up more memory, but can store any number (Ex. 1.567, 8, 3.14159). <strong>In Javascript, all numbers are reffered to simple as \"Number\", meaning there is no difference between floats and integers.</strong>\n",
    "\n",
    "<h3>Example</h3>"
   ]
  },
  {
   "cell_type": "code",
   "execution_count": 8,
   "metadata": {
    "vscode": {
     "languageId": "javascript"
    }
   },
   "outputs": [
    {
     "data": {
      "application/javascript": "let Score = 25; //Sets a variable called \"Score\" to 25\nconsole.log(Score); //Prints the \"Score\" variable's value in the browser's console (will output \"25\")\nScore += 10; //Increases Score by 10\n",
      "text/plain": [
       "<IPython.core.display.Javascript object>"
      ]
     },
     "metadata": {},
     "output_type": "display_data"
    }
   ],
   "source": [
    "%%js\n",
    "let Score = 25; //Sets a variable called \"Score\" to 25\n",
    "console.log(Score); //Prints the \"Score\" variable's value in the browser's console (will output \"25\")\n",
    "Score += 10; //Increases Score by 10"
   ]
  },
  {
   "cell_type": "code",
   "execution_count": 9,
   "metadata": {
    "vscode": {
     "languageId": "javascript"
    }
   },
   "outputs": [
    {
     "data": {
      "application/javascript": "let username = \"pika43\"; //Makes a string variable for the user's name\nlet friendName = 'TheNumber1Gamer'; //Makes another string variable for the user's friend's name\nlet score = 15; //Makes a number variable for the user's score\n\nconsole.log(`The user ${username} has defeated ${friendName} and gained ${score} score.`); //Will output \"The user pika43 has defeated TheNumber1Gamer and gained 15 score.\"\n//The ${username} operator inserts the variable's value into the string and only works in strings using graves (`` instead of \"\" or '')\n",
      "text/plain": [
       "<IPython.core.display.Javascript object>"
      ]
     },
     "metadata": {},
     "output_type": "display_data"
    }
   ],
   "source": [
    "%%js\n",
    "let username = \"pika43\"; //Makes a string variable for the user's name\n",
    "let friendName = 'TheNumber1Gamer'; //Makes another string variable for the user's friend's name\n",
    "let score = 15; //Makes a number variable for the user's score\n",
    "\n",
    "console.log(`The user ${username} has defeated ${friendName} and gained ${score} score.`); //Will output \"The user pika43 has defeated TheNumber1Gamer and gained 15 score.\"\n",
    "//The ${username} operator inserts the variable's value into the string and only works in strings using graves (`` instead of \"\" or '')"
   ]
  },
  {
   "cell_type": "markdown",
   "metadata": {},
   "source": [
    "<h2>Strings</h2>\n",
    "    Strings are the primary method of storing non-number text in Javascript. <strong>Strings are marked with quotation marks at the beginning and end of the text</strong> (Ex. \"This is a string!\"). You can also use apostrophes (Ex. 'This is also a string!') or graves (Ex. `This string can be escaped!`).\"\n",
    "    <br>\n",
    "    <br>\n",
    "    Strings using quotations are the same as strings using apostrophes, and the type you use is usually up to personal preferences (there are some situations where you need apostrophes, but these are not very common). <strong>Strings can be combined using the \"+\" operator </strong>(Ex. console.log(\"This is a\" + \"string!\") will output \"This is a string!\").\n",
    "    <br>\n",
    "    <br>\n",
    "    <strong>Strings using graves can be escaped using the \"${}\" operator.</strong> This is useful when integrating other variables into strings (Ex. `Score: ${score}`).\n",
    "    <br>\n",
    "    <h3>Example</h3>"
   ]
  },
  {
   "cell_type": "markdown",
   "metadata": {},
   "source": [
    "<h2>Booleans</h2>\n",
    "Booleans are simple true or false values. They cannot store text or numbers and are only used as conditions. Booleans are either defined as variables (Ex. let online = true;) <strong>or outputted from comparisons using the \"==\", \"<\", \">\", \"<=\", \">=\", or \"!\" operators.</strong> Although they are very simple, booleans are a very important part of programming.\n",
    "<br>\n",
    "<h3>Example</h3>"
   ]
  },
  {
   "cell_type": "code",
   "execution_count": 10,
   "metadata": {
    "vscode": {
     "languageId": "javascript"
    }
   },
   "outputs": [
    {
     "data": {
      "application/javascript": "let number1 = Math.random(); //Sets \"number1\" to a number between 0 and 1\nlet number2 = Math.random(); //Sets \"number2\" to a different number between 0 and 1\nlet checkEquation = number1 < number2; //This will set the checkEquation variable to a boolean\n\nconsole.log(checkEquation);\n\nif(checkEquation){\n    console.log(\"number1 is less than number2!\");\n}else{\n    console.log(\"number2 is less than number1!\");\n}\n",
      "text/plain": [
       "<IPython.core.display.Javascript object>"
      ]
     },
     "metadata": {},
     "output_type": "display_data"
    }
   ],
   "source": [
    "%%js\n",
    "let number1 = Math.random(); //Sets \"number1\" to a number between 0 and 1\n",
    "let number2 = Math.random(); //Sets \"number2\" to a different number between 0 and 1\n",
    "let checkEquation = number1 < number2; //This will set the checkEquation variable to a boolean\n",
    "\n",
    "console.log(checkEquation);\n",
    "\n",
    "if(checkEquation){\n",
    "    console.log(\"number1 is less than number2!\");\n",
    "}else{\n",
    "    console.log(\"number2 is less than number1!\");\n",
    "}"
   ]
  },
  {
   "cell_type": "markdown",
   "metadata": {},
   "source": [
    "<h2>Objects</h2>\n",
    "Objects are extremely useful data types. They take advantage of every other data type to create a collection of proprties that can be accessed and changed. Objects are great for organization and neat storage, as <strong>they minimize the need to create more variables.</strong>\n",
    "<br><br>\n",
    "When creating an object, use curly braces ({ and }) to start and end the object. Then, write the name of a property, add a colon (:) after, and then define it as a data type. Lastly, add a comma afterwards. You can repeat this to add more properties (Ex. {property1: \"green\", property2: \"yellow\"}).\n",
    "<br>\n",
    "<h3>Example</h3>"
   ]
  },
  {
   "cell_type": "code",
   "execution_count": 11,
   "metadata": {
    "vscode": {
     "languageId": "javascript"
    }
   },
   "outputs": [
    {
     "data": {
      "application/javascript": "let player = {name: \"West\", health: 100, canHeal: true}; //Creates an object called \"player\". The curly brackets ({}) indicate the start and end of the object definition.\nconsole.log(player.name); //will output \"West\"\nconsole.log(player.health); //will output \"1000\"\nplayer.health = 50;\nconsole.log(player.health); //will output \"50\"\n",
      "text/plain": [
       "<IPython.core.display.Javascript object>"
      ]
     },
     "metadata": {},
     "output_type": "display_data"
    }
   ],
   "source": [
    "%%js\n",
    "let player = {name: \"West\", health: 100, canHeal: true}; //Creates an object called \"player\". The curly brackets ({}) indicate the start and end of the object definition.\n",
    "console.log(player.name); //will output \"West\"\n",
    "console.log(player.health); //will output \"1000\"\n",
    "player.health = 50;\n",
    "console.log(player.health); //will output \"50\""
   ]
  },
  {
   "cell_type": "markdown",
   "metadata": {},
   "source": [
    "<h2>Symbols</h2>\n",
    "Symbols are the newest addition to Javascript data types. They are completely unique, private pieces of data that are generally used when making properties of objects. They function similar to constant variables, as in they cannot change their value.\n",
    "<br>\n",
    "<h3>Example</h3>"
   ]
  },
  {
   "cell_type": "code",
   "execution_count": 12,
   "metadata": {
    "vscode": {
     "languageId": "javascript"
    }
   },
   "outputs": [
    {
     "data": {
      "application/javascript": "let newSymbol = Symbol(\"This is a symbol!\"); //Creates a new symbol with a description of \"This is a symbol!\"\nlet object = { //Creates a new object\n    [newSymbol]: 'Hello, World!', //Uses the symbol as a property of the object\n};\nconsole.log(object[newSymbol]); //Outputs \"Hello, World!\"\nconsole.log(newSymbol.description); //Outputs \"This is a symbol!\"\n",
      "text/plain": [
       "<IPython.core.display.Javascript object>"
      ]
     },
     "metadata": {},
     "output_type": "display_data"
    }
   ],
   "source": [
    "%%js\n",
    "let newSymbol = Symbol(\"This is a symbol!\"); //Creates a new symbol with a description of \"This is a symbol!\"\n",
    "let object = { //Creates a new object\n",
    "    [newSymbol]: 'Hello, World!', //Uses the symbol as a property of the object\n",
    "};\n",
    "console.log(object[newSymbol]); //Outputs \"Hello, World!\"\n",
    "console.log(newSymbol.description); //Outputs \"This is a symbol!\""
   ]
  },
  {
   "cell_type": "markdown",
   "metadata": {},
   "source": [
    "\n",
    "<h2>BigInt</h2>\n",
    "<b1>\n",
    "BigInt is another less commonly used data type. \"BigInt\" is short for (big integer), and they exist to stop the computer from having problems with numbers too big for the system.<br>\n",
    "Computers can only hold a certain integer as the largest number (Ex. a 32 bit system has a largest Integer, 2,147,483,647. There is also a smallest number, -2,147,483,648). If the system detects a number larger than this, it will roll back to the smallest number and count up fron there. BigInts act as a failsafe for this type of problem. \n",
    "<br><br>\n",
    "Define a BigInt with either an \"n\" at the end of a number, or a BigInt() function enclosing the number.\n",
    "</b1>"
   ]
  },
  {
   "cell_type": "code",
   "execution_count": 13,
   "metadata": {
    "vscode": {
     "languageId": "javascript"
    }
   },
   "outputs": [
    {
     "data": {
      "application/javascript": "let veryBigNumber = 999999999999999999999999n; //The \"n\" at the end of the number marks this as a BigInt instead of a number.\nconsole.log(veryBigNumber); //Outputs the BigInt\n",
      "text/plain": [
       "<IPython.core.display.Javascript object>"
      ]
     },
     "metadata": {},
     "output_type": "display_data"
    }
   ],
   "source": [
    "%%js\n",
    "let veryBigNumber = 999999999999999999999999n; //The \"n\" at the end of the number marks this as a BigInt instead of a number.\n",
    "console.log(veryBigNumber); //Outputs the BigInt"
   ]
  },
  {
   "cell_type": "markdown",
   "metadata": {},
   "source": [
    "<h2>Undefined</h2>\n",
    "When a variable does not have an assigned value, it will show up as \"undefined\" whenever it is used. Intentional permanent usage of undefined values is not very common, as they tend to cause errors, and placeholder values are more common.\n",
    "<br>\n",
    "<h3>Example</h3>"
   ]
  },
  {
   "cell_type": "code",
   "execution_count": 14,
   "metadata": {
    "vscode": {
     "languageId": "javascript"
    }
   },
   "outputs": [
    {
     "data": {
      "application/javascript": "let password; //Declares a variable called \"password\" but does not assign it a value. Because no value was assigned, it automatically gets an undefined value.\nconsole.log(password); //This will output \"undefined\" since \"password\" has no value.\npassword = 12345; //Gives \"password\" a value\nconsole.log(password); //This will output \"password\"'s new value, \"12345\"\n",
      "text/plain": [
       "<IPython.core.display.Javascript object>"
      ]
     },
     "metadata": {},
     "output_type": "display_data"
    }
   ],
   "source": [
    "%%js\n",
    "let password; //Declares a variable called \"password\" but does not assign it a value. Because no value was assigned, it automatically gets an undefined value.\n",
    "console.log(password); //This will output \"undefined\" since \"password\" has no value.\n",
    "password = 12345; //Gives \"password\" a value\n",
    "console.log(password); //This will output \"password\"'s new value, \"12345\""
   ]
  },
  {
   "cell_type": "markdown",
   "metadata": {},
   "source": [
    "<h2>Null</h2>\n",
    "Null is like undefined's brother. The two are very similar, with the main difference being that null represents variables that do not exist at all while undefined represents the value of variables with no assigned value. Null is rarely used, but can be useful in specific cases. As an example, if you want to test if a variable has been defined earlier in your code, you may want to initially define the variable with a null value. Checking for a value later will allow you to see if it has properly been updated (or, if it stays null, it has not been updated).\n",
    "<br>\n",
    "<h3>Example</h3>"
   ]
  },
  {
   "cell_type": "code",
   "execution_count": 15,
   "metadata": {
    "vscode": {
     "languageId": "javascript"
    }
   },
   "outputs": [
    {
     "data": {
      "application/javascript": "let password = null;\nconsole.log(password); //Password has not been updated yet\npassword = 12345;\nconsole.log(password); //Prints updated password\n",
      "text/plain": [
       "<IPython.core.display.Javascript object>"
      ]
     },
     "metadata": {},
     "output_type": "display_data"
    }
   ],
   "source": [
    "%%js\n",
    "let password = null;\n",
    "console.log(password); //Password has not been updated yet\n",
    "password = 12345;\n",
    "console.log(password); //Prints updated password"
   ]
  },
  {
   "cell_type": "markdown",
   "metadata": {},
   "source": [
    "<h2>Summary</h2>\n",
    "In this lesson, you have learned about the 8 main types of data that variables can store in JavaScript, while also seeing how a few other things work, like \"if\" statements, console.log(), and Math.random(). \n",
    "<ul>\n",
    "    <li><strong>Numbers</strong> - Literally just numbers.</li>\n",
    "    <li><strong>Strings</strong> - Data type for storing non-number text.</li>\n",
    "    <li><strong>Booleans</strong> - Simple true/false values.</li>\n",
    "    <li><strong>Objects</strong> - Collection of properties. Basically just variables in a variable.</li>\n",
    "    <li><strong>Symbols</strong> - Unchangable unique identifiers.</li>\n",
    "    <li><strong>BigInts</strong> - Data type for storing numbers too large for Javascript to handle </li>\n",
    "    <li><strong>Undefined</strong> - Data type representing variables and properties without definitions. Basically just undefined variables</li>\n",
    "    <li><strong>Null</strong> - Rare data type representing objects that do not exist.</li>\n",
    "</ul>\n",
    "<br>"
   ]
  }
 ],
 "metadata": {
  "kernelspec": {
   "display_name": "test2",
   "language": "python",
   "name": "python3"
  },
  "language_info": {
   "codemirror_mode": {
    "name": "ipython",
    "version": 3
   },
   "file_extension": ".py",
   "mimetype": "text/x-python",
   "name": "python",
   "nbconvert_exporter": "python",
   "pygments_lexer": "ipython3",
   "version": "3.13.1"
  }
 },
 "nbformat": 4,
 "nbformat_minor": 2
}
