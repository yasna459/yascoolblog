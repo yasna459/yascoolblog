{
 "cells": [
  {
   "cell_type": "raw",
   "metadata": {
    "vscode": {
     "languageId": "raw"
    }
   },
   "source": [
    "---\n",
    "layout: post\n",
    "title: Variables Lesson 2\n",
    "description: Now that you know the types of variables, let's see how they can be used in different real-world contexts.\n",
    "type: collab\n",
    "comments: false\n",
    "categories: [CSSE JavaScript Fundamentals]\n",
    "permalink: /csse/lessons/variables/lessonBook2\n",
    "---"
   ]
  },
  {
   "cell_type": "markdown",
   "metadata": {},
   "source": [
    "Plan:\n",
    "calculations with variables\n",
    "advanced declarations\n"
   ]
  },
  {
   "cell_type": "markdown",
   "metadata": {},
   "source": [
    "Advanced Application of Variables \n",
    "(Normal people talk: Common Uses)"
   ]
  },
  {
   "cell_type": "markdown",
   "metadata": {},
   "source": [
    "<h2>How Can We Use Variables?</h2>\n",
    "<b1>\n",
    "Variables are useful in virtually every context. Do you want to store a dynamically changing value, like score or health? Use a variable. Want to contain messages that can contain changing pieces of information? Variables. Want to intentionally have empty values for later use (for whatever reason)? Variables.\n",
    "</b1>"
   ]
  },
  {
   "cell_type": "markdown",
   "metadata": {},
   "source": [
    "<b1>Score is a great example on how to use variables in an actual context. In this example, every time the program is run, the Score variable increments by 1.</b1>"
   ]
  },
  {
   "cell_type": "code",
   "execution_count": 7,
   "metadata": {
    "vscode": {
     "languageId": "javascript"
    }
   },
   "outputs": [
    {
     "data": {
      "application/javascript": "// Get the current score from localStorage, or set it to 0 if it doesn't exist\nlet score = parseInt(localStorage.getItem(\"score\")) || 0;\n\n// Increment the score\nscore += 1;\n\n// Save the updated score back to localStorage\nlocalStorage.setItem(\"score\", score);\n\n// Log the current score\nconsole.log(`Your score is now: ${score}`);\n",
      "text/plain": [
       "<IPython.core.display.Javascript object>"
      ]
     },
     "metadata": {},
     "output_type": "display_data"
    }
   ],
   "source": [
    "%%js\n",
    "// Get the current score from localStorage, or set it to 0 if it doesn't exist\n",
    "let score = parseInt(localStorage.getItem(\"score\")) || 0;\n",
    "\n",
    "// Increment the score\n",
    "score += 1;\n",
    "\n",
    "// Save the updated score back to localStorage\n",
    "localStorage.setItem(\"score\", score);\n",
    "\n",
    "// Log the current score\n",
    "console.log(`Your score is now: ${score}`);"
   ]
  },
  {
   "cell_type": "markdown",
   "metadata": {},
   "source": [
    "Now, lets see variables being used in a a full \"game\""
   ]
  },
  {
   "cell_type": "code",
   "execution_count": 14,
   "metadata": {
    "vscode": {
     "languageId": "javascript"
    }
   },
   "outputs": [
    {
     "data": {
      "application/javascript": "\nlet spaceship = \"Mort's Flying Monkey\";\nlet initialFuel = 100; \nlet distanceTraveled = 0; \nlet fuelConsumptionRate = 2; \n\nlet selectedFuel = 50; \nlet missionStatus = \"\"; \nlet fuelDrops = Math.floor(Math.random() * 3) + 1; \n\n\nfunction collectFuel(currentFuel, distance) {\n  let fuelCollected = Math.floor(Math.random() * 20) + 10; \n  console.log(`At distance ${distance}, a fuel drop was found! Collected ${fuelCollected} fuel.`);\n  return currentFuel + fuelCollected;\n}\n\nif (selectedFuel > initialFuel) {\n  missionStatus = \"Mission failed. Not enough fuel!\";\n} else if (selectedFuel <= 0) {\n  missionStatus = \"Mission aborted. Fuel must be greater than zero.\";\n} else {\n\n  for (let i = 0; i < fuelDrops; i++) {\n   \n    distanceTraveled += selectedFuel / fuelConsumptionRate;\n    initialFuel -= selectedFuel;\n\n    \n    if (initialFuel <= 0) {\n      missionStatus = `Mission failed! The spaceship ran out of fuel after traveling ${distanceTraveled} units.`;\n      break;\n    }\n\n    \n    initialFuel = collectFuel(initialFuel, distanceTraveled);\n  }\n\n  \n  if (initialFuel > 0) {\n    missionStatus = `Mission successful! The spaceship ${spaceship} traveled ${distanceTraveled} units of distance. Remaining fuel: ${initialFuel}`;\n  }\n}\n\nconsole.log(`Spaceship: ${spaceship}`);\nconsole.log(`Fuel given: ${selectedFuel}`);\nconsole.log(`Distance traveled: ${distanceTraveled}`);\nconsole.log(`Remaining fuel: ${initialFuel}`);\nconsole.log(`Mission Status: ${missionStatus}`);\n",
      "text/plain": [
       "<IPython.core.display.Javascript object>"
      ]
     },
     "metadata": {},
     "output_type": "display_data"
    }
   ],
   "source": [
    "%%js\n",
    "\n",
    "let spaceship = \"Mort's Flying Monkey\";\n",
    "let initialFuel = 100; \n",
    "let distanceTraveled = 0; \n",
    "let fuelConsumptionRate = 2; \n",
    "\n",
    "let selectedFuel = 50; \n",
    "let missionStatus = \"\"; \n",
    "let fuelDrops = Math.floor(Math.random() * 3) + 1; \n",
    "\n",
    "\n",
    "function collectFuel(currentFuel, distance) {\n",
    "  let fuelCollected = Math.floor(Math.random() * 20) + 10; \n",
    "  console.log(`At distance ${distance}, a fuel drop was found! Collected ${fuelCollected} fuel.`);\n",
    "  return currentFuel + fuelCollected;\n",
    "}\n",
    "\n",
    "if (selectedFuel > initialFuel) {\n",
    "  missionStatus = \"Mission failed. Not enough fuel!\";\n",
    "} else if (selectedFuel <= 0) {\n",
    "  missionStatus = \"Mission aborted. Fuel must be greater than zero.\";\n",
    "} else {\n",
    "\n",
    "  for (let i = 0; i < fuelDrops; i++) {\n",
    "   \n",
    "    distanceTraveled += selectedFuel / fuelConsumptionRate;\n",
    "    initialFuel -= selectedFuel;\n",
    "\n",
    "    \n",
    "    if (initialFuel <= 0) {\n",
    "      missionStatus = `Mission failed! The spaceship ran out of fuel after traveling ${distanceTraveled} units.`;\n",
    "      break;\n",
    "    }\n",
    "\n",
    "    \n",
    "    initialFuel = collectFuel(initialFuel, distanceTraveled);\n",
    "  }\n",
    "\n",
    "  \n",
    "  if (initialFuel > 0) {\n",
    "    missionStatus = `Mission successful! The spaceship ${spaceship} traveled ${distanceTraveled} units of distance. Remaining fuel: ${initialFuel}`;\n",
    "  }\n",
    "}\n",
    "\n",
    "console.log(`Spaceship: ${spaceship}`);\n",
    "console.log(`Fuel given: ${selectedFuel}`);\n",
    "console.log(`Distance traveled: ${distanceTraveled}`);\n",
    "console.log(`Remaining fuel: ${initialFuel}`);\n",
    "console.log(`Mission Status: ${missionStatus}`);\n",
    "// hi down here... yes we know this doesnt use any of the cool variable types we talked about last lesson sorry not sorry"
   ]
  },
  {
   "cell_type": "code",
   "execution_count": null,
   "metadata": {
    "vscode": {
     "languageId": "javascript"
    }
   },
   "outputs": [],
   "source": [
    "function collectFuel(currentFuel, distance) {\n",
    "    let fuelCollected = Math.floor(Math.random() * 20) + 10; \n",
    "    console.log(`At distance ${distance}, a fuel drop was found! Collected ${fuelCollected} fuel.`);\n",
    "    return currentFuel + fuelCollected;\n",
    "  }"
   ]
  },
  {
   "cell_type": "markdown",
   "metadata": {},
   "source": [
    "- In this first bit of the code, a function is created to add a random amount of fuel to the fuelCollected variable that was previously defined"
   ]
  },
  {
   "cell_type": "code",
   "execution_count": null,
   "metadata": {
    "vscode": {
     "languageId": "javascript"
    }
   },
   "outputs": [],
   "source": [
    "if (selectedFuel > initialFuel) {\n",
    "    missionStatus = \"Mission failed. Not enough fuel!\";\n",
    "  } else if (selectedFuel <= 0) {\n",
    "    missionStatus = \"Mission aborted. Fuel must be greater than zero.\";\n",
    "  } else {\n",
    "    // Proceed to the mission loop\n",
    "  }"
   ]
  },
  {
   "cell_type": "markdown",
   "metadata": {},
   "source": [
    "- In this part of the code, the values inside variables are being compared. Trying to do this without variables would be very, very, very, very, extremely, extremely annoying and maybe even not possible"
   ]
  },
  {
   "cell_type": "markdown",
   "metadata": {},
   "source": [
    "### Object Oriented Variable Usage"
   ]
  },
  {
   "cell_type": "markdown",
   "metadata": {},
   "source": [
    "You now know how to define variables and vaguely know how to use them. However, with OOP programming there are two more variable types. (for now?)"
   ]
  },
  {
   "cell_type": "markdown",
   "metadata": {},
   "source": [
    "><h2>Static Variable</h2>"
   ]
  },
  {
   "cell_type": "markdown",
   "metadata": {},
   "source": [
    "Static variables are variables that are \"static\" throughout all instances of the class. They can also be accessed directly in the class without having to make a instance."
   ]
  },
  {
   "cell_type": "code",
   "execution_count": 35,
   "metadata": {
    "vscode": {
     "languageId": "javascript"
    }
   },
   "outputs": [
    {
     "data": {
      "application/javascript": "class myClass {\n    static Health = 100; //this is the static variable\n\n    \n    \n}\nconsole.log(myClass.Health)\n",
      "text/plain": [
       "<IPython.core.display.Javascript object>"
      ]
     },
     "metadata": {},
     "output_type": "display_data"
    }
   ],
   "source": [
    "%%js \n",
    "class myCharacter {\n",
    "    static Health = 100; //this is the static variable\n",
    "\n",
    "    \n",
    "    \n",
    "}\n",
    "console.log(myCharacter.Health)"
   ]
  },
  {
   "cell_type": "markdown",
   "metadata": {},
   "source": [
    "In this example, the static variable, noted by the \"static\" keyword, defines Health for the class \"Mycharacter.\" If I were to make another character under the class Mycharacter, this health value would become a shared health pool - if one character takes damage the other's health is affected as well."
   ]
  },
  {
   "cell_type": "markdown",
   "metadata": {},
   "source": [
    "Now, lets see if this static variable works in practice."
   ]
  },
  {
   "cell_type": "code",
   "execution_count": 7,
   "metadata": {
    "vscode": {
     "languageId": "javascript"
    }
   },
   "outputs": [
    {
     "data": {
      "application/javascript": "class Dog {\n    static Health = 100\n    constructor(name, age) {\n        this.name = name // I wonder what kind of variable this is\n        this.age = age\n    }\n}\n\nlet myDog = new Dog(\"QuadraticFormula\", 2)\nconsole.log(myDog.name)\nconsole.log(Dog.Health) //since this variable is shared across all instances, to access this dog's health you access from the class.\n//to show that this is truly shared across all classes, lets modify the health then make another dog.\nDog.Health = 75\n\nlet otherDog = new Dog(\"woke up on both sides of the bed\", 10)\nconsole.log(otherDog.name)\nconsole.log(Dog.Health) //accessing this dog's health\n",
      "text/plain": [
       "<IPython.core.display.Javascript object>"
      ]
     },
     "metadata": {},
     "output_type": "display_data"
    }
   ],
   "source": [
    "%%js\n",
    "class Dog {\n",
    "    static Health = 100\n",
    "    constructor(name, age) {\n",
    "        this.name = name // I wonder what kind of variable this is\n",
    "        this.age = age\n",
    "    }\n",
    "}\n",
    "\n",
    "let myDog = new Dog(\"QuadraticFormula\", 2)\n",
    "console.log(myDog.name)\n",
    "console.log(Dog.Health) //since this variable is shared across all instances, to access this dog's health you access from the class.\n",
    "\n",
    "//to show that this is truly shared across all classes, lets modify the health then make another dog.\n",
    "\n",
    "Dog.Health = 75\n",
    "\n",
    "let otherDog = new Dog(\"woke up on both sides of the bed\", 10)\n",
    "console.log(otherDog.name)\n",
    "console.log(Dog.Health) //accessing this dog's health"
   ]
  },
  {
   "cell_type": "markdown",
   "metadata": {},
   "source": [
    "Other common use cases for Static Variables are counters, configuration settings, global constants, and could even be used to store base stats for characters in a video game"
   ]
  },
  {
   "cell_type": "markdown",
   "metadata": {},
   "source": [
    "><h2>Instanced Variables</h2>\n"
   ]
  },
  {
   "cell_type": "markdown",
   "metadata": {},
   "source": [
    "Now, you may have seen another kind of variable in my example above. What is this? you might ask. Well, as the tile suggests, this is an instanced variable."
   ]
  },
  {
   "cell_type": "markdown",
   "metadata": {},
   "source": [
    "As the name suggests, an instanced variable can be set differently for any instance of a class."
   ]
  },
  {
   "cell_type": "code",
   "execution_count": 11,
   "metadata": {
    "vscode": {
     "languageId": "javascript"
    }
   },
   "outputs": [
    {
     "data": {
      "application/javascript": "class Character {\n    constructor(health){\n    this.health = health;\n    }\n\n}\nglobalThis.dumbmist = new Character(5);\ndumbmist.health = 2; //damaging devon \nconsole.log(dumbmist.health);\n",
      "text/plain": [
       "<IPython.core.display.Javascript object>"
      ]
     },
     "metadata": {},
     "output_type": "display_data"
    }
   ],
   "source": [
    "%%js\n",
    "class Character {\n",
    "    constructor(health){\n",
    "    this.health = health;\n",
    "    }\n",
    "\n",
    "}\n",
    "globalThis.dumbmist = new Character(5);\n",
    "dumbmist.health = 2; //damaging devon \n",
    "console.log(dumbmist.health);"
   ]
  },
  {
   "cell_type": "markdown",
   "metadata": {},
   "source": [
    "So in this example, health as a whole defines the health of the character (yeah who woulda guessed). \"this.health\" however creates an instance of this health variable for every character that is under this class. These instanced variables are only accessible in the object and changing one instance does not affect any others."
   ]
  },
  {
   "cell_type": "code",
   "execution_count": 10,
   "metadata": {
    "vscode": {
     "languageId": "javascript"
    }
   },
   "outputs": [
    {
     "data": {
      "application/javascript": "// just so you guys can see that Im not lying\nclass Character {\n    constructor(health) {\n    this.health = health;\n    }\n\n}\nglobalThis.dumbmist = new Character(5);\nglobalThis.evansvetina = new Character(7);\nglobalThis.weststefany = new Character(9);\n\ndumbmist.health = 2; //damaging devon\nevansvetina.health = 1; //damaging evan\nweststefani.health = 3; //damaging west\nconsole.log(dumbmist.health);\nconsole.log(evansvetina.health);\nconsole.log(weststefany.health);\n",
      "text/plain": [
       "<IPython.core.display.Javascript object>"
      ]
     },
     "metadata": {},
     "output_type": "display_data"
    }
   ],
   "source": [
    "%%js\n",
    "// just so you guys can see that Im not lying\n",
    "class Character {\n",
    "    constructor(health) {\n",
    "    this.health = health;\n",
    "    }\n",
    "\n",
    "}\n",
    "globalThis.dumbmist = new Character(5);\n",
    "globalThis.evansvetina = new Character(7);\n",
    "globalThis.weststefany = new Character(9);\n",
    "\n",
    "dumbmist.health = 2; //damaging devon\n",
    "evansvetina.health = 1; //damaging evan\n",
    "weststefani.health = 3; //damaging west\n",
    "console.log(dumbmist.health);\n",
    "console.log(evansvetina.health);\n",
    "console.log(weststefany.health);"
   ]
  }
 ],
 "metadata": {
  "kernelspec": {
   "display_name": "base",
   "language": "python",
   "name": "python3"
  },
  "language_info": {
   "codemirror_mode": {
    "name": "ipython",
    "version": 3
   },
   "file_extension": ".py",
   "mimetype": "text/x-python",
   "name": "python",
   "nbconvert_exporter": "python",
   "pygments_lexer": "ipython3",
   "version": "3.12.7"
  }
 },
 "nbformat": 4,
 "nbformat_minor": 2
}
