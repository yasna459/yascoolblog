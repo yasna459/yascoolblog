{
 "cells": [
  {
   "cell_type": "raw",
   "metadata": {
    "vscode": {
     "languageId": "raw"
    }
   },
   "source": [
    "---\n",
    "layout: post\n",
    "title: Variables Popcorn Hax\n",
    "description: Exercises to do mid-lesson, when instructed. Designed to be fairly easy and help you apply a basic understanding of variables you should already have from the lesson.\n",
    "type: collab\n",
    "comments: false\n",
    "categories: [CSSE JavaScript Fundamentals]\n",
    "permalink: /csse/lessons/variables/popcornHax\n",
    "---"
   ]
  },
  {
   "cell_type": "markdown",
   "metadata": {},
   "source": [
    "<h1>Popcorn Hax</h1>\n",
    "\n",
    "To access printed results using console.log, follow this simple set of steps.\n",
    "1: Access the \"Help\" button near the top of your screen (next to to \"Terminal\" and \"Window). It looks something like this on macOS:<br>\n",
    "<img width=\"844\" alt=\"image\" src=\"https://github.com/user-attachments/assets/18465a9b-e7e3-4f9d-8653-3ede47e2dfc6\" />\n",
    "<br>\n",
    "After clicking help, the drop-down menu should have a \"Toggle Developer Tools\" option. Click it, and navigate to the console menu.\n",
    "Then, look for a little O with a line through it. Click this to clear the console.\n",
    "\n",
    "<h2>Lesson 1, Exercise 1:</h2><br>\n",
    "Define a variable \"charHealth\" as an integer value of 100. Then, run a command to print the value and type of charHealth.\n"
   ]
  },
  {
   "cell_type": "code",
   "execution_count": 1,
   "metadata": {
    "vscode": {
     "languageId": "javascript"
    }
   },
   "outputs": [
    {
     "data": {
      "application/javascript": "//On this line, define charHealth.\nlet charHealth = 100.0;\n//Run the command to print charHealth's value here.\nconsole.log(charHealth);\n//Run the command to check the type of variable here.\nconsole.log(typeof charHealth);\n",
      "text/plain": [
       "<IPython.core.display.Javascript object>"
      ]
     },
     "metadata": {},
     "output_type": "display_data"
    }
   ],
   "source": [
    "%%js\n",
    "//On this line, define charHealth.\n",
    "let charHealth = 100.0;\n",
    "//Run the command to print charHealth's value here.\n",
    "console.log(charHealth);\n",
    "//Run the command to check the type of variable here.\n",
    "console.log(typeof charHealth);"
   ]
  },
  {
   "cell_type": "markdown",
   "metadata": {},
   "source": [
    "<h2>Exercise 2:</h2><br>\n",
    "Define two variables: \"charHealth\" and \"damage\". Then, combine the two to update charHealth. Make sure they are the same type of variable - otherwise, you will not be able to combine them."
   ]
  },
  {
   "cell_type": "code",
   "execution_count": 2,
   "metadata": {
    "vscode": {
     "languageId": "javascript"
    }
   },
   "outputs": [
    {
     "data": {
      "application/javascript": "//Define variables up here. Make sure they are both number values.\nlet charHealth = 100.0\nlet damage = 15.5\n\n//Update charHealth after the player has taken damage. The character should lose health relative to damage taken. Print your results.\ncharHealth -= damage\nconsole.log(charHealth);\n",
      "text/plain": [
       "<IPython.core.display.Javascript object>"
      ]
     },
     "metadata": {},
     "output_type": "display_data"
    }
   ],
   "source": [
    "%%js\n",
    "//Define variables up here. Make sure they are both number values.\n",
    "let charHealth = 100.0 //defines how much health \n",
    "let damage = 15.5 //defines how much damage has been taken\n",
    "\n",
    "//Update charHealth after the player has taken damage. The character should lose health relative to damage taken. Print your results.\n",
    "charHealth -= damage //subtracts damage taken from original health\n",
    "console.log(charHealth); //prints health after damage in console"
   ]
  },
  {
   "cell_type": "markdown",
   "metadata": {},
   "source": [
    "<h2>Exercise 3:</h2><br>\n",
    "Create two parts of a message, and store each part as a separate variable. Combine these variables into a new one, finalMessage, and print its results."
   ]
  },
  {
   "cell_type": "code",
   "execution_count": 8,
   "metadata": {
    "vscode": {
     "languageId": "javascript"
    }
   },
   "outputs": [
    {
     "data": {
      "application/javascript": "//Define variables and combine them here\nlet messagePart1 = \"I'm not \"; //first half of message (I'm not)\nlet messagePart2 = \"Waluigi...\"; //second half of message (Waluigi...)\nlet finalMessage = messagePart1 + messagePart2; //combines both parts of message\n//Print results here.\nconsole.log(finalMessage); //prints final message in console\n",
      "text/plain": [
       "<IPython.core.display.Javascript object>"
      ]
     },
     "metadata": {},
     "output_type": "display_data"
    }
   ],
   "source": [
    "%%js\n",
    "//Define variables and combine them here\n",
    "let messagePart1 = \"I'm not \"; //first half of message (I'm not)\n",
    "let messagePart2 = \"Waluigi...\"; //second half of message (Waluigi...)\n",
    "let finalMessage = messagePart1 + messagePart2; //combines both parts of message\n",
    "//Print results here.\n",
    "console.log(finalMessage); //prints final message in console"
   ]
  },
  {
   "cell_type": "markdown",
   "metadata": {},
   "source": [
    "<b1>\n",
    "Make sure to end each line with a semicolon (;). \n",
    "<br>Part 2: Using this if conditional, see if you can get the console to output \"You have successfully manipulated these strings! Good Job!\" If you don't get the desired result, try again.\n",
    "</b1>"
   ]
  },
  {
   "cell_type": "code",
   "execution_count": 9,
   "metadata": {
    "vscode": {
     "languageId": "javascript"
    }
   },
   "outputs": [
    {
     "data": {
      "application/javascript": "let m1 = \"I'm not \";\nlet m2 = \"Waluigi...\"; //Edit this \n\nif (m1 + m2 == \"I'm not Waluigi...\"){\n    console.log(\"You have successfully manipulated these strings! Good Job!\"); //creates a conditional where console prints whether or not user used the variables correctly\n} else {\n    console.log(\"Failed to match strings. Try again.\");\n}\nconsole.log(m1 + m2); //Should say \"I'm not Waluigi...\"\n",
      "text/plain": [
       "<IPython.core.display.Javascript object>"
      ]
     },
     "metadata": {},
     "output_type": "display_data"
    }
   ],
   "source": [
    "%%js\n",
    "let m1 = \"I'm not \";\n",
    "let m2 = \"Waluigi...\"; //Edit this \n",
    "\n",
    "if (m1 + m2 == \"I'm not Waluigi...\"){\n",
    "    console.log(\"You have successfully manipulated these strings! Good Job!\"); //creates a conditional where console prints whether or not user used the variables correctly\n",
    "} else {\n",
    "    console.log(\"Failed to match strings. Try again.\");\n",
    "}\n",
    "console.log(m1 + m2); //Should say \"I'm not Waluigi...\""
   ]
  },
  {
   "cell_type": "markdown",
   "metadata": {},
   "source": [
    "Try defining a score variable and a string that displays the player's score. A very basic version of this has been set up for you here, using Math.random() to get a random number."
   ]
  },
  {
   "cell_type": "code",
   "execution_count": 11,
   "metadata": {
    "vscode": {
     "languageId": "javascript"
    }
   },
   "outputs": [
    {
     "data": {
      "application/javascript": "let gambling = Math.round(100 * Math.random()) //Random integer from 0 to 100. Math.round just takes the decimal produced by Math.random and rounds it for you (crazy I know).\nlet gamblingTalk = `Let's see how you did! ...${gambling}... Nice!`//Use graves and ${} to make gamblingTalk contain the random number, along with a message.\n\nconsole.log(gamblingTalk); //Print gamblingTalk.\n",
      "text/plain": [
       "<IPython.core.display.Javascript object>"
      ]
     },
     "metadata": {},
     "output_type": "display_data"
    }
   ],
   "source": [
    "%%js \n",
    "let gambling = Math.round(100 * Math.random()) //Random integer from 0 to 100. Math.round just takes the decimal produced by Math.random and rounds it for you (crazy I know).\n",
    "let gamblingTalk = `Let's see how you did! ...${gambling}... Nice!`//Use graves and ${} to make gamblingTalk contain the random number, along with a message.\n",
    "\n",
    "console.log(gamblingTalk); //Print gamblingTalk."
   ]
  },
  {
   "cell_type": "markdown",
   "metadata": {},
   "source": [
    "Lastly, here's a quick way to learn the difference between =, ==, and ===."
   ]
  },
  {
   "cell_type": "code",
   "execution_count": 12,
   "metadata": {
    "vscode": {
     "languageId": "javascript"
    }
   },
   "outputs": [
    {
     "data": {
      "application/javascript": "let m1 = \"1\"; //Note the data types present in these two variables. This is a string.\nlet m2 = 1; //This is a number.\nconsole.log(m1 == m2);\n//Use a loose equality and see what the computer thinks about m1 and m2.\nconsole.log(m1 === m2);\n//Use a strict equality and see what the computer says. Why are your results different?\n",
      "text/plain": [
       "<IPython.core.display.Javascript object>"
      ]
     },
     "metadata": {},
     "output_type": "display_data"
    }
   ],
   "source": [
    "%%js\n",
    "let m1 = \"1\"; //Note the data types present in these two variables. This is a string.\n",
    "let m2 = 1; //This is a number.\n",
    "console.log(m1 == m2);\n",
    "//Use a loose equality and see what the computer thinks about m1 and m2.\n",
    "console.log(m1 === m2);\n",
    "//Use a strict equality and see what the computer says. Why are your results different?"
   ]
  },
  {
   "cell_type": "markdown",
   "metadata": {},
   "source": [
    "<h2>Exercise 4:</h2><br>\n",
    "Here, a Math.random function creates a number from 0 to 1. Using the conditional set up for you and your knowledge of booleans, create a system that checks if the number created is greater than 0.7."
   ]
  },
  {
   "cell_type": "code",
   "execution_count": 18,
   "metadata": {
    "vscode": {
     "languageId": "javascript"
    }
   },
   "outputs": [
    {
     "data": {
      "application/javascript": "let isGreaterThan = false; //What should this be defined as by default?\nlet randomNum = Math.random(); //Makes a random number.\nif (randomNum > 0.7) { //Put something in the parentheses to check if the random number is over 0.7.\n    isGreaterThan = true;\n} \nconsole.log(isGreaterThan); //Output the value of isGreaterThan\n\n//Run this a few times, and see if you get a mix of true and false outputs.\n",
      "text/plain": [
       "<IPython.core.display.Javascript object>"
      ]
     },
     "metadata": {},
     "output_type": "display_data"
    }
   ],
   "source": [
    "%%js\n",
    "let isGreaterThan = false; //What should this be defined as by default?\n",
    "let randomNum = Math.random(); //Makes a random number.\n",
    "if (randomNum > 0.7) { //Put something in the parentheses to check if the random number is over 0.7.\n",
    "    isGreaterThan = true;\n",
    "} \n",
    "console.log(isGreaterThan); //prints if the random number was or wasn't greater than 0.7\n",
    "\n",
    "//Run this a few times, and see if you get a mix of true and false outputs."
   ]
  },
  {
   "cell_type": "markdown",
   "metadata": {},
   "source": [
    "<h2>Exercise 5:</h2><br>\n",
    "- Fix this code to correctly output the type of data message1 is.\n",
    "- In code, undefined and null are not used intentionally very often. This exercise is an example on why it is useful: since message1 is not defined, you can check this with console.log(). If this results in an undefined output, you can go change the variable to be correctly defined."
   ]
  },
  {
   "cell_type": "code",
   "execution_count": 20,
   "metadata": {
    "vscode": {
     "languageId": "javascript"
    }
   },
   "outputs": [
    {
     "data": {
      "application/javascript": "//This is a very open-ended exercise. What type of variable to you want message1 to be? Depending on your answer, \n// you will define message1 differently, likely with a different name (like score or isAlive).\nlet message1 = \"whattt\"; //Change this, go nuts.\nconsole.log(message1); //Output the variable.\nconsole.log(typeof message1); //Output its type.\n",
      "text/plain": [
       "<IPython.core.display.Javascript object>"
      ]
     },
     "metadata": {},
     "output_type": "display_data"
    }
   ],
   "source": [
    "%%js\n",
    "//This is a very open-ended exercise. What type of variable to you want message1 to be? Depending on your answer, \n",
    "// you will define message1 differently, likely with a different name (like score or isAlive).\n",
    "let message1 = \"whattt\"; //Change this, go nuts.\n",
    "console.log(message1); //Output the variable.\n",
    "console.log(typeof message1); //Output its type."
   ]
  },
  {
   "cell_type": "markdown",
   "metadata": {},
   "source": [
    "<h2>Exercise 6:</h2><br>\n",
    "Create a bigInt with a value of your choosing. Check to make sure it's a big enough number. The highest number in JS is 9007199254740990, and can be referenced with the property Number.MAX_SAFE_INTEGER."
   ]
  },
  {
   "cell_type": "code",
   "execution_count": 26,
   "metadata": {
    "vscode": {
     "languageId": "javascript"
    }
   },
   "outputs": [
    {
     "data": {
      "application/javascript": "let bigNumber = 10298766326788652775432n//Pick a big number. End it with n to make sure it's a bigInt type of variable.\nlet x = Number.MAX_SAFE_INTEGER;\nconsole.log(bigNumber > x); //Check to make sure your number is big enough (so, bigger than x). You're looking for a \"true\" output.\nconsole.log(bigNumber); //Big number go brrrrr\n",
      "text/plain": [
       "<IPython.core.display.Javascript object>"
      ]
     },
     "metadata": {},
     "output_type": "display_data"
    }
   ],
   "source": [
    "%%js\n",
    "let bigNumber = 10298766326788652775432n//Pick a big number. End it with n to make sure it's a bigInt type of variable.\n",
    "let x = Number.MAX_SAFE_INTEGER;\n",
    "console.log(bigNumber > x); //Check to make sure your number is big enough (so, bigger than x). You're looking for a \"true\" output.\n",
    "console.log(bigNumber); //Big number go brrrrr"
   ]
  },
  {
   "cell_type": "markdown",
   "metadata": {},
   "source": [
    "<h2>Exercise 7:</h2><br>\n",
    "- Create a \"player\" object with as many properties as you can think of. A minimum of 5 properties and at least 3 different types of variables must be used to complete this exercise.\n",
    "- After this, print 2 of those variables. One has already been done for you, and the other started. Lastly, change the player's health and print it again."
   ]
  },
  {
   "cell_type": "code",
   "execution_count": 30,
   "metadata": {
    "vscode": {
     "languageId": "javascript"
    }
   },
   "outputs": [
    {
     "data": {
      "application/javascript": "//A few variables are included for you already, fill the rest in on your own.\nlet player = {\n    name: \"yasnaaa459\", //Replace with your name/gamertag.\n    health: 60, //commas between every term, except the last one.\n    color: \"blue\",\n    weapon: \"machete\",\n    score: 54000009000,\n    isAlive: true,\n\n};\n//Reference your parts here. Add one final console.log() and just print player. See what happens.\nconsole.log(player.name);\nconsole.log(player.color);\nconsole.log(player.weapon);\n\n//Change and reference player's health\nplayer.health = 10;\nconsole.log(player.health); //new health \n",
      "text/plain": [
       "<IPython.core.display.Javascript object>"
      ]
     },
     "metadata": {},
     "output_type": "display_data"
    }
   ],
   "source": [
    "%%js\n",
    "//A few variables are included for you already, fill the rest in on your own.\n",
    "let player = {\n",
    "    name: \"yasnaaa459\", //Replace with your name/gamertag.\n",
    "    health: 60, //commas between every term, except the last one.\n",
    "    color: \"blue\",\n",
    "    weapon: \"machete\",\n",
    "    score: 54000009000,\n",
    "    isAlive: true,\n",
    "\n",
    "};\n",
    "//Reference your parts here. Add one final console.log() and just print player. See what happens.\n",
    "console.log(player.name);\n",
    "console.log(player.color);\n",
    "console.log(player.weapon);\n",
    "\n",
    "//Change and reference player's health\n",
    "player.health = 10;\n",
    "console.log(player.health); //new health "
   ]
  },
  {
   "cell_type": "markdown",
   "metadata": {},
   "source": [
    "<h2>Exercise 8:</h2><br>\n",
    "Create a \"user\" object with a password variable as a symbol. Other than that, customize the object similarly to the previous exercise (Minimum of 5 variables, minimum of 3 types). There's a nifty little bonus at the bottom of this exercise which shows the power of symbols."
   ]
  },
  {
   "cell_type": "code",
   "execution_count": 33,
   "metadata": {
    "vscode": {
     "languageId": "javascript"
    }
   },
   "outputs": [
    {
     "data": {
      "application/javascript": "const password = Symbol(); //Defines the password symbol. It's okay to leave his empty, as you will assign the symbol a value in the object.\nconst backupPassword = Symbol(); \nlet user ={\n    [password]: \"skylineTo\", //Assign the symbol a value here. \n    [backupPassword]: \"skylineTo54\",  //Assign your backup password a value. Make this the same as your default password.\n    username: \"yasnaaa459\", //Fill in the rest of the object's properties. Replace this username with your own.\n\n}\n//Referencing symbols looks like this:\nconsole.log(user.[password]); // Outputs the value of \"firstpassword\" you assigned earlier.\nconsole.log(user.[backupPassword]); // Outputs the value of \"secondbackupPassword\".\nconsole.log(user.username); // \n//This outputs the value of \"password\" you assigned earlier.\n",
      "text/plain": [
       "<IPython.core.display.Javascript object>"
      ]
     },
     "metadata": {},
     "output_type": "display_data"
    }
   ],
   "source": [
    "%%js \n",
    "const password = Symbol(); //Defines the password symbol. It's okay to leave his empty, as you will assign the symbol a value in the object.\n",
    "const backupPassword = Symbol(); \n",
    "let user = {\n",
    "    [password]: \"skylineTo\", //Assign the symbol a value here. \n",
    "    [backupPassword]: \"skylineTo54\",  //Assign your backup password a value. Make this the same as your default password.\n",
    "    username: \"yasnaaa459\", //Fill in the rest of the object's properties. Replace this username with your own.\n",
    "\n",
    "}\n",
    "//Referencing symbols looks like this:\n",
    "console.log(user.[password]); // outputs og password\n",
    "console.log(user.[backupPassword]); // outputs backup passwordd\n",
    "console.log(user.username); // \n",
    "//This outputs the value of \"password\" you assigned earlier."
   ]
  },
  {
   "cell_type": "markdown",
   "metadata": {},
   "source": [
    "<h2>Lesson 2, Exercise 1:</h2>\n",
    "<b1>\n",
    "btw, classes are thing that you will learn later. I'm not explaining them now jus roll with it\n",
    "</b1>"
   ]
  },
  {
   "cell_type": "markdown",
   "metadata": {},
   "source": [
    "Imagine this: you have a brand-spankin' shiny new game that you made, and you want to keep track of how many players you have. Using context clues and my helpful comments, fill in the blanks."
   ]
  },
  {
   "cell_type": "markdown",
   "metadata": {},
   "source": [
    "Next, try and see if you can make the player number increase."
   ]
  },
  {
   "cell_type": "code",
   "execution_count": 37,
   "metadata": {
    "vscode": {
     "languageId": "javascript"
    }
   },
   "outputs": [
    {
     "data": {
      "application/javascript": "class Player {\n    static totalPlayers = 0 //Hmm I wonder what the constant, \"global\" variable could be in this context (pick from either totalPlayers or name)\n\n    constructor(name) {\n        this.name = name // I wonder what name could be\n        this.id = ++Player.totalPlayers\n    }\n\n    static getTotalPlayers() { // this is the thing that will give you the number of players\n        return Player.totalPlayers\n    }\n}\nconst player1 = new Player(\"yasnaaa459\")\nconst player2 = new Player(\"carl34\")\nconst player3 = new Player(\"jen99\")\n// I wonder if making new players would increase the player count\n\nconsole.log(Player.getTotalPlayers()) // you want to print the *function* that will give you the player numbers.\n",
      "text/plain": [
       "<IPython.core.display.Javascript object>"
      ]
     },
     "metadata": {},
     "output_type": "display_data"
    }
   ],
   "source": [
    "%%js \n",
    "class Player {\n",
    "    static totalPlayers = 0 //Hmm I wonder what the constant, \"global\" variable could be in this context (pick from either totalPlayers or name)\n",
    "\n",
    "    constructor(name) {\n",
    "        this.name = name // I wonder what name could be\n",
    "        this.id = ++Player.totalPlayers\n",
    "    }\n",
    "\n",
    "    static getTotalPlayers() { // this is the thing that will give you the number of players\n",
    "        return Player.totalPlayers\n",
    "    }\n",
    "}\n",
    "const player1 = new Player(\"yasnaaa459\")\n",
    "const player2 = new Player(\"carl34\")\n",
    "const player3 = new Player(\"jen99\")\n",
    "// I wonder if making new players would increase the player count\n",
    "\n",
    "console.log(Player.getTotalPlayers()) // you want to print the *function* that will give you the player numbers."
   ]
  },
  {
   "cell_type": "markdown",
   "metadata": {},
   "source": [
    "<h2>Exercise Dos</h2>"
   ]
  },
  {
   "cell_type": "code",
   "execution_count": 45,
   "metadata": {
    "vscode": {
     "languageId": "javascript"
    }
   },
   "outputs": [
    {
     "data": {
      "application/javascript": "class Car {\n    constructor(color, model) {\n        this.color = color;    // Instance variable\n        this.model = model; //Set up another instanced variable\n    }\n}\n\nconst car1 = new Car(\"Blue \", \"1949 Delahaye 175 S Saoutchik Roadster\");\nconst car2 = new Car(\"Black \", \"2009 Toyota Camry\");\nconst car3 = new Car(\"Grey \", \"2020 Hyundai SantaFe\")\n\nconsole.log(car1.color + car1.model);  // Prints car colors and models. Make sure to reference the instanced variable here.\nconsole.log(car2.color + car2.model); \nconsole.log(car3.color + car3.model);\n\ncar2.color = \"White \"; \ncar3.color = \"Navy \";\nconsole.log(car2.color + car2.model);  // Logs changes.\nconsole.log(car3.color + car3.model);  // No change from earlier.\n",
      "text/plain": [
       "<IPython.core.display.Javascript object>"
      ]
     },
     "metadata": {},
     "output_type": "display_data"
    }
   ],
   "source": [
    "%%js\n",
    "class Car {\n",
    "    constructor(color, model) {\n",
    "        this.color = color;    // Instance variable\n",
    "        this.model = model; //Set up another instanced variable\n",
    "    }\n",
    "}\n",
    "\n",
    "const car1 = new Car(\"Blue \", \"1949 Delahaye 175 S Saoutchik Roadster\");\n",
    "const car2 = new Car(\"Black \", \"2009 Toyota Camry\");\n",
    "const car3 = new Car(\"Grey \", \"2020 Hyundai SantaFe\")\n",
    "\n",
    "console.log(car1.color + car1.model);  // Prints car colors and models. Make sure to reference the instanced variable here.\n",
    "console.log(car2.color + car2.model); \n",
    "console.log(car3.color + car3.model);\n",
    "\n",
    "car2.color = \"White \"; \n",
    "car3.color = \"Navy \";\n",
    "console.log(car2.color + car2.model);  // Logs changes.\n",
    "console.log(car3.color + car3.model);  // No change from earlier."
   ]
  }
 ],
 "metadata": {
  "kernelspec": {
   "display_name": "venv",
   "language": "python",
   "name": "python3"
  },
  "language_info": {
   "codemirror_mode": {
    "name": "ipython",
    "version": 3
   },
   "file_extension": ".py",
   "mimetype": "text/x-python",
   "name": "python",
   "nbconvert_exporter": "python",
   "pygments_lexer": "ipython3",
   "version": "3.13.1"
  }
 },
 "nbformat": 4,
 "nbformat_minor": 2
}
