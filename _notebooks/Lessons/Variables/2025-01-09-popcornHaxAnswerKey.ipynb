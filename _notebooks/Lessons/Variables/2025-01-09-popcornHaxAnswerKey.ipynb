{
 "cells": [
  {
   "cell_type": "raw",
   "metadata": {
    "vscode": {
     "languageId": "raw"
    }
   },
   "source": [
    "---\n",
    "layout: post\n",
    "title: Variables Popcorn Hax Answer Key\n",
    "description: Examples of correct answers for the Popcorn Hax Page.\n",
    "type: collab\n",
    "comments: false\n",
    "categories: [CSSE JavaScript Fundamentals]\n",
    "permalink: /csse/lessons/variables/popcornHaxAnswerKey\n",
    "---"
   ]
  },
  {
   "cell_type": "markdown",
   "metadata": {},
   "source": [
    "<h1>Popcorn Hax Answer Key</h1>\n",
    "- This file contains example answers for all the Hax. There are many right answers to every question, so don't panic if your answer does not exactly match ours. If it gets to the same endpoint, it's all good."
   ]
  },
  {
   "cell_type": "markdown",
   "metadata": {},
   "source": [
    "<h2>Exercise 1:</h2>"
   ]
  },
  {
   "cell_type": "code",
   "execution_count": 1,
   "metadata": {
    "vscode": {
     "languageId": "javascript"
    }
   },
   "outputs": [
    {
     "data": {
      "application/javascript": "//On this line, define charHealth.\nlet charHealth = 100.0;\n//Run the command to print charHealth's value here.\nconsole.log(charHealth);\n//Run the command to check the type of variable here.\nconsole.log(typeof charHealth);\n",
      "text/plain": [
       "<IPython.core.display.Javascript object>"
      ]
     },
     "metadata": {},
     "output_type": "display_data"
    }
   ],
   "source": [
    "%%js\n",
    "//On this line, define charHealth.\n",
    "let charHealth = 100.0;\n",
    "//Run the command to print charHealth's value here.\n",
    "console.log(charHealth);\n",
    "//Expected output: 100.0\n",
    "\n",
    "//Run the command to check the type of variable here.\n",
    "console.log(typeof charHealth);\n",
    "//Expected output: number"
   ]
  },
  {
   "cell_type": "markdown",
   "metadata": {},
   "source": [
    "<h2>Exercise 2:</h2>"
   ]
  },
  {
   "cell_type": "code",
   "execution_count": 7,
   "metadata": {
    "vscode": {
     "languageId": "javascript"
    }
   },
   "outputs": [
    {
     "data": {
      "application/javascript": "//Define variables up here. Make sure they are both either float or integer values.\nlet charHealth = 100.0;\nconst damage = 13.5;\n//Update charHealth after the player has taken damage. The character should lose health relative to damage taken.\ncharHealth -= damage;\nconsole.log(charHealth);\n",
      "text/plain": [
       "<IPython.core.display.Javascript object>"
      ]
     },
     "metadata": {},
     "output_type": "display_data"
    }
   ],
   "source": [
    "%%js\n",
    "//Define variables up here. Make sure they are both numbers.\n",
    "let charHealth = 100.0;\n",
    "const damage = 13.5;\n",
    "\n",
    "//Note: const used for damage here for no particular reason other than some basic logic: health is a dynamically changing variable, \n",
    "//but this source of damage is just there as a constant, meant to change health by a certain amount.\n",
    "\n",
    "//Update charHealth after the player has taken damage. The character should lose health relative to damage taken. Print your results.\n",
    "charHealth -= damage;\n",
    "console.log(charHealth);\n",
    "//Expected output: 86.5"
   ]
  },
  {
   "cell_type": "markdown",
   "metadata": {},
   "source": [
    "<h2>Exercise 3:</h2>"
   ]
  },
  {
   "cell_type": "code",
   "execution_count": null,
   "metadata": {
    "vscode": {
     "languageId": "javascript"
    }
   },
   "outputs": [
    {
     "data": {
      "application/javascript": "//Define variables and combine them here\nlet msg1 = \"Hello, world!\";\nlet msg2 = \", world!\";\nlet finalMessage = msg1 - msg2;\n//Print results here.\nconsole.log(finalMessage);\n",
      "text/plain": [
       "<IPython.core.display.Javascript object>"
      ]
     },
     "metadata": {},
     "output_type": "display_data"
    }
   ],
   "source": [
    "%%js\n",
    "//Define variables and combine them here\n",
    "let messagePart1 = \"Hello, \";\n",
    "let messagePart2 = \"world!\"\n",
    "let finalMessage = messagePart1 + messagePart2;\n",
    "//Print results here.\n",
    "console.log(finalMessage);\n",
    "//Expected output: Hello, world!"
   ]
  },
  {
   "cell_type": "code",
   "execution_count": 3,
   "metadata": {
    "vscode": {
     "languageId": "javascript"
    }
   },
   "outputs": [
    {
     "data": {
      "application/javascript": "let m1 = \"Hello, \";\nlet m2 = \"world!\"; //Edit this \nif (m1 + m2 === \"Hello, world!\"){\n    console.log(\"You have successfully manipulated these strings! Good Job!\");\n} else {\n    console.log(\"Failed to match strings. Try again.\");\n}\nconsole.log(m1 + m2);\n\n//Alternatively, you could have made m1 and m2 something like this:\nm1 = \"Hello, world!\";\nm2 = \"world!\"; //Edit this \nif (m1 - m2 === \"Hello, world!\"){\n    console.log(\"You have successfully manipulated these strings! Good Job!\");\n} else {\n    console.log(\"Failed to match strings. Try again.\");\n}\n\nconsole.log(m1 - m2); //Still outputs the same thing as the old version. As long as the combined version is \"Hello, world!\" this will work.\n",
      "text/plain": [
       "<IPython.core.display.Javascript object>"
      ]
     },
     "metadata": {},
     "output_type": "display_data"
    }
   ],
   "source": [
    "%%js\n",
    "let m1 = \"Hello, \";\n",
    "let m2 = \"world!\"; \n",
    "if (m1 + m2 === \"Hello, world!\"){\n",
    "    console.log(\"You have successfully manipulated these strings! Good Job!\");\n",
    "} else {\n",
    "    console.log(\"Failed to match strings. Try again.\");\n",
    "}\n",
    "console.log(m1 + m2);\n",
    "\n",
    "//Alternatively, you could have made m1 and m2 something like this:\n",
    "m1 = \"Hello, world\";\n",
    "m2 = \"!\";  \n",
    "if (m1 + m2 === \"Hello, world!\"){\n",
    "    console.log(\"You have successfully manipulated these strings! Good Job!\");\n",
    "} else {\n",
    "    console.log(\"Failed to match strings. Try again.\");\n",
    "}\n",
    "\n",
    "console.log(m1 + m2); //Still outputs the same thing as the old version. As long as the combined version is \"Hello, world!\" this will work."
   ]
  },
  {
   "cell_type": "code",
   "execution_count": 17,
   "metadata": {
    "vscode": {
     "languageId": "javascript"
    }
   },
   "outputs": [
    {
     "data": {
      "application/javascript": "let gambling = Math.round(100 * Math.random()) //Random integer from 0 to 100\nlet gamblingTalk = `Let's go gambling! CHK-CHK-CHK-${gambling}! Aww dangit` //funny meme\n\nconsole.log(gamblingTalk); //Prints gamblingTalk.\n",
      "text/plain": [
       "<IPython.core.display.Javascript object>"
      ]
     },
     "metadata": {},
     "output_type": "display_data"
    }
   ],
   "source": [
    "%%js \n",
    "let gambling = Math.round(100 * Math.random()) \n",
    "let gamblingTalk = `Let's go gambling! CHK-CHK-CHK-${gambling}! Aww, dang it` //funny meme :3\n",
    "console.log(gamblingTalk); //Prints result."
   ]
  },
  {
   "cell_type": "code",
   "execution_count": null,
   "metadata": {
    "vscode": {
     "languageId": "javascript"
    }
   },
   "outputs": [],
   "source": [
    "%%js\n",
    "let m1 = \"1\"; //This is a string.\n",
    "let m2 = 1; //This is a number.\n",
    "console.log(m1 == m2);\n",
    "//True due to loose being, well, loose (and only checking content).\n",
    "console.log(m1 === m2);\n",
    "//False due to strict equality checking for type as well as content."
   ]
  },
  {
   "cell_type": "markdown",
   "metadata": {},
   "source": [
    "<h2>Exercise 4:</h2>"
   ]
  },
  {
   "cell_type": "code",
   "execution_count": 16,
   "metadata": {
    "vscode": {
     "languageId": "javascript"
    }
   },
   "outputs": [
    {
     "data": {
      "application/javascript": "let isGreaterThan = false; //By default, this is false. That means if the program doesn't change it, \n                           //it will stay false and output false (which is what we want).\nlet randomNum = Math.random(); //Random number\nif (randomNum > 0.7) { \n    isGreaterThan = true;\n} \nconsole.log(isGreaterThan); //Outputs the value of isGreaterThan\n\n//Should get true and false values (though more false than true).\n",
      "text/plain": [
       "<IPython.core.display.Javascript object>"
      ]
     },
     "metadata": {},
     "output_type": "display_data"
    }
   ],
   "source": [
    "%%js\n",
    "let isGreaterThan = false; //By default, this is false. That means if the program doesn't change it, \n",
    "                           //it will stay false and output false (which is what we want).\n",
    "let randomNum = Math.random(); //Random number\n",
    "if (randomNum > 0.7) { \n",
    "    isGreaterThan = true;\n",
    "} \n",
    "console.log(isGreaterThan); //Outputs the value of isGreaterThan\n",
    "\n",
    "//Should get true and false values (though more false than true).\n"
   ]
  },
  {
   "cell_type": "markdown",
   "metadata": {},
   "source": [
    "<h2>Exercise 5</h2>"
   ]
  },
  {
   "cell_type": "code",
   "execution_count": null,
   "metadata": {
    "vscode": {
     "languageId": "javascript"
    }
   },
   "outputs": [
    {
     "data": {
      "application/javascript": "//This is a very open-ended exercise. What type of variable to you want message1 to be? Depending on your answer, you will define message1 differently.\nlet message1; //Change this.\nconsole.log(message1);\nconsole.log(typeof message1);\n",
      "text/plain": [
       "<IPython.core.display.Javascript object>"
      ]
     },
     "metadata": {},
     "output_type": "display_data"
    }
   ],
   "source": [
    "%%js\n",
    "// We will have several possible answers in the following cells. \n",
    "// If you kept the variable as message1, it makes sense to use a string. Otherwise, go nuts variable-wise.\n",
    "let message1 = 16; \n",
    "console.log(message1);\n",
    "console.log(typeof message1);"
   ]
  },
  {
   "cell_type": "code",
   "execution_count": null,
   "metadata": {
    "vscode": {
     "languageId": "javascript"
    }
   },
   "outputs": [],
   "source": [
    "%%js\n",
    "let message1 = \"Hi Guys!\";\n",
    "console.log(message1);\n",
    "console.log(typeof message1);"
   ]
  },
  {
   "cell_type": "code",
   "execution_count": null,
   "metadata": {
    "vscode": {
     "languageId": "javascript"
    }
   },
   "outputs": [],
   "source": [
    "%%js\n",
    "let isTouchingGround = false;\n",
    "console.log(isTouchingGround);\n",
    "console.log(typeof isTouchingGround);"
   ]
  },
  {
   "cell_type": "markdown",
   "metadata": {},
   "source": [
    "<h2>Exercise 6:</h2>"
   ]
  },
  {
   "cell_type": "code",
   "execution_count": 18,
   "metadata": {
    "vscode": {
     "languageId": "javascript"
    }
   },
   "outputs": [
    {
     "data": {
      "application/javascript": "let bigNumber = 9009009009009009009n\nlet x = Number.MAX_SAFE_INTEGER;\nconsole.log(bigNumber > x); //Check to make sure your number is big enough. You're looking for a \"true\" output.\nconsole.log(bigNumber);\n",
      "text/plain": [
       "<IPython.core.display.Javascript object>"
      ]
     },
     "metadata": {},
     "output_type": "display_data"
    }
   ],
   "source": [
    "%%js\n",
    "let bigNumber = 9009009009009009009n\n",
    "let x = Number.MAX_SAFE_INTEGER;\n",
    "console.log(bigNumber > x); //Check to make sure your number is big enough. You're looking for a \"true\" output.\n",
    "console.log(bigNumber);"
   ]
  },
  {
   "cell_type": "markdown",
   "metadata": {},
   "source": [
    "<h2>Exercise 7:</h2>"
   ]
  },
  {
   "cell_type": "code",
   "execution_count": null,
   "metadata": {
    "vscode": {
     "languageId": "javascript"
    }
   },
   "outputs": [],
   "source": [
    "%%js\n",
    "let player = {\n",
    "    name: \"pika43\", \n",
    "    health: 25,\n",
    "    weapon = \"Night's Edge\"\n",
    "    score = 10000000000 //Ten billion\n",
    "    howManyIvy = 500\n",
    "    isAlive = true\n",
    "};\n",
    "\n",
    "console.log(player.name);\n",
    "console.log(player.weapon);\n",
    "\n",
    "player.health = 1;\n",
    "console.log(player.health); //Ouch"
   ]
  },
  {
   "cell_type": "markdown",
   "metadata": {},
   "source": [
    "<h2>Exercise 8:</h2>"
   ]
  },
  {
   "cell_type": "code",
   "execution_count": null,
   "metadata": {
    "vscode": {
     "languageId": "javascript"
    }
   },
   "outputs": [],
   "source": [
    "%%js \n",
    "const password = Symbol();\n",
    "const backupPassword = Symbol();\n",
    "let user ={\n",
    "    [password]: \"IL0V3C0DING\"\n",
    "    [backupPassword]:  \"IL0V3C0DING\"\n",
    "    username: \"pika43\" //Fill in the rest of the object's properties. Replace this username with your own.\n",
    "\n",
    "}\n",
    "//Referencing symbols looks like this:\n",
    "console.log(user[password]);\n",
    "//This outputs the value of \"password\" you assigned earlier.\n"
   ]
  },
  {
   "cell_type": "code",
   "execution_count": null,
   "metadata": {
    "vscode": {
     "languageId": "javascript"
    }
   },
   "outputs": [],
   "source": [
    "//Bonus!\n",
    "console.log(\"v THE POWER OF SYMBOLS v\"); //THE POWER OF SYMBOLS\n",
    "\n",
    "const enemy1Damage = 15;\n",
    "const enemy2MaxHealth = 15;\n",
    "console.log (enemy1Damage === enemy2MaxHealth);\n",
    "//This will output true, since both variables are numbers with the same value. \n",
    "//With constants that are used for different reasons, this can be a problem. \n",
    "//You wouldn't subtract an enemy's max health from your to deal damage! What if you need these two to be unique?\n",
    "\n",
    "const symbol1 = Symbol(\"Epic and Unique!\");\n",
    "const symbol2 = Symbol(\"Epic and Unique!\");\n",
    "console.log(symbol1 === symbol2);\n",
    "//This, surprisingly, will output false. This is because each of these symbols are fully, entirely unique. \n",
    "//Even though both are symbol type variables with the same value stored inside them, the computer recognizes these both as unique items since they are different symbols."
   ]
  },
  {
   "cell_type": "markdown",
   "metadata": {},
   "source": [
    "<h2>Lesson 2, Exercise 1</h2>"
   ]
  },
  {
   "cell_type": "code",
   "execution_count": 2,
   "metadata": {
    "vscode": {
     "languageId": "javascript"
    }
   },
   "outputs": [
    {
     "data": {
      "application/javascript": "class Player {\n    static totalPlayers = 0 //hmm I wonder if this blank might have anything to do with line 4 after the .\n\n    constructor(name) {\n        this.name = name // i wonder what name could be\n        this.id = ++Player.totalPlayers\n    }\n\n    static getTotalPlayers() { // this is the thing that will give you the number of players. remember to put a Player. in front\n        return Player.totalPlayers\n    }\n}\nconst player1 = new Player(\"RedIsSus\")\nconst player2 = new Player(\"Jimmy\")\n// I wonder if making new players would increase the player count\n\nconsole.log(Player.getTotalPlayers()) // you want to print the *function* that will give you the player numbers\n",
      "text/plain": [
       "<IPython.core.display.Javascript object>"
      ]
     },
     "metadata": {},
     "output_type": "display_data"
    }
   ],
   "source": [
    "%%js \n",
    "class Player {\n",
    "    static totalPlayers = 0 //hmm I wonder if this blank might have anything to do with line 4 after the .\n",
    "\n",
    "    constructor(name) {\n",
    "        this.name = name // i wonder what name could be\n",
    "        this.id = ++Player.totalPlayers\n",
    "    }\n",
    "\n",
    "    static getTotalPlayers() { // this is the thing that will give you the number of players. remember to put a Player. in front\n",
    "        return Player.totalPlayers\n",
    "    }\n",
    "}\n",
    "const player1 = new Player(\"RedIsSus\")\n",
    "const player2 = new Player(\"Jimmy\")\n",
    "// I wonder if making new players would increase the player count\n",
    "\n",
    "console.log(Player.getTotalPlayers()) // you want to print the *function* that will give you the player numbers"
   ]
  },
  {
   "cell_type": "markdown",
   "metadata": {},
   "source": [
    "<h2>Exercise dos<h2>"
   ]
  },
  {
   "cell_type": "code",
   "execution_count": 5,
   "metadata": {
    "vscode": {
     "languageId": "javascript"
    }
   },
   "outputs": [
    {
     "data": {
      "application/javascript": "class Car {\n    constructor(color, model) {\n        this.color = color;    // Instance variable\n        this.model = model;\n    }\n}\n\nconst car1 = new Car(\"Red \", \"2006 Nissan Murano\");\nconst car2 = new Car(\"Blue \", \"2019 Toyota Corolla\");\n\nconsole.log(car1.color + car1.model);  // Prints car colors and models.\nconsole.log(car2.color + car2.model);  \n\ncar1.color = \"Yellow \";    // Only changes car1.\nconsole.log(car1.color + car1.model);  // Logs changes.\nconsole.log(car2.color + car2.model);  // No change from earlier.\n",
      "text/plain": [
       "<IPython.core.display.Javascript object>"
      ]
     },
     "metadata": {},
     "output_type": "display_data"
    }
   ],
   "source": [
    "%%js\n",
    "class Car {\n",
    "    constructor(color, model) {\n",
    "        this.color = color;    // Instance variable\n",
    "        this.model = model;\n",
    "    }\n",
    "}\n",
    "\n",
    "const car1 = new Car(\"Red \", \"2006 Nissan Murano\");\n",
    "const car2 = new Car(\"Blue \", \"2019 Toyota Corolla\");\n",
    "\n",
    "console.log(car1.color + car1.model);  // Prints car colors and models.\n",
    "console.log(car2.color + car2.model);  \n",
    "\n",
    "car1.color = \"Yellow \";    // Only changes car1.\n",
    "console.log(car1.color + car1.model);  // Logs changes.\n",
    "console.log(car2.color + car2.model);  // No change from earlier."
   ]
  }
 ],
 "metadata": {
  "kernelspec": {
   "display_name": "test2",
   "language": "python",
   "name": "python3"
  },
  "language_info": {
   "codemirror_mode": {
    "name": "ipython",
    "version": 3
   },
   "file_extension": ".py",
   "mimetype": "text/x-python",
   "name": "python",
   "nbconvert_exporter": "python",
   "pygments_lexer": "ipython3",
   "version": "3.13.1"
  }
 },
 "nbformat": 4,
 "nbformat_minor": 2
}
